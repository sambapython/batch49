{
 "cells": [
  {
   "cell_type": "code",
   "execution_count": 1,
   "metadata": {},
   "outputs": [
    {
     "name": "stdout",
     "output_type": "stream",
     "text": [
      "1,anil kuma, 9676622023,anil@gmail.com\n",
      "2,JAY, 9676622024,JAY@yahoo.com\n",
      "3,vedha, 9676622025,Vedha1@gmail.com\n",
      "4,pavan, 9676622026,Pavan123@rediff.co.in\n",
      "\n"
     ]
    }
   ],
   "source": [
    "data=\"1,anil kuma, 9676622023,anil@gmail.com\\n\\\n",
    "2,JAY, 9676622024,JAY@yahoo.com\\n\\\n",
    "3,vedha, 9676622025,Vedha1@gmail.com\\n\\\n",
    "4,pavan, 9676622026,Pavan123@rediff.co.in\\n\"\n",
    "print data"
   ]
  },
  {
   "cell_type": "code",
   "execution_count": 2,
   "metadata": {},
   "outputs": [
    {
     "name": "stdout",
     "output_type": "stream",
     "text": [
      "1,anil kuma, 9676622023,anil@gmail.com\n",
      "2,JAY, 9676622024,JAY@yahoo.com\n",
      "3,vedha, 9676622025,Vedha1@gmail.com\n",
      "4,pavan, 9676622026,Pavan123@rediff.co.in\n",
      "\n",
      "1,anil kuma, 9676622023,anil@gmail.com\n",
      "2,JAY, 9676622024,JAY@yahoo.com\n",
      "3,vedha, 9676622025,Vedha1@gmail.com\n",
      "4,pavan, 9676622026,Pavan123@rediff.co.in\n"
     ]
    }
   ],
   "source": [
    "data=\"1,anil kuma, 9676622023,anil@gmail.com\\n\\\n",
    "2,JAY, 9676622024,JAY@yahoo.com\\n\\\n",
    "3,vedha, 9676622025,Vedha1@gmail.com\\n\\\n",
    "4,pavan, 9676622026,Pavan123@rediff.co.in\\n\"\n",
    "print data\n",
    "for row in data.splitlines():\n",
    "    print row"
   ]
  },
  {
   "cell_type": "code",
   "execution_count": 3,
   "metadata": {},
   "outputs": [
    {
     "name": "stdout",
     "output_type": "stream",
     "text": [
      "1,anil kuma, 9676622023,anil@gmail.com\n",
      "2,JAY, 9676622024,JAY@yahoo.com\n",
      "3,vedha, 9676622025,Vedha1@gmail.com\n",
      "4,pavan, 9676622026,Pavan123@rediff.co.in\n",
      "\n",
      "['1', 'anil kuma', ' 9676622023', 'anil@gmail.com']\n",
      "['2', 'JAY', ' 9676622024', 'JAY@yahoo.com']\n",
      "['3', 'vedha', ' 9676622025', 'Vedha1@gmail.com']\n",
      "['4', 'pavan', ' 9676622026', 'Pavan123@rediff.co.in']\n"
     ]
    }
   ],
   "source": [
    "data=\"1,anil kuma, 9676622023,anil@gmail.com\\n\\\n",
    "2,JAY, 9676622024,JAY@yahoo.com\\n\\\n",
    "3,vedha, 9676622025,Vedha1@gmail.com\\n\\\n",
    "4,pavan, 9676622026,Pavan123@rediff.co.in\\n\"\n",
    "print data\n",
    "for row in data.splitlines():\n",
    "    print row.split(\",\")"
   ]
  },
  {
   "cell_type": "code",
   "execution_count": 4,
   "metadata": {},
   "outputs": [
    {
     "name": "stdout",
     "output_type": "stream",
     "text": [
      "1,anil kuma, 9676622023,anil@gmail.com\n",
      "2,JAY, 9676622024,JAY@yahoo.com\n",
      "3,vedha, 9676622025,Vedha1@gmail.com\n",
      "4,pavan, 9676622026,Pavan123@rediff.co.in\n",
      "\n",
      "1\n",
      "2\n",
      "3\n",
      "4\n"
     ]
    }
   ],
   "source": [
    "data=\"1,anil kuma, 9676622023,anil@gmail.com\\n\\\n",
    "2,JAY, 9676622024,JAY@yahoo.com\\n\\\n",
    "3,vedha, 9676622025,Vedha1@gmail.com\\n\\\n",
    "4,pavan, 9676622026,Pavan123@rediff.co.in\\n\"\n",
    "print data\n",
    "for row in data.splitlines():\n",
    "    print row.split(\",\")[0]"
   ]
  },
  {
   "cell_type": "code",
   "execution_count": 5,
   "metadata": {},
   "outputs": [
    {
     "name": "stdout",
     "output_type": "stream",
     "text": [
      "1,anil kuma, 9676622023,anil@gmail.com\n",
      "2,JAY, 9676622024,JAY@yahoo.com\n",
      "3,vedha, 9676622025,Vedha1@gmail.com\n",
      "4,pavan, 9676622026,Pavan123@rediff.co.in\n",
      "\n",
      "anil kuma\n",
      "JAY\n",
      "vedha\n",
      "pavan\n"
     ]
    }
   ],
   "source": [
    "data=\"1,anil kuma, 9676622023,anil@gmail.com\\n\\\n",
    "2,JAY, 9676622024,JAY@yahoo.com\\n\\\n",
    "3,vedha, 9676622025,Vedha1@gmail.com\\n\\\n",
    "4,pavan, 9676622026,Pavan123@rediff.co.in\\n\"\n",
    "print data\n",
    "for row in data.splitlines():\n",
    "    print row.split(\",\")[1]"
   ]
  },
  {
   "cell_type": "code",
   "execution_count": 6,
   "metadata": {},
   "outputs": [
    {
     "name": "stdout",
     "output_type": "stream",
     "text": [
      "1,anil kuma, 9676622023,anil@gmail.com\n",
      "2,JAY, 9676622024,JAY@yahoo.com\n",
      "3,vedha, 9676622025,Vedha1@gmail.com\n",
      "4,pavan, 9676622026,Pavan123@rediff.co.in\n",
      "\n",
      " 9676622023\n",
      " 9676622024\n",
      " 9676622025\n",
      " 9676622026\n"
     ]
    }
   ],
   "source": [
    "data=\"1,anil kuma, 9676622023,anil@gmail.com\\n\\\n",
    "2,JAY, 9676622024,JAY@yahoo.com\\n\\\n",
    "3,vedha, 9676622025,Vedha1@gmail.com\\n\\\n",
    "4,pavan, 9676622026,Pavan123@rediff.co.in\\n\"\n",
    "print data\n",
    "for row in data.splitlines():\n",
    "    print row.split(\",\")[2]"
   ]
  },
  {
   "cell_type": "code",
   "execution_count": 7,
   "metadata": {},
   "outputs": [
    {
     "name": "stdout",
     "output_type": "stream",
     "text": [
      "1,anil kuma, 9676622023,anil@gmail.com\n",
      "2,JAY, 9676622024,JAY@yahoo.com\n",
      "3,vedha, 9676622025,Vedha1@gmail.com\n",
      "4,pavan, 9676622026,Pavan123@rediff.co.in\n",
      "\n",
      "anil@gmail.com\n",
      "JAY@yahoo.com\n",
      "Vedha1@gmail.com\n",
      "Pavan123@rediff.co.in\n"
     ]
    }
   ],
   "source": [
    "data=\"1,anil kuma, 9676622023,anil@gmail.com\\n\\\n",
    "2,JAY, 9676622024,JAY@yahoo.com\\n\\\n",
    "3,vedha, 9676622025,Vedha1@gmail.com\\n\\\n",
    "4,pavan, 9676622026,Pavan123@rediff.co.in\\n\"\n",
    "print data\n",
    "for row in data.splitlines():\n",
    "    print row.split(\",\")[3]"
   ]
  },
  {
   "cell_type": "code",
   "execution_count": 10,
   "metadata": {},
   "outputs": [
    {
     "name": "stdout",
     "output_type": "stream",
     "text": [
      "9676622023,1,anil kuma, anil@gmail.com\n",
      "JAY, 9676622024,JAY@yahoo.com,2\n",
      "3,9676622025,Vedha1@gmail.com,vedha\n",
      "9676622026,4,pavan, Pavan123@rediff.co.in\n",
      "\n",
      "anil kuma\n",
      "JAY@yahoo.com\n",
      "Vedha1@gmail.com\n",
      "pavan\n"
     ]
    }
   ],
   "source": [
    "data=\"9676622023,1,anil kuma, anil@gmail.com\\n\\\n",
    "JAY, 9676622024,JAY@yahoo.com,2\\n\\\n",
    "3,9676622025,Vedha1@gmail.com,vedha\\n\\\n",
    "9676622026,4,pavan, Pavan123@rediff.co.in\\n\"\n",
    "print data\n",
    "for row in data.splitlines():\n",
    "    print row.split(\",\")[2]"
   ]
  },
  {
   "cell_type": "code",
   "execution_count": 11,
   "metadata": {},
   "outputs": [
    {
     "name": "stdout",
     "output_type": "stream",
     "text": [
      "9676622023,1,anil kuma, anil@gmail.com\n",
      "JAY, 9676622024,JAY@yahoo.com,2\n",
      "3,9676622025,Vedha1@gmail.com,vedha\n",
      "9676622026,4,pavan, Pavan123@rediff.co.in\n",
      "\n",
      "1\n",
      " 9676622024\n",
      "9676622025\n",
      "4\n"
     ]
    }
   ],
   "source": [
    "data=\"9676622023,1,anil kuma, anil@gmail.com\\n\\\n",
    "JAY, 9676622024,JAY@yahoo.com,2\\n\\\n",
    "3,9676622025,Vedha1@gmail.com,vedha\\n\\\n",
    "9676622026,4,pavan, Pavan123@rediff.co.in\\n\"\n",
    "print data\n",
    "for row in data.splitlines():\n",
    "    print row.split(\",\")[1]"
   ]
  },
  {
   "cell_type": "code",
   "execution_count": 13,
   "metadata": {},
   "outputs": [
    {
     "name": "stdout",
     "output_type": "stream",
     "text": [
      "['9676622023', '9676622024', '9676622025', '9676622026']\n"
     ]
    }
   ],
   "source": [
    "import re\n",
    "data=\"9676622023,1,anil kuma, anil@gmail.com\\n\\\n",
    "JAY, 9676622024,JAY@yahoo.com,2\\n\\\n",
    "3,9676622025,Vedha1@gmail.com,vedha\\n\\\n",
    "9676622026,4,pavan, Pavan123@rediff.co.in\\n\"\n",
    "print re.findall(\"[0-9]{10}\",data)"
   ]
  },
  {
   "cell_type": "code",
   "execution_count": 14,
   "metadata": {},
   "outputs": [
    {
     "name": "stdout",
     "output_type": "stream",
     "text": [
      "['9', '6', '7', '6', '6', '2', '2', '0', '2', '3', '1', '9', '6', '7', '6', '6', '2', '2', '0', '2', '4', '2', '3', '9', '6', '7', '6', '6', '2', '2', '0', '2', '5', '1', '9', '6', '7', '6', '6', '2', '2', '0', '2', '6', '4', '1', '2', '3']\n"
     ]
    }
   ],
   "source": [
    "import re\n",
    "data=\"9676622023,1,anil kuma, anil@gmail.com\\n\\\n",
    "JAY, 9676622024,JAY@yahoo.com,2\\n\\\n",
    "3,9676622025,Vedha1@gmail.com,vedha\\n\\\n",
    "9676622026,4,pavan, Pavan123@rediff.co.in\\n\"\n",
    "print re.findall(\"[0123456789]\",data)"
   ]
  },
  {
   "cell_type": "code",
   "execution_count": 15,
   "metadata": {},
   "outputs": [
    {
     "name": "stdout",
     "output_type": "stream",
     "text": [
      "['9', '6', '7', '6', '6', '2', '2', '0', '2', '3', '1', '9', '6', '7', '6', '6', '2', '2', '0', '2', '4', '2', '3', '9', '6', '7', '6', '6', '2', '2', '0', '2', '5', '1', '9', '6', '7', '6', '6', '2', '2', '0', '2', '6', '4', '1', '2', '3']\n"
     ]
    }
   ],
   "source": [
    "import re\n",
    "data=\"9676622023,1,anil kuma, anil@gmail.com\\n\\\n",
    "JAY, 9676622024,JAY@yahoo.com,2\\n\\\n",
    "3,9676622025,Vedha1@gmail.com,vedha\\n\\\n",
    "9676622026,4,pavan, Pavan123@rediff.co.in\\n\"\n",
    "print re.findall(\"[0-9]\",data)"
   ]
  },
  {
   "cell_type": "code",
   "execution_count": 16,
   "metadata": {},
   "outputs": [
    {
     "name": "stdout",
     "output_type": "stream",
     "text": [
      "['a', 'n', 'i', 'l', 'k', 'u', 'm', 'a', 'a', 'n', 'i', 'l', 'g', 'm', 'a', 'i', 'l', 'c', 'o', 'm', 'y', 'a', 'h', 'o', 'o', 'c', 'o', 'm', 'e', 'd', 'h', 'a', 'g', 'm', 'a', 'i', 'l', 'c', 'o', 'm', 'v', 'e', 'd', 'h', 'a', 'p', 'a', 'v', 'a', 'n', 'a', 'v', 'a', 'n', 'r', 'e', 'd', 'i', 'f', 'f', 'c', 'o', 'i', 'n']\n"
     ]
    }
   ],
   "source": [
    "import re\n",
    "data=\"9676622023,1,anil kuma, anil@gmail.com\\n\\\n",
    "JAY, 9676622024,JAY@yahoo.com,2\\n\\\n",
    "3,9676622025,Vedha1@gmail.com,vedha\\n\\\n",
    "9676622026,4,pavan, Pavan123@rediff.co.in\\n\"\n",
    "print re.findall(\"[a-z]\",data)"
   ]
  },
  {
   "cell_type": "code",
   "execution_count": 17,
   "metadata": {},
   "outputs": [
    {
     "name": "stdout",
     "output_type": "stream",
     "text": [
      "['a', 'n', 'i', 'l', 'k', 'u', 'm', 'a', 'a', 'n', 'i', 'l', 'g', 'm', 'a', 'i', 'l', 'c', 'o', 'm', 'J', 'A', 'Y', 'J', 'A', 'Y', 'y', 'a', 'h', 'o', 'o', 'c', 'o', 'm', 'V', 'e', 'd', 'h', 'a', 'g', 'm', 'a', 'i', 'l', 'c', 'o', 'm', 'v', 'e', 'd', 'h', 'a', 'p', 'a', 'v', 'a', 'n', 'P', 'a', 'v', 'a', 'n', 'r', 'e', 'd', 'i', 'f', 'f', 'c', 'o', 'i', 'n']\n"
     ]
    }
   ],
   "source": [
    "import re\n",
    "data=\"9676622023,1,anil kuma, anil@gmail.com\\n\\\n",
    "JAY, 9676622024,JAY@yahoo.com,2\\n\\\n",
    "3,9676622025,Vedha1@gmail.com,vedha\\n\\\n",
    "9676622026,4,pavan, Pavan123@rediff.co.in\\n\"\n",
    "print re.findall(\"[a-z]\",data,re.I)"
   ]
  },
  {
   "cell_type": "code",
   "execution_count": 18,
   "metadata": {},
   "outputs": [
    {
     "name": "stdout",
     "output_type": "stream",
     "text": [
      "['a1', 'n1']\n"
     ]
    }
   ],
   "source": [
    "import re\n",
    "data=\"9676622023,1,anil kuma, anil@gmail.com\\n\\\n",
    "JAY, 9676622024,JAY@yahoo.com,2\\n\\\n",
    "3,9676622025,Vedha1@gmail.com,vedha\\n\\\n",
    "9676622026,4,pavan, Pavan123@rediff.co.in\\n\"\n",
    "print re.findall(\"[a-z][0-9]\",data,re.I)"
   ]
  },
  {
   "cell_type": "code",
   "execution_count": 19,
   "metadata": {},
   "outputs": [
    {
     "name": "stdout",
     "output_type": "stream",
     "text": [
      "['9', '6', '7', '6', '6', '2', '2', '0', '2', '3', '1', '9', '6', '7', '6', '6', '2', '2', '0', '2', '4', '2', '3', '9', '6', '7', '6', '6', '2', '2', '0', '2', '5', '1', '9', '6', '7', '6', '6', '2', '2', '0', '2', '6', '4', '1', '2', '3']\n"
     ]
    }
   ],
   "source": [
    "import re\n",
    "data=\"9676622023,1,anil kuma, anil@gmail.com\\n\\\n",
    "JAY, 9676622024,JAY@yahoo.com,2\\n\\\n",
    "3,9676622025,Vedha1@gmail.com,vedha\\n\\\n",
    "9676622026,4,pavan, Pavan123@rediff.co.in\\n\"\n",
    "print re.findall(\"[0-9]\",data,re.I)"
   ]
  },
  {
   "cell_type": "code",
   "execution_count": 20,
   "metadata": {},
   "outputs": [
    {
     "name": "stdout",
     "output_type": "stream",
     "text": [
      "[',', ',', 'a', 'n', 'i', 'l', ' ', 'k', 'u', 'm', 'a', ',', ' ', 'a', 'n', 'i', 'l', '@', 'g', 'm', 'a', 'i', 'l', '.', 'c', 'o', 'm', '\\n', 'J', 'A', 'Y', ',', ' ', ',', 'J', 'A', 'Y', '@', 'y', 'a', 'h', 'o', 'o', '.', 'c', 'o', 'm', ',', '\\n', ',', ',', 'V', 'e', 'd', 'h', 'a', '@', 'g', 'm', 'a', 'i', 'l', '.', 'c', 'o', 'm', ',', 'v', 'e', 'd', 'h', 'a', '\\n', ',', ',', 'p', 'a', 'v', 'a', 'n', ',', ' ', 'P', 'a', 'v', 'a', 'n', '@', 'r', 'e', 'd', 'i', 'f', 'f', '.', 'c', 'o', '.', 'i', 'n', '\\n']\n"
     ]
    }
   ],
   "source": [
    "import re\n",
    "data=\"9676622023,1,anil kuma, anil@gmail.com\\n\\\n",
    "JAY, 9676622024,JAY@yahoo.com,2\\n\\\n",
    "3,9676622025,Vedha1@gmail.com,vedha\\n\\\n",
    "9676622026,4,pavan, Pavan123@rediff.co.in\\n\"\n",
    "print re.findall(\"[^0-9]\",data,re.I)"
   ]
  },
  {
   "cell_type": "code",
   "execution_count": 21,
   "metadata": {},
   "outputs": [
    {
     "name": "stdout",
     "output_type": "stream",
     "text": [
      "['9']\n"
     ]
    }
   ],
   "source": [
    "import re\n",
    "data=\"9676622023,1,anil kuma, anil@gmail.com\\n\\\n",
    "JAY, 9676622024,JAY@yahoo.com,2\\n\\\n",
    "3,9676622025,Vedha1@gmail.com,vedha\\n\\\n",
    "9676622026,4,pavan, Pavan123@rediff.co.in\\n\"\n",
    "print re.findall(\"^[0-9]\",data,re.I)"
   ]
  },
  {
   "cell_type": "code",
   "execution_count": 22,
   "metadata": {},
   "outputs": [
    {
     "name": "stdout",
     "output_type": "stream",
     "text": [
      "[]\n"
     ]
    }
   ],
   "source": [
    "import re\n",
    "data=\"9676622023,1,anil kuma, anil@gmail.com\\n\\\n",
    "JAY, 9676622024,JAY@yahoo.com,2\\n\\\n",
    "3,9676622025,Vedha1@gmail.com,vedha\\n\\\n",
    "9676622026,4,pavan, Pavan123@rediff.co.in\\n\"\n",
    "print re.findall(\"[0-9]$\",data,re.I)"
   ]
  },
  {
   "cell_type": "code",
   "execution_count": 24,
   "metadata": {},
   "outputs": [
    {
     "name": "stdout",
     "output_type": "stream",
     "text": [
      "[]\n"
     ]
    }
   ],
   "source": [
    "import re\n",
    "data=\"9676622023,1,anil kuma, anil@gmail.com\\n\\\n",
    "JAY, 9676622024,JAY@yahoo.com,2\\n\\\n",
    "3,9676622025,Vedha1@gmail.com,vedha\\n\\\n",
    "9676622026,4,pavan, Pavan123@rediff.co.in\\n\"\n",
    "print re.findall(\"[0-9]$\",data,re.I)"
   ]
  },
  {
   "cell_type": "code",
   "execution_count": 25,
   "metadata": {},
   "outputs": [
    {
     "name": "stdout",
     "output_type": "stream",
     "text": [
      "['n']\n"
     ]
    }
   ],
   "source": [
    "import re\n",
    "data=\"9676622023,1,anil kuma, anil@gmail.com\\n\\\n",
    "JAY, 9676622024,JAY@yahoo.com,2\\n\\\n",
    "3,9676622025,Vedha1@gmail.com,vedha\\n\\\n",
    "9676622026,4,pavan, Pavan123@rediff.co.in\\n\"\n",
    "print re.findall(\"[a-z]$\",data,re.I)"
   ]
  },
  {
   "cell_type": "code",
   "execution_count": 26,
   "metadata": {},
   "outputs": [
    {
     "name": "stdout",
     "output_type": "stream",
     "text": [
      "['m', 'a', 'n']\n"
     ]
    }
   ],
   "source": [
    "import re\n",
    "data=\"9676622023,1,anil kuma, anil@gmail.com\\n\\\n",
    "JAY, 9676622024,JAY@yahoo.com,2\\n\\\n",
    "3,9676622025,Vedha1@gmail.com,vedha\\n\\\n",
    "9676622026,4,pavan, Pavan123@rediff.co.in\\n\"\n",
    "print re.findall(\"[a-z]$\",data,re.I|re.M)"
   ]
  },
  {
   "cell_type": "code",
   "execution_count": 27,
   "metadata": {},
   "outputs": [
    {
     "name": "stdout",
     "output_type": "stream",
     "text": [
      "['J']\n"
     ]
    }
   ],
   "source": [
    "import re\n",
    "data=\"9676622023,1,anil kuma, anil@gmail.com\\n\\\n",
    "JAY, 9676622024,JAY@yahoo.com,2\\n\\\n",
    "3,9676622025,Vedha1@gmail.com,vedha\\n\\\n",
    "9676622026,4,pavan, Pavan123@rediff.co.in\\n\"\n",
    "print re.findall(\"^[a-z]\",data,re.I|re.M)"
   ]
  },
  {
   "cell_type": "code",
   "execution_count": 28,
   "metadata": {},
   "outputs": [
    {
     "name": "stdout",
     "output_type": "stream",
     "text": [
      "['9676', '6220', '9676', '6220', '9676', '6220', '9676', '6220']\n"
     ]
    }
   ],
   "source": [
    "import re\n",
    "data=\"9676622023,1,anil kuma, anil@gmail.com\\n\\\n",
    "JAY, 9676622024,JAY@yahoo.com,2\\n\\\n",
    "3,9676622025,Vedha1@gmail.com,vedha\\n\\\n",
    "9676622026,4,pavan, Pavan123@rediff.co.in\\n\"\n",
    "print re.findall(\"[0-9][0-9][0-9][0-9]\",data,re.I|re.M)"
   ]
  },
  {
   "cell_type": "code",
   "execution_count": 29,
   "metadata": {},
   "outputs": [
    {
     "name": "stdout",
     "output_type": "stream",
     "text": [
      "['9676', '6220', '9676', '6220', '9676', '6220', '9676', '6220']\n"
     ]
    }
   ],
   "source": [
    "import re\n",
    "data=\"9676622023,1,anil kuma, anil@gmail.com\\n\\\n",
    "JAY, 9676622024,JAY@yahoo.com,2\\n\\\n",
    "3,9676622025,Vedha1@gmail.com,vedha\\n\\\n",
    "9676622026,4,pavan, Pavan123@rediff.co.in\\n\"\n",
    "print re.findall(\"[0-9]{4}\",data,re.I|re.M)"
   ]
  },
  {
   "cell_type": "code",
   "execution_count": 30,
   "metadata": {},
   "outputs": [
    {
     "name": "stdout",
     "output_type": "stream",
     "text": [
      "['9676', '6220', '23', '1', '9676', '6220', '24', '2', '3', '9676', '6220', '25', '1', '9676', '6220', '26', '4', '123']\n"
     ]
    }
   ],
   "source": [
    "import re\n",
    "data=\"9676622023,1,anil kuma, anil@gmail.com\\n\\\n",
    "JAY, 9676622024,JAY@yahoo.com,2\\n\\\n",
    "3,9676622025,Vedha1@gmail.com,vedha\\n\\\n",
    "9676622026,4,pavan, Pavan123@rediff.co.in\\n\"\n",
    "print re.findall(\"[0-9]{1,4}\",data,re.I|re.M)"
   ]
  },
  {
   "cell_type": "code",
   "execution_count": 31,
   "metadata": {},
   "outputs": [
    {
     "name": "stdout",
     "output_type": "stream",
     "text": [
      "['9676622023', '1', '9676622024', '2', '3', '9676622025', '1', '9676622026', '4', '123']\n"
     ]
    }
   ],
   "source": [
    "import re\n",
    "data=\"9676622023,1,anil kuma, anil@gmail.com\\n\\\n",
    "JAY, 9676622024,JAY@yahoo.com,2\\n\\\n",
    "3,9676622025,Vedha1@gmail.com,vedha\\n\\\n",
    "9676622026,4,pavan, Pavan123@rediff.co.in\\n\"\n",
    "print re.findall(\"[0-9]{1,10}\",data,re.I|re.M)"
   ]
  },
  {
   "cell_type": "code",
   "execution_count": 32,
   "metadata": {},
   "outputs": [
    {
     "name": "stdout",
     "output_type": "stream",
     "text": [
      "['9676622023', '', '1', '', '', '', '', '', '', '', '', '', '', '', '', '', '', '', '', '', '', '', '', '', '', '', '', '', '', '', '', '', '', '', '', '9676622024', '', '', '', '', '', '', '', '', '', '', '', '', '', '', '', '2', '', '3', '', '9676622025', '', '', '', '', '', '', '1', '', '', '', '', '', '', '', '', '', '', '', '', '', '', '', '', '', '9676622026', '', '4', '', '', '', '', '', '', '', '', '', '', '', '', '', '123', '', '', '', '', '', '', '', '', '', '', '', '', '', '', '']\n"
     ]
    }
   ],
   "source": [
    "import re\n",
    "data=\"9676622023,1,anil kuma, anil@gmail.com\\n\\\n",
    "JAY, 9676622024,JAY@yahoo.com,2\\n\\\n",
    "3,9676622025,Vedha1@gmail.com,vedha\\n\\\n",
    "9676622026,4,pavan, Pavan123@rediff.co.in\\n\"\n",
    "print re.findall(\"[0-9]{0,10}\",data,re.I|re.M)"
   ]
  },
  {
   "cell_type": "code",
   "execution_count": 33,
   "metadata": {},
   "outputs": [
    {
     "name": "stdout",
     "output_type": "stream",
     "text": [
      "['9676622023', '1', '9676622024', '2', '3', '9676622025', '1', '9676622026', '4', '123']\n"
     ]
    }
   ],
   "source": [
    "import re\n",
    "data=\"9676622023,1,anil kuma, anil@gmail.com\\n\\\n",
    "JAY, 9676622024,JAY@yahoo.com,2\\n\\\n",
    "3,9676622025,Vedha1@gmail.com,vedha\\n\\\n",
    "9676622026,4,pavan, Pavan123@rediff.co.in\\n\"\n",
    "print re.findall(\"[0-9]{1,10}\",data,re.I|re.M)"
   ]
  },
  {
   "cell_type": "code",
   "execution_count": 34,
   "metadata": {},
   "outputs": [
    {
     "name": "stdout",
     "output_type": "stream",
     "text": [
      "['9676622023', '', '1', '', '', '', '', '', '', '', '', '', '', '', '', '', '', '', '', '', '', '', '', '', '', '', '', '', '', '', '', '', '', '', '', '9676622024', '', '', '', '', '', '', '', '', '', '', '', '', '', '', '', '2', '', '3', '', '9676622025', '', '', '', '', '', '', '1', '', '', '', '', '', '', '', '', '', '', '', '', '', '', '', '', '', '9676622026', '', '4', '', '', '', '', '', '', '', '', '', '', '', '', '', '123', '', '', '', '', '', '', '', '', '', '', '', '', '', '', '']\n",
      "['9676622023', '', '1', '', '', '', '', '', '', '', '', '', '', '', '', '', '', '', '', '', '', '', '', '', '', '', '', '', '', '', '', '', '', '', '', '9676622024', '', '', '', '', '', '', '', '', '', '', '', '', '', '', '', '2', '', '3', '', '9676622025', '', '', '', '', '', '', '1', '', '', '', '', '', '', '', '', '', '', '', '', '', '', '', '', '', '9676622026', '', '4', '', '', '', '', '', '', '', '', '', '', '', '', '', '123', '', '', '', '', '', '', '', '', '', '', '', '', '', '', '']\n"
     ]
    }
   ],
   "source": [
    "import re\n",
    "data=\"9676622023,1,anil kuma, anil@gmail.com\\n\\\n",
    "JAY, 9676622024,JAY@yahoo.com,2\\n\\\n",
    "3,9676622025,Vedha1@gmail.com,vedha\\n\\\n",
    "9676622026,4,pavan, Pavan123@rediff.co.in\\n\"\n",
    "print re.findall(\"[0-9]{0,}\",data,re.I|re.M)\n",
    "print re.findall(\"[0-9]*\",data,re.I|re.M)"
   ]
  },
  {
   "cell_type": "code",
   "execution_count": 36,
   "metadata": {},
   "outputs": [
    {
     "name": "stdout",
     "output_type": "stream",
     "text": [
      "['9676622023', '1', '9676622024', '2', '3', '9676622025', '1', '9676622026', '4', '123']\n",
      "['9676622023', '1', '9676622024', '2', '3', '9676622025', '1', '9676622026', '4', '123']\n"
     ]
    }
   ],
   "source": [
    "import re\n",
    "data=\"9676622023,1,anil kuma, anil@gmail.com\\n\\\n",
    "JAY, 9676622024,JAY@yahoo.com,2\\n\\\n",
    "3,9676622025,Vedha1@gmail.com,vedha\\n\\\n",
    "9676622026,4,pavan, Pavan123@rediff.co.in\\n\"\n",
    "print re.findall(\"[0-9]{1,}\",data,re.I|re.M)\n",
    "print re.findall(\"[0-9]+\",data,re.I|re.M)"
   ]
  },
  {
   "cell_type": "code",
   "execution_count": 38,
   "metadata": {},
   "outputs": [
    {
     "name": "stdout",
     "output_type": "stream",
     "text": [
      "['9', '6', '7', '6', '6', '2', '2', '0', '2', '3', '', '1', '', '', '', '', '', '', '', '', '', '', '', '', '', '', '', '', '', '', '', '', '', '', '', '', '', '', '', '', '', '', '', '', '9', '6', '7', '6', '6', '2', '2', '0', '2', '4', '', '', '', '', '', '', '', '', '', '', '', '', '', '', '', '2', '', '3', '', '9', '6', '7', '6', '6', '2', '2', '0', '2', '5', '', '', '', '', '', '', '1', '', '', '', '', '', '', '', '', '', '', '', '', '', '', '', '', '', '9', '6', '7', '6', '6', '2', '2', '0', '2', '6', '', '4', '', '', '', '', '', '', '', '', '', '', '', '', '', '1', '2', '3', '', '', '', '', '', '', '', '', '', '', '', '', '', '', '']\n",
      "['9', '6', '7', '6', '6', '2', '2', '0', '2', '3', '', '1', '', '', '', '', '', '', '', '', '', '', '', '', '', '', '', '', '', '', '', '', '', '', '', '', '', '', '', '', '', '', '', '', '9', '6', '7', '6', '6', '2', '2', '0', '2', '4', '', '', '', '', '', '', '', '', '', '', '', '', '', '', '', '2', '', '3', '', '9', '6', '7', '6', '6', '2', '2', '0', '2', '5', '', '', '', '', '', '', '1', '', '', '', '', '', '', '', '', '', '', '', '', '', '', '', '', '', '9', '6', '7', '6', '6', '2', '2', '0', '2', '6', '', '4', '', '', '', '', '', '', '', '', '', '', '', '', '', '1', '2', '3', '', '', '', '', '', '', '', '', '', '', '', '', '', '', '']\n"
     ]
    }
   ],
   "source": [
    "import re\n",
    "data=\"9676622023,1,anil kuma, anil@gmail.com\\n\\\n",
    "JAY, 9676622024,JAY@yahoo.com,2\\n\\\n",
    "3,9676622025,Vedha1@gmail.com,vedha\\n\\\n",
    "9676622026,4,pavan, Pavan123@rediff.co.in\\n\"\n",
    "print re.findall(\"[0-9]{0,1}\",data,re.I|re.M)\n",
    "print re.findall(\"[0-9]?\",data,re.I|re.M)"
   ]
  },
  {
   "cell_type": "code",
   "execution_count": 39,
   "metadata": {},
   "outputs": [
    {
     "name": "stdout",
     "output_type": "stream",
     "text": [
      "['9', '6', '7', '6', '6', '2', '2', '0', '2', '3', ',', '1', ',', 'a', 'n', 'i', 'l', ' ', 'k', 'u', 'm', 'a', ',', ' ', 'a', 'n', 'i', 'l', '@', 'g', 'm', 'a', 'i', 'l', '.', 'c', 'o', 'm', 'J', 'A', 'Y', ',', ' ', '9', '6', '7', '6', '6', '2', '2', '0', '2', '4', ',', 'J', 'A', 'Y', '@', 'y', 'a', 'h', 'o', 'o', '.', 'c', 'o', 'm', ',', '2', '3', ',', '9', '6', '7', '6', '6', '2', '2', '0', '2', '5', ',', 'V', 'e', 'd', 'h', 'a', '1', '@', 'g', 'm', 'a', 'i', 'l', '.', 'c', 'o', 'm', ',', 'v', 'e', 'd', 'h', 'a', '9', '6', '7', '6', '6', '2', '2', '0', '2', '6', ',', '4', ',', 'p', 'a', 'v', 'a', 'n', ',', ' ', 'P', 'a', 'v', 'a', 'n', '1', '2', '3', '@', 'r', 'e', 'd', 'i', 'f', 'f', '.', 'c', 'o', '.', 'i', 'n']\n"
     ]
    }
   ],
   "source": [
    "import re\n",
    "data=\"9676622023,1,anil kuma, anil@gmail.com\\n\\\n",
    "JAY, 9676622024,JAY@yahoo.com,2\\n\\\n",
    "3,9676622025,Vedha1@gmail.com,vedha\\n\\\n",
    "9676622026,4,pavan, Pavan123@rediff.co.in\\n\"\n",
    "print re.findall(\".\",data,re.I|re.M)"
   ]
  },
  {
   "cell_type": "code",
   "execution_count": 40,
   "metadata": {},
   "outputs": [
    {
     "name": "stdout",
     "output_type": "stream",
     "text": [
      "['9', '6', '7', '6', '6', '2', '2', '0', '2', '3', ',', '1', ',', 'a', 'n', 'i', 'l', ' ', 'k', 'u', 'm', 'a', ',', ' ', 'a', 'n', 'i', 'l', '@', 'g', 'm', 'a', 'i', 'l', '.', 'c', 'o', 'm', '\\n', 'J', 'A', 'Y', ',', ' ', '9', '6', '7', '6', '6', '2', '2', '0', '2', '4', ',', 'J', 'A', 'Y', '@', 'y', 'a', 'h', 'o', 'o', '.', 'c', 'o', 'm', ',', '2', '\\n', '3', ',', '9', '6', '7', '6', '6', '2', '2', '0', '2', '5', ',', 'V', 'e', 'd', 'h', 'a', '1', '@', 'g', 'm', 'a', 'i', 'l', '.', 'c', 'o', 'm', ',', 'v', 'e', 'd', 'h', 'a', '\\n', '9', '6', '7', '6', '6', '2', '2', '0', '2', '6', ',', '4', ',', 'p', 'a', 'v', 'a', 'n', ',', ' ', 'P', 'a', 'v', 'a', 'n', '1', '2', '3', '@', 'r', 'e', 'd', 'i', 'f', 'f', '.', 'c', 'o', '.', 'i', 'n', '\\n']\n"
     ]
    }
   ],
   "source": [
    "import re\n",
    "data=\"9676622023,1,anil kuma, anil@gmail.com\\n\\\n",
    "JAY, 9676622024,JAY@yahoo.com,2\\n\\\n",
    "3,9676622025,Vedha1@gmail.com,vedha\\n\\\n",
    "9676622026,4,pavan, Pavan123@rediff.co.in\\n\"\n",
    "print re.findall(\".\",data,re.I|re.M|re.DOTALL)"
   ]
  },
  {
   "cell_type": "code",
   "execution_count": 41,
   "metadata": {},
   "outputs": [
    {
     "name": "stdout",
     "output_type": "stream",
     "text": [
      "['.', '.', '.', '.', '.']\n"
     ]
    }
   ],
   "source": [
    "import re\n",
    "data=\"9676622023,1,anil kuma, anil@gmail.com\\n\\\n",
    "JAY, 9676622024,JAY@yahoo.com,2\\n\\\n",
    "3,9676622025,Vedha1@gmail.com,vedha\\n\\\n",
    "9676622026,4,pavan, Pavan123@rediff.co.in\\n\"\n",
    "print re.findall(\"\\.\",data,re.I|re.M|re.DOTALL)"
   ]
  },
  {
   "cell_type": "code",
   "execution_count": 42,
   "metadata": {},
   "outputs": [
    {
     "name": "stdout",
     "output_type": "stream",
     "text": [
      "['.', '.', '.', '.', '.']\n"
     ]
    }
   ],
   "source": [
    "import re\n",
    "data=\"9676622023,1,anil kuma, anil@gmail.com\\n\\\n",
    "JAY, 9676622024,JAY@yahoo.com,2\\n\\\n",
    "3,9676622025,Vedha1@gmail.com,vedha\\n\\\n",
    "9676622026,4,pavan, Pavan123@rediff.co.in\\n\"\n",
    "print re.findall(\"[.]\",data,re.I|re.M|re.DOTALL)"
   ]
  },
  {
   "cell_type": "code",
   "execution_count": 43,
   "metadata": {},
   "outputs": [
    {
     "name": "stdout",
     "output_type": "stream",
     "text": [
      "['9676622023', '9676622024', '9676622025', '9676622026']\n"
     ]
    }
   ],
   "source": [
    "import re\n",
    "data=\"9676622023,1,anil kuma, anil@gmail.com\\n\\\n",
    "JAY, 9676622024,JAY@yahoo.com,2\\n\\\n",
    "3,9676622025,Vedha1@gmail.com,vedha\\n\\\n",
    "9676622026,4,pavan, Pavan123@rediff.co.in\\n\"\n",
    "print re.findall(\"[0-9]{10}\",data,re.I|re.M|re.DOTALL)"
   ]
  },
  {
   "cell_type": "code",
   "execution_count": 45,
   "metadata": {},
   "outputs": [
    {
     "name": "stdout",
     "output_type": "stream",
     "text": [
      "['9676622023', '9676622024', '9676622025', '9676622026']\n"
     ]
    }
   ],
   "source": [
    "import re\n",
    "data=\"9676622023,1,anil kuma, anil@gmail.com\\n\\\n",
    "JAY, 9676622024,JAY@yahoo.com,2\\n\\\n",
    "3,9676622025,Vedha1@gmail.com,vedha\\n\\\n",
    "9676622026,4,pavan, Pavan123@rediff.co.in\\n\\\n",
    "040-666666,4,pavan, Pavan123@rediff.co.in\\n\"\n",
    "print re.findall(\"[0-9]{10}\",data,re.I|re.M|re.DOTALL)"
   ]
  },
  {
   "cell_type": "code",
   "execution_count": 46,
   "metadata": {},
   "outputs": [
    {
     "name": "stdout",
     "output_type": "stream",
     "text": [
      "['9676622023', '9676622024', '9676622025', '9676622026', '040-666666']\n"
     ]
    }
   ],
   "source": [
    "import re\n",
    "data=\"9676622023,1,anil kuma, anil@gmail.com\\n\\\n",
    "JAY, 9676622024,JAY@yahoo.com,2\\n\\\n",
    "3,9676622025,Vedha1@gmail.com,vedha\\n\\\n",
    "9676622026,4,pavan, Pavan123@rediff.co.in\\n\\\n",
    "040-666666,4,pavan, Pavan123@rediff.co.in\\n\"\n",
    "print re.findall(\"[0-9-]{10,15}\",data,re.I|re.M|re.DOTALL)"
   ]
  },
  {
   "cell_type": "code",
   "execution_count": 47,
   "metadata": {},
   "outputs": [
    {
     "name": "stdout",
     "output_type": "stream",
     "text": [
      "['9676622023', '9676622024', '9676622025', '9676622026', '040-6666-6666']\n"
     ]
    }
   ],
   "source": [
    "import re\n",
    "data=\"9676622023,1,anil kuma, anil@gmail.com\\n\\\n",
    "JAY, 9676622024,JAY@yahoo.com,2\\n\\\n",
    "3,9676622025,Vedha1@gmail.com,vedha\\n\\\n",
    "9676622026,4,pavan, Pavan123@rediff.co.in\\n\\\n",
    "040-6666-6666,4,pavan, Pavan123@rediff.co.in\\n\"\n",
    "print re.findall(\"[0-9-]{10,15}\",data,re.I|re.M|re.DOTALL)"
   ]
  },
  {
   "cell_type": "code",
   "execution_count": 48,
   "metadata": {},
   "outputs": [
    {
     "name": "stdout",
     "output_type": "stream",
     "text": [
      "['anil@gmail.com', 'JAY@yahoo.com', 'Vedha1@gmail.com', 'Pavan123@rediff.co.in', 'Pavan123@rediff.co.in']\n"
     ]
    }
   ],
   "source": [
    "#username [a-z0-9]+\n",
    "#@ (@)\n",
    "#domain[a-z]+\n",
    "#. (\\.)\n",
    "#com.co.in, .org, .gov.in  [a-z.]+\n",
    "import re\n",
    "data=\"9676622023,1,anil kuma, anil@gmail.com\\n\\\n",
    "JAY, 9676622024,JAY@yahoo.com,2\\n\\\n",
    "3,9676622025,Vedha1@gmail.com,vedha\\n\\\n",
    "9676622026,4,pavan, Pavan123@rediff.co.in\\n\\\n",
    "040-6666-6666,4,pavan, Pavan123@rediff.co.in\\n\"\n",
    "print re.findall(\"[a-z0-9]+@[a-z]+\\.[a-z.]+\",data,re.I|re.M|re.DOTALL)"
   ]
  },
  {
   "cell_type": "code",
   "execution_count": 49,
   "metadata": {},
   "outputs": [
    {
     "name": "stdout",
     "output_type": "stream",
     "text": [
      "['9676622023', '1', '9676622024', '2', '3', '9676622025', '1', '9676622026', '4', '123', '040', '6666', '6666', '4', '123']\n"
     ]
    }
   ],
   "source": [
    "import re\n",
    "data=\"9676622023,1,anil kuma, anil@gmail.com\\n\\\n",
    "JAY, 9676622024,JAY@yahoo.com,2\\n\\\n",
    "3,9676622025,Vedha1@gmail.com,vedha\\n\\\n",
    "9676622026,4,pavan, Pavan123@rediff.co.in\\n\\\n",
    "040-6666-6666,4,pavan, Pavan123@rediff.co.in\\n\"\n",
    "print re.findall(\"\\d+\",data)"
   ]
  },
  {
   "cell_type": "code",
   "execution_count": 50,
   "metadata": {},
   "outputs": [
    {
     "name": "stdout",
     "output_type": "stream",
     "text": [
      "['9676622023', '1', 'anil', 'kuma', 'anil', 'gmail', 'com', 'JAY', '9676622024', 'JAY', 'yahoo', 'com', '2', '3', '9676622025', 'Vedha1', 'gmail', 'com', 'vedha', '9676622026', '4', 'pavan', 'Pavan123', 'rediff', 'co', 'in', '040', '6666', '6666', '4', 'pavan', 'Pavan123', 'rediff', 'co', 'in']\n"
     ]
    }
   ],
   "source": [
    "import re\n",
    "data=\"9676622023,1,anil kuma, anil@gmail.com\\n\\\n",
    "JAY, 9676622024,JAY@yahoo.com,2\\n\\\n",
    "3,9676622025,Vedha1@gmail.com,vedha\\n\\\n",
    "9676622026,4,pavan, Pavan123@rediff.co.in\\n\\\n",
    "040-6666-6666,4,pavan, Pavan123@rediff.co.in\\n\"\n",
    "print re.findall(\"\\w+\",data)"
   ]
  },
  {
   "cell_type": "code",
   "execution_count": 51,
   "metadata": {},
   "outputs": [
    {
     "name": "stdout",
     "output_type": "stream",
     "text": [
      "['anil@gmail.com', 'JAY@yahoo.com', 'Vedha1@gmail.com', 'Pavan123@rediff.co.in', 'Pavan123@rediff.co.in']\n"
     ]
    }
   ],
   "source": [
    "#username [a-z0-9]+\n",
    "#@ (@)\n",
    "#domain[a-z]+\n",
    "#. (\\.)\n",
    "#com.co.in, .org, .gov.in  [a-z.]+\n",
    "import re\n",
    "data=\"9676622023,1,anil kuma, anil@gmail.com\\n\\\n",
    "JAY, 9676622024,JAY@yahoo.com,2\\n\\\n",
    "3,9676622025,Vedha1@gmail.com,vedha\\n\\\n",
    "9676622026,4,pavan, Pavan123@rediff.co.in\\n\\\n",
    "040-6666-6666,4,pavan, Pavan123@rediff.co.in\\n\"\n",
    "print re.findall(\"\\w+@[a-z]+\\.[a-z.]+\",data,re.I|re.M|re.DOTALL)"
   ]
  },
  {
   "cell_type": "code",
   "execution_count": null,
   "metadata": {
    "collapsed": true
   },
   "outputs": [],
   "source": []
  }
 ],
 "metadata": {
  "kernelspec": {
   "display_name": "Python 2",
   "language": "python",
   "name": "python2"
  },
  "language_info": {
   "codemirror_mode": {
    "name": "ipython",
    "version": 2
   },
   "file_extension": ".py",
   "mimetype": "text/x-python",
   "name": "python",
   "nbconvert_exporter": "python",
   "pygments_lexer": "ipython2",
   "version": "2.7.14"
  }
 },
 "nbformat": 4,
 "nbformat_minor": 2
}
