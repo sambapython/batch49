{
 "cells": [
  {
   "cell_type": "code",
   "execution_count": 2,
   "metadata": {},
   "outputs": [
    {
     "name": "stdout",
     "output_type": "stream",
     "text": [
      "{'k3': 'v3', 'k2': 'v2', 'k1': 'v1'}\n",
      "{'k3': 'v3', 'k2': 'v2', 'k1': 'v1'}\n"
     ]
    }
   ],
   "source": [
    "d1={\"k1\":\"v1\",\"k2\":\"v2\",\"k3\":\"v3\"}\n",
    "d2=dict([(\"k1\",\"v1\"),(\"k2\",\"v2\"),(\"k3\",\"v3\")])\n",
    "print d1\n",
    "print d2"
   ]
  },
  {
   "cell_type": "code",
   "execution_count": 3,
   "metadata": {},
   "outputs": [
    {
     "ename": "KeyError",
     "evalue": "0",
     "output_type": "error",
     "traceback": [
      "\u001b[0;31m---------------------------------------------------------------------------\u001b[0m",
      "\u001b[0;31mKeyError\u001b[0m                                  Traceback (most recent call last)",
      "\u001b[0;32m<ipython-input-3-c9470ccc4790>\u001b[0m in \u001b[0;36m<module>\u001b[0;34m()\u001b[0m\n\u001b[1;32m      1\u001b[0m \u001b[0md1\u001b[0m\u001b[0;34m=\u001b[0m\u001b[0;34m{\u001b[0m\u001b[0;34m\"k1\"\u001b[0m\u001b[0;34m:\u001b[0m\u001b[0;34m\"v1\"\u001b[0m\u001b[0;34m,\u001b[0m\u001b[0;34m\"k2\"\u001b[0m\u001b[0;34m:\u001b[0m\u001b[0;34m\"v2\"\u001b[0m\u001b[0;34m,\u001b[0m\u001b[0;34m\"k3\"\u001b[0m\u001b[0;34m:\u001b[0m\u001b[0;34m\"v3\"\u001b[0m\u001b[0;34m}\u001b[0m\u001b[0;34m\u001b[0m\u001b[0m\n\u001b[0;32m----> 2\u001b[0;31m \u001b[0;32mprint\u001b[0m \u001b[0md1\u001b[0m\u001b[0;34m[\u001b[0m\u001b[0;36m0\u001b[0m\u001b[0;34m]\u001b[0m\u001b[0;34m\u001b[0m\u001b[0m\n\u001b[0m",
      "\u001b[0;31mKeyError\u001b[0m: 0"
     ]
    }
   ],
   "source": [
    "d1={\"k1\":\"v1\",\"k2\":\"v2\",\"k3\":\"v3\"}\n",
    "print d1[0]"
   ]
  },
  {
   "cell_type": "code",
   "execution_count": 4,
   "metadata": {},
   "outputs": [
    {
     "name": "stdout",
     "output_type": "stream",
     "text": [
      "v1\n"
     ]
    }
   ],
   "source": [
    "d1={\"k1\":\"v1\",\"k2\":\"v2\",\"k3\":\"v3\"}\n",
    "print d1[\"k1\"]"
   ]
  },
  {
   "cell_type": "code",
   "execution_count": 5,
   "metadata": {},
   "outputs": [
    {
     "name": "stdout",
     "output_type": "stream",
     "text": [
      "v2\n"
     ]
    }
   ],
   "source": [
    "print d1[\"k2\"]"
   ]
  },
  {
   "cell_type": "code",
   "execution_count": 6,
   "metadata": {},
   "outputs": [
    {
     "name": "stdout",
     "output_type": "stream",
     "text": [
      "v3\n"
     ]
    }
   ],
   "source": [
    "print d1[\"k3\"]"
   ]
  },
  {
   "cell_type": "code",
   "execution_count": 7,
   "metadata": {},
   "outputs": [
    {
     "ename": "KeyError",
     "evalue": "'k4'",
     "output_type": "error",
     "traceback": [
      "\u001b[0;31m---------------------------------------------------------------------------\u001b[0m",
      "\u001b[0;31mKeyError\u001b[0m                                  Traceback (most recent call last)",
      "\u001b[0;32m<ipython-input-7-27bf9e227024>\u001b[0m in \u001b[0;36m<module>\u001b[0;34m()\u001b[0m\n\u001b[1;32m      1\u001b[0m \u001b[0md1\u001b[0m\u001b[0;34m=\u001b[0m\u001b[0;34m{\u001b[0m\u001b[0;34m\"k1\"\u001b[0m\u001b[0;34m:\u001b[0m\u001b[0;34m\"v1\"\u001b[0m\u001b[0;34m,\u001b[0m\u001b[0;34m\"k2\"\u001b[0m\u001b[0;34m:\u001b[0m\u001b[0;34m\"v2\"\u001b[0m\u001b[0;34m,\u001b[0m\u001b[0;34m\"k3\"\u001b[0m\u001b[0;34m:\u001b[0m\u001b[0;34m\"v3\"\u001b[0m\u001b[0;34m}\u001b[0m\u001b[0;34m\u001b[0m\u001b[0m\n\u001b[0;32m----> 2\u001b[0;31m \u001b[0;32mprint\u001b[0m \u001b[0md1\u001b[0m\u001b[0;34m[\u001b[0m\u001b[0;34m\"k4\"\u001b[0m\u001b[0;34m]\u001b[0m\u001b[0;34m\u001b[0m\u001b[0m\n\u001b[0m",
      "\u001b[0;31mKeyError\u001b[0m: 'k4'"
     ]
    }
   ],
   "source": [
    "d1={\"k1\":\"v1\",\"k2\":\"v2\",\"k3\":\"v3\"}\n",
    "print d1[\"k4\"]"
   ]
  },
  {
   "cell_type": "code",
   "execution_count": 8,
   "metadata": {},
   "outputs": [
    {
     "name": "stdout",
     "output_type": "stream",
     "text": [
      "{'cell': '9677656584', 'age': 23, 'name': 'anil kumar', 'height': 5.6}\n"
     ]
    }
   ],
   "source": [
    "person = {\"name\":\"anil kumar\",\"age\":23,\"height\":5.6}\n",
    "person[\"cell\"]=\"9677656584\"\n",
    "print person"
   ]
  },
  {
   "cell_type": "code",
   "execution_count": 9,
   "metadata": {},
   "outputs": [
    {
     "name": "stdout",
     "output_type": "stream",
     "text": [
      "{'cell': 9676622023, 'age': 23, 'name': 'anil kumar', 'pan': 'werwfewrewr', 'height': 5.6}\n"
     ]
    }
   ],
   "source": [
    "person = {\"name\":\"anil kumar\",\"age\":23,\"height\":5.6}\n",
    "person.update({\"cell\":9676622023,\"pan\":\"werwfewrewr\"})\n",
    "print person"
   ]
  },
  {
   "cell_type": "code",
   "execution_count": 10,
   "metadata": {},
   "outputs": [
    {
     "name": "stdout",
     "output_type": "stream",
     "text": [
      "{'age': 23, 'name': '9677656584', 'height': 5.6}\n"
     ]
    }
   ],
   "source": [
    "person = {\"name\":\"anil kumar\",\"age\":23,\"height\":5.6}\n",
    "person[\"name\"]=\"9677656584\"\n",
    "print person"
   ]
  },
  {
   "cell_type": "code",
   "execution_count": 11,
   "metadata": {},
   "outputs": [
    {
     "name": "stdout",
     "output_type": "stream",
     "text": [
      "{'age': 23, 'name': 9676622023, 'pan': 'werwfewrewr', 'height': 5.6}\n"
     ]
    }
   ],
   "source": [
    "person = {\"name\":\"anil kumar\",\"age\":23,\"height\":5.6}\n",
    "person.update({\"name\":9676622023,\"pan\":\"werwfewrewr\"})\n",
    "print person"
   ]
  },
  {
   "cell_type": "code",
   "execution_count": 12,
   "metadata": {},
   "outputs": [
    {
     "name": "stdout",
     "output_type": "stream",
     "text": [
      "{'cell': 9676622023, 'age': 23, 'name': 'anil kumar', 'height': 5.6}\n"
     ]
    }
   ],
   "source": [
    "person = {\"name\":\"anil kumar\",\"age\":23,\"height\":5.6}\n",
    "person.setdefault(\"cell\",9676622023)\n",
    "print person"
   ]
  },
  {
   "cell_type": "code",
   "execution_count": 13,
   "metadata": {},
   "outputs": [
    {
     "name": "stdout",
     "output_type": "stream",
     "text": [
      "{'age': 23, 'name': 'anil kumar', 'height': 5.6}\n"
     ]
    }
   ],
   "source": [
    "person = {\"name\":\"anil kumar\",\"age\":23,\"height\":5.6}\n",
    "person.setdefault(\"name\",9676622023)\n",
    "print person"
   ]
  },
  {
   "cell_type": "code",
   "execution_count": 15,
   "metadata": {},
   "outputs": [
    {
     "name": "stdout",
     "output_type": "stream",
     "text": [
      "{'age': 23, 'name': 'anil kumar', 'height': 5.6}\n"
     ]
    }
   ],
   "source": [
    "person = {\"name\":\"anil kumar\",\"age\":23,\"height\":5.6}\n",
    "print person"
   ]
  },
  {
   "cell_type": "code",
   "execution_count": 16,
   "metadata": {},
   "outputs": [
    {
     "name": "stdout",
     "output_type": "stream",
     "text": [
      "age\n",
      "name\n",
      "height\n"
     ]
    }
   ],
   "source": [
    "person = {\"name\":\"anil kumar\",\"age\":23,\"height\":5.6}\n",
    "for i in person:\n",
    "    print i"
   ]
  },
  {
   "cell_type": "code",
   "execution_count": 17,
   "metadata": {},
   "outputs": [
    {
     "ename": "TypeError",
     "evalue": "pop expected at least 1 arguments, got 0",
     "output_type": "error",
     "traceback": [
      "\u001b[0;31m---------------------------------------------------------------------------\u001b[0m",
      "\u001b[0;31mTypeError\u001b[0m                                 Traceback (most recent call last)",
      "\u001b[0;32m<ipython-input-17-cfcd4c7c6495>\u001b[0m in \u001b[0;36m<module>\u001b[0;34m()\u001b[0m\n\u001b[1;32m      1\u001b[0m \u001b[0mperson\u001b[0m \u001b[0;34m=\u001b[0m \u001b[0;34m{\u001b[0m\u001b[0;34m\"name\"\u001b[0m\u001b[0;34m:\u001b[0m\u001b[0;34m\"anil kumar\"\u001b[0m\u001b[0;34m,\u001b[0m\u001b[0;34m\"age\"\u001b[0m\u001b[0;34m:\u001b[0m\u001b[0;36m23\u001b[0m\u001b[0;34m,\u001b[0m\u001b[0;34m\"height\"\u001b[0m\u001b[0;34m:\u001b[0m\u001b[0;36m5.6\u001b[0m\u001b[0;34m}\u001b[0m\u001b[0;34m\u001b[0m\u001b[0m\n\u001b[0;32m----> 2\u001b[0;31m \u001b[0mp1\u001b[0m\u001b[0;34m=\u001b[0m\u001b[0mperson\u001b[0m\u001b[0;34m.\u001b[0m\u001b[0mpop\u001b[0m\u001b[0;34m(\u001b[0m\u001b[0;34m)\u001b[0m\u001b[0;34m\u001b[0m\u001b[0m\n\u001b[0m",
      "\u001b[0;31mTypeError\u001b[0m: pop expected at least 1 arguments, got 0"
     ]
    }
   ],
   "source": [
    "person = {\"name\":\"anil kumar\",\"age\":23,\"height\":5.6}\n",
    "p1=person.pop()"
   ]
  },
  {
   "cell_type": "code",
   "execution_count": 18,
   "metadata": {},
   "outputs": [
    {
     "name": "stdout",
     "output_type": "stream",
     "text": [
      "23\n",
      "{'name': 'anil kumar', 'height': 5.6}\n"
     ]
    }
   ],
   "source": [
    "person = {\"name\":\"anil kumar\",\"age\":23,\"height\":5.6}\n",
    "p1=person.pop(\"age\")\n",
    "print p1\n",
    "print person"
   ]
  },
  {
   "cell_type": "code",
   "execution_count": 19,
   "metadata": {},
   "outputs": [
    {
     "ename": "KeyError",
     "evalue": "'cell'",
     "output_type": "error",
     "traceback": [
      "\u001b[0;31m---------------------------------------------------------------------------\u001b[0m",
      "\u001b[0;31mKeyError\u001b[0m                                  Traceback (most recent call last)",
      "\u001b[0;32m<ipython-input-19-559d9b5c15da>\u001b[0m in \u001b[0;36m<module>\u001b[0;34m()\u001b[0m\n\u001b[1;32m      1\u001b[0m \u001b[0mperson\u001b[0m \u001b[0;34m=\u001b[0m \u001b[0;34m{\u001b[0m\u001b[0;34m\"name\"\u001b[0m\u001b[0;34m:\u001b[0m\u001b[0;34m\"anil kumar\"\u001b[0m\u001b[0;34m,\u001b[0m\u001b[0;34m\"age\"\u001b[0m\u001b[0;34m:\u001b[0m\u001b[0;36m23\u001b[0m\u001b[0;34m,\u001b[0m\u001b[0;34m\"height\"\u001b[0m\u001b[0;34m:\u001b[0m\u001b[0;36m5.6\u001b[0m\u001b[0;34m}\u001b[0m\u001b[0;34m\u001b[0m\u001b[0m\n\u001b[0;32m----> 2\u001b[0;31m \u001b[0mp1\u001b[0m\u001b[0;34m=\u001b[0m\u001b[0mperson\u001b[0m\u001b[0;34m.\u001b[0m\u001b[0mpop\u001b[0m\u001b[0;34m(\u001b[0m\u001b[0;34m\"cell\"\u001b[0m\u001b[0;34m)\u001b[0m\u001b[0;34m\u001b[0m\u001b[0m\n\u001b[0m\u001b[1;32m      3\u001b[0m \u001b[0;32mprint\u001b[0m \u001b[0mp1\u001b[0m\u001b[0;34m\u001b[0m\u001b[0m\n\u001b[1;32m      4\u001b[0m \u001b[0;32mprint\u001b[0m \u001b[0mperson\u001b[0m\u001b[0;34m\u001b[0m\u001b[0m\n",
      "\u001b[0;31mKeyError\u001b[0m: 'cell'"
     ]
    }
   ],
   "source": [
    "person = {\"name\":\"anil kumar\",\"age\":23,\"height\":5.6}\n",
    "p1=person.pop(\"cell\")\n",
    "print p1\n",
    "print person"
   ]
  },
  {
   "cell_type": "code",
   "execution_count": 20,
   "metadata": {},
   "outputs": [
    {
     "name": "stdout",
     "output_type": "stream",
     "text": [
      "['age', 'name', 'height']\n"
     ]
    }
   ],
   "source": [
    "person = {\"name\":\"anil kumar\",\"age\":23,\"height\":5.6}\n",
    "print person.keys()"
   ]
  },
  {
   "cell_type": "code",
   "execution_count": 21,
   "metadata": {},
   "outputs": [
    {
     "name": "stdout",
     "output_type": "stream",
     "text": [
      "[23, 'anil kumar', 5.6]\n"
     ]
    }
   ],
   "source": [
    "person = {\"name\":\"anil kumar\",\"age\":23,\"height\":5.6}\n",
    "print person.values()"
   ]
  },
  {
   "cell_type": "code",
   "execution_count": 22,
   "metadata": {},
   "outputs": [
    {
     "name": "stdout",
     "output_type": "stream",
     "text": [
      "[('age', 23), ('name', 'anil kumar'), ('height', 5.6)]\n"
     ]
    }
   ],
   "source": [
    "person = {\"name\":\"anil kumar\",\"age\":23,\"height\":5.6}\n",
    "print person.items()"
   ]
  },
  {
   "cell_type": "code",
   "execution_count": 23,
   "metadata": {},
   "outputs": [
    {
     "name": "stdout",
     "output_type": "stream",
     "text": [
      "('age', 23)\n",
      "{'name': 'anil kumar', 'height': 5.6}\n"
     ]
    }
   ],
   "source": [
    "person = {\"name\":\"anil kumar\",\"age\":23,\"height\":5.6}\n",
    "p1 = person.popitem()\n",
    "print p1\n",
    "print person"
   ]
  },
  {
   "cell_type": "code",
   "execution_count": 25,
   "metadata": {},
   "outputs": [
    {
     "name": "stdout",
     "output_type": "stream",
     "text": [
      "True\n",
      "True\n",
      "True\n"
     ]
    }
   ],
   "source": [
    "person = {\"name\":\"anil kumar\",\"age\":23,\"height\":5.6}\n",
    "print \"name\" in person\n",
    "print \"name\" in person.keys()\n",
    "print person.has_key(\"name\")"
   ]
  },
  {
   "cell_type": "code",
   "execution_count": 26,
   "metadata": {},
   "outputs": [
    {
     "name": "stdout",
     "output_type": "stream",
     "text": [
      "False\n",
      "False\n",
      "False\n"
     ]
    }
   ],
   "source": [
    "person = {\"name\":\"anil kumar\",\"age\":23,\"height\":5.6}\n",
    "print \"cell\" in person\n",
    "print \"cell\" in person.keys()\n",
    "print person.has_key(\"cell\")"
   ]
  },
  {
   "cell_type": "code",
   "execution_count": 27,
   "metadata": {},
   "outputs": [
    {
     "name": "stdout",
     "output_type": "stream",
     "text": [
      "False\n"
     ]
    }
   ],
   "source": [
    "person = {\"name\":\"anil kumar\",\"age\":23,\"height\":5.6}\n",
    "print 23 in person\n"
   ]
  },
  {
   "cell_type": "code",
   "execution_count": 28,
   "metadata": {},
   "outputs": [
    {
     "name": "stdout",
     "output_type": "stream",
     "text": [
      "True\n"
     ]
    }
   ],
   "source": [
    "person = {\"name\":\"anil kumar\",\"age\":23,\"height\":5.6}\n",
    "print 23 in person.values()\n"
   ]
  },
  {
   "cell_type": "code",
   "execution_count": 29,
   "metadata": {},
   "outputs": [
    {
     "name": "stdout",
     "output_type": "stream",
     "text": [
      "st1\n",
      "res= 10\n"
     ]
    }
   ],
   "source": [
    "def fun():\n",
    "    print \"st1\"\n",
    "    return 10\n",
    "    print \"st2\"\n",
    "    return 20\n",
    "    print \"st3\"\n",
    "    return 30\n",
    "res=fun()\n",
    "print \"res=\",res"
   ]
  },
  {
   "cell_type": "code",
   "execution_count": 30,
   "metadata": {},
   "outputs": [
    {
     "name": "stdout",
     "output_type": "stream",
     "text": [
      "st1\n",
      "st2\n",
      "st3\n",
      "res= 10\n"
     ]
    }
   ],
   "source": [
    "def fun():\n",
    "    print \"st1\"\n",
    "    print \"st2\"\n",
    "    print \"st3\"\n",
    "    return 10\n",
    "    return 20\n",
    "    return 30\n",
    "res=fun()\n",
    "print \"res=\",res"
   ]
  },
  {
   "cell_type": "code",
   "execution_count": 31,
   "metadata": {},
   "outputs": [
    {
     "name": "stdout",
     "output_type": "stream",
     "text": [
      "st1\n",
      "st2\n",
      "st3\n",
      "res= (10, 20, 30)\n"
     ]
    }
   ],
   "source": [
    "def fun():\n",
    "    print \"st1\"\n",
    "    print \"st2\"\n",
    "    print \"st3\"\n",
    "    return 10,20,30\n",
    "res=fun()\n",
    "print \"res=\",res"
   ]
  },
  {
   "cell_type": "code",
   "execution_count": 32,
   "metadata": {},
   "outputs": [
    {
     "name": "stdout",
     "output_type": "stream",
     "text": [
      "res= <generator object fun at 0x7f36c0540230>\n"
     ]
    }
   ],
   "source": [
    "def fun():\n",
    "    print \"st1\"\n",
    "    yield 10\n",
    "    print \"st2\"\n",
    "    yield 20\n",
    "    print \"st3\"\n",
    "    yield 30\n",
    "res=fun()\n",
    "print \"res=\",res"
   ]
  },
  {
   "cell_type": "code",
   "execution_count": 33,
   "metadata": {},
   "outputs": [
    {
     "name": "stdout",
     "output_type": "stream",
     "text": [
      "res= <generator object fun at 0x7f36c0540370>\n",
      "st1\n",
      "r1= 10\n"
     ]
    }
   ],
   "source": [
    "def fun():\n",
    "    print \"st1\"\n",
    "    yield 10\n",
    "    print \"st2\"\n",
    "    yield 20\n",
    "    print \"st3\"\n",
    "    yield 30\n",
    "res=fun()\n",
    "print \"res=\",res\n",
    "r1=res.next()\n",
    "print \"r1=\",r1"
   ]
  },
  {
   "cell_type": "code",
   "execution_count": 34,
   "metadata": {},
   "outputs": [
    {
     "name": "stdout",
     "output_type": "stream",
     "text": [
      "res= <generator object fun at 0x7f36c05403c0>\n",
      "st1\n",
      "r1= 10\n",
      "st2\n",
      "r2= 20\n"
     ]
    }
   ],
   "source": [
    "def fun():\n",
    "    print \"st1\"\n",
    "    yield 10\n",
    "    print \"st2\"\n",
    "    yield 20\n",
    "    print \"st3\"\n",
    "    yield 30\n",
    "res=fun()\n",
    "print \"res=\",res\n",
    "r1=res.next()\n",
    "print \"r1=\",r1\n",
    "r2=res.next()\n",
    "print \"r2=\",r2"
   ]
  },
  {
   "cell_type": "code",
   "execution_count": 35,
   "metadata": {},
   "outputs": [
    {
     "name": "stdout",
     "output_type": "stream",
     "text": [
      "res= <generator object fun at 0x7f36c0540230>\n",
      "st1\n",
      "r1= 10\n",
      "st2\n",
      "r2= 20\n",
      "st3\n",
      "r3= 30\n"
     ]
    }
   ],
   "source": [
    "def fun():\n",
    "    print \"st1\"\n",
    "    yield 10\n",
    "    print \"st2\"\n",
    "    yield 20\n",
    "    print \"st3\"\n",
    "    yield 30\n",
    "res=fun()\n",
    "print \"res=\",res\n",
    "r1=res.next()\n",
    "print \"r1=\",r1\n",
    "r2=res.next()\n",
    "print \"r2=\",r2\n",
    "r3=res.next()\n",
    "print \"r3=\",r3"
   ]
  },
  {
   "cell_type": "code",
   "execution_count": 36,
   "metadata": {},
   "outputs": [
    {
     "name": "stdout",
     "output_type": "stream",
     "text": [
      "res= <generator object fun at 0x7f36c0540370>\n",
      "st1\n",
      "r1= 10\n",
      "st2\n",
      "r2= 20\n",
      "st3\n",
      "r3= 30\n"
     ]
    },
    {
     "ename": "StopIteration",
     "evalue": "",
     "output_type": "error",
     "traceback": [
      "\u001b[0;31m---------------------------------------------------------------------------\u001b[0m",
      "\u001b[0;31mStopIteration\u001b[0m                             Traceback (most recent call last)",
      "\u001b[0;32m<ipython-input-36-c3916c155b1d>\u001b[0m in \u001b[0;36m<module>\u001b[0;34m()\u001b[0m\n\u001b[1;32m     14\u001b[0m \u001b[0mr3\u001b[0m\u001b[0;34m=\u001b[0m\u001b[0mres\u001b[0m\u001b[0;34m.\u001b[0m\u001b[0mnext\u001b[0m\u001b[0;34m(\u001b[0m\u001b[0;34m)\u001b[0m\u001b[0;34m\u001b[0m\u001b[0m\n\u001b[1;32m     15\u001b[0m \u001b[0;32mprint\u001b[0m \u001b[0;34m\"r3=\"\u001b[0m\u001b[0;34m,\u001b[0m\u001b[0mr3\u001b[0m\u001b[0;34m\u001b[0m\u001b[0m\n\u001b[0;32m---> 16\u001b[0;31m \u001b[0mr4\u001b[0m\u001b[0;34m=\u001b[0m\u001b[0mres\u001b[0m\u001b[0;34m.\u001b[0m\u001b[0mnext\u001b[0m\u001b[0;34m(\u001b[0m\u001b[0;34m)\u001b[0m\u001b[0;34m\u001b[0m\u001b[0m\n\u001b[0m\u001b[1;32m     17\u001b[0m \u001b[0;32mprint\u001b[0m \u001b[0;34m\"r4=\"\u001b[0m\u001b[0;34m,\u001b[0m\u001b[0mr4\u001b[0m\u001b[0;34m\u001b[0m\u001b[0m\n",
      "\u001b[0;31mStopIteration\u001b[0m: "
     ]
    }
   ],
   "source": [
    "def fun():\n",
    "    print \"st1\"\n",
    "    yield 10\n",
    "    print \"st2\"\n",
    "    yield 20\n",
    "    print \"st3\"\n",
    "    yield 30\n",
    "res=fun()\n",
    "print \"res=\",res\n",
    "r1=res.next()\n",
    "print \"r1=\",r1\n",
    "r2=res.next()\n",
    "print \"r2=\",r2\n",
    "r3=res.next()\n",
    "print \"r3=\",r3\n",
    "r4=res.next()\n",
    "print \"r4=\",r4"
   ]
  },
  {
   "cell_type": "code",
   "execution_count": 37,
   "metadata": {},
   "outputs": [
    {
     "name": "stdout",
     "output_type": "stream",
     "text": [
      "10\n",
      "20\n",
      "30\n"
     ]
    }
   ],
   "source": [
    "l=[10,20,30]\n",
    "for i in l:\n",
    "    print i"
   ]
  },
  {
   "cell_type": "code",
   "execution_count": 38,
   "metadata": {},
   "outputs": [
    {
     "name": "stdout",
     "output_type": "stream",
     "text": [
      "st1\n",
      "i= 10\n"
     ]
    }
   ],
   "source": [
    "def fun():\n",
    "    print \"st1\"\n",
    "    yield 10\n",
    "    print \"st2\"\n",
    "    yield 20\n",
    "    print \"st3\"\n",
    "    yield 30\n",
    "res=fun()\n",
    "for i in res:\n",
    "    print \"i=\",i\n",
    "    break"
   ]
  },
  {
   "cell_type": "code",
   "execution_count": 39,
   "metadata": {},
   "outputs": [
    {
     "name": "stdout",
     "output_type": "stream",
     "text": [
      "st1\n",
      "i= 10\n",
      "st2\n",
      "i= 20\n",
      "st3\n",
      "i= 30\n"
     ]
    }
   ],
   "source": [
    "def fun():\n",
    "    print \"st1\"\n",
    "    yield 10\n",
    "    print \"st2\"\n",
    "    yield 20\n",
    "    print \"st3\"\n",
    "    yield 30\n",
    "res=fun()\n",
    "for i in res:\n",
    "    print \"i=\",i\n"
   ]
  },
  {
   "cell_type": "code",
   "execution_count": 40,
   "metadata": {},
   "outputs": [
    {
     "data": {
      "text/plain": [
       "[0, 1, 2, 3, 4, 5, 6, 7, 8, 9]"
      ]
     },
     "execution_count": 40,
     "metadata": {},
     "output_type": "execute_result"
    }
   ],
   "source": [
    "range(10)"
   ]
  },
  {
   "cell_type": "code",
   "execution_count": 41,
   "metadata": {},
   "outputs": [
    {
     "name": "stdout",
     "output_type": "stream",
     "text": [
      "0\n",
      "1\n",
      "2\n",
      "3\n",
      "4\n",
      "5\n",
      "6\n",
      "7\n",
      "8\n",
      "9\n"
     ]
    }
   ],
   "source": [
    "# stroing [0,1,2,3,4,5,6,7,8,9] in memory\n",
    "# then iterating one by one\n",
    "for i in range(10):\n",
    "    print i"
   ]
  },
  {
   "cell_type": "code",
   "execution_count": 42,
   "metadata": {},
   "outputs": [
    {
     "ename": "MemoryError",
     "evalue": "",
     "output_type": "error",
     "traceback": [
      "\u001b[0;31m---------------------------------------------------------------------------\u001b[0m",
      "\u001b[0;31mMemoryError\u001b[0m                               Traceback (most recent call last)",
      "\u001b[0;32m<ipython-input-42-5f896b086984>\u001b[0m in \u001b[0;36m<module>\u001b[0;34m()\u001b[0m\n\u001b[1;32m      1\u001b[0m \u001b[0;31m# stroing [0--- 1319999999] in memory\u001b[0m\u001b[0;34m\u001b[0m\u001b[0;34m\u001b[0m\u001b[0m\n\u001b[1;32m      2\u001b[0m \u001b[0;31m# iterate one by one\u001b[0m\u001b[0;34m\u001b[0m\u001b[0;34m\u001b[0m\u001b[0m\n\u001b[0;32m----> 3\u001b[0;31m \u001b[0;32mfor\u001b[0m \u001b[0mi\u001b[0m \u001b[0;32min\u001b[0m \u001b[0mrange\u001b[0m\u001b[0;34m(\u001b[0m\u001b[0;36m1320000000\u001b[0m\u001b[0;34m)\u001b[0m\u001b[0;34m:\u001b[0m\u001b[0;34m\u001b[0m\u001b[0m\n\u001b[0m\u001b[1;32m      4\u001b[0m     \u001b[0;32mprint\u001b[0m \u001b[0mi\u001b[0m\u001b[0;34m\u001b[0m\u001b[0m\n\u001b[1;32m      5\u001b[0m     \u001b[0;32mbreak\u001b[0m\u001b[0;34m\u001b[0m\u001b[0m\n",
      "\u001b[0;31mMemoryError\u001b[0m: "
     ]
    }
   ],
   "source": [
    "# stroing [0--- 1319999999] in memory\n",
    "# iterate one by one\n",
    "for i in range(1320000000):\n",
    "    print i\n",
    "    break"
   ]
  },
  {
   "cell_type": "code",
   "execution_count": 44,
   "metadata": {},
   "outputs": [
    {
     "name": "stdout",
     "output_type": "stream",
     "text": [
      "0\n"
     ]
    }
   ],
   "source": [
    "# generator object which will generate an element for each and every iteration.\n",
    "# it wont store the element first\n",
    "# but it will generate one value one iteration. While it is going to the next iteration\n",
    "# it will remove the first element and generate next element\n",
    "for i in xrange(1320000000):\n",
    "    print i\n",
    "    break"
   ]
  },
  {
   "cell_type": "code",
   "execution_count": 45,
   "metadata": {},
   "outputs": [
    {
     "name": "stdout",
     "output_type": "stream",
     "text": [
      "0\n",
      "1\n",
      "2\n",
      "3\n",
      "4\n",
      "5\n",
      "6\n",
      "7\n",
      "8\n",
      "9\n"
     ]
    }
   ],
   "source": [
    "for i in range(10):\n",
    "    print i"
   ]
  },
  {
   "cell_type": "code",
   "execution_count": 46,
   "metadata": {
    "collapsed": true
   },
   "outputs": [],
   "source": [
    "customers = []\n",
    "for i in xrange(1000):\n",
    "    customers.append({\"id\":i,\"name\":\"name%s\"%i})"
   ]
  },
  {
   "cell_type": "code",
   "execution_count": 47,
   "metadata": {},
   "outputs": [
    {
     "data": {
      "text/plain": [
       "[{'id': 0, 'name': 'name0'},\n",
       " {'id': 1, 'name': 'name1'},\n",
       " {'id': 2, 'name': 'name2'},\n",
       " {'id': 3, 'name': 'name3'},\n",
       " {'id': 4, 'name': 'name4'},\n",
       " {'id': 5, 'name': 'name5'},\n",
       " {'id': 6, 'name': 'name6'},\n",
       " {'id': 7, 'name': 'name7'},\n",
       " {'id': 8, 'name': 'name8'},\n",
       " {'id': 9, 'name': 'name9'},\n",
       " {'id': 10, 'name': 'name10'},\n",
       " {'id': 11, 'name': 'name11'},\n",
       " {'id': 12, 'name': 'name12'},\n",
       " {'id': 13, 'name': 'name13'},\n",
       " {'id': 14, 'name': 'name14'},\n",
       " {'id': 15, 'name': 'name15'},\n",
       " {'id': 16, 'name': 'name16'},\n",
       " {'id': 17, 'name': 'name17'},\n",
       " {'id': 18, 'name': 'name18'},\n",
       " {'id': 19, 'name': 'name19'},\n",
       " {'id': 20, 'name': 'name20'},\n",
       " {'id': 21, 'name': 'name21'},\n",
       " {'id': 22, 'name': 'name22'},\n",
       " {'id': 23, 'name': 'name23'},\n",
       " {'id': 24, 'name': 'name24'},\n",
       " {'id': 25, 'name': 'name25'},\n",
       " {'id': 26, 'name': 'name26'},\n",
       " {'id': 27, 'name': 'name27'},\n",
       " {'id': 28, 'name': 'name28'},\n",
       " {'id': 29, 'name': 'name29'},\n",
       " {'id': 30, 'name': 'name30'},\n",
       " {'id': 31, 'name': 'name31'},\n",
       " {'id': 32, 'name': 'name32'},\n",
       " {'id': 33, 'name': 'name33'},\n",
       " {'id': 34, 'name': 'name34'},\n",
       " {'id': 35, 'name': 'name35'},\n",
       " {'id': 36, 'name': 'name36'},\n",
       " {'id': 37, 'name': 'name37'},\n",
       " {'id': 38, 'name': 'name38'},\n",
       " {'id': 39, 'name': 'name39'},\n",
       " {'id': 40, 'name': 'name40'},\n",
       " {'id': 41, 'name': 'name41'},\n",
       " {'id': 42, 'name': 'name42'},\n",
       " {'id': 43, 'name': 'name43'},\n",
       " {'id': 44, 'name': 'name44'},\n",
       " {'id': 45, 'name': 'name45'},\n",
       " {'id': 46, 'name': 'name46'},\n",
       " {'id': 47, 'name': 'name47'},\n",
       " {'id': 48, 'name': 'name48'},\n",
       " {'id': 49, 'name': 'name49'},\n",
       " {'id': 50, 'name': 'name50'},\n",
       " {'id': 51, 'name': 'name51'},\n",
       " {'id': 52, 'name': 'name52'},\n",
       " {'id': 53, 'name': 'name53'},\n",
       " {'id': 54, 'name': 'name54'},\n",
       " {'id': 55, 'name': 'name55'},\n",
       " {'id': 56, 'name': 'name56'},\n",
       " {'id': 57, 'name': 'name57'},\n",
       " {'id': 58, 'name': 'name58'},\n",
       " {'id': 59, 'name': 'name59'},\n",
       " {'id': 60, 'name': 'name60'},\n",
       " {'id': 61, 'name': 'name61'},\n",
       " {'id': 62, 'name': 'name62'},\n",
       " {'id': 63, 'name': 'name63'},\n",
       " {'id': 64, 'name': 'name64'},\n",
       " {'id': 65, 'name': 'name65'},\n",
       " {'id': 66, 'name': 'name66'},\n",
       " {'id': 67, 'name': 'name67'},\n",
       " {'id': 68, 'name': 'name68'},\n",
       " {'id': 69, 'name': 'name69'},\n",
       " {'id': 70, 'name': 'name70'},\n",
       " {'id': 71, 'name': 'name71'},\n",
       " {'id': 72, 'name': 'name72'},\n",
       " {'id': 73, 'name': 'name73'},\n",
       " {'id': 74, 'name': 'name74'},\n",
       " {'id': 75, 'name': 'name75'},\n",
       " {'id': 76, 'name': 'name76'},\n",
       " {'id': 77, 'name': 'name77'},\n",
       " {'id': 78, 'name': 'name78'},\n",
       " {'id': 79, 'name': 'name79'},\n",
       " {'id': 80, 'name': 'name80'},\n",
       " {'id': 81, 'name': 'name81'},\n",
       " {'id': 82, 'name': 'name82'},\n",
       " {'id': 83, 'name': 'name83'},\n",
       " {'id': 84, 'name': 'name84'},\n",
       " {'id': 85, 'name': 'name85'},\n",
       " {'id': 86, 'name': 'name86'},\n",
       " {'id': 87, 'name': 'name87'},\n",
       " {'id': 88, 'name': 'name88'},\n",
       " {'id': 89, 'name': 'name89'},\n",
       " {'id': 90, 'name': 'name90'},\n",
       " {'id': 91, 'name': 'name91'},\n",
       " {'id': 92, 'name': 'name92'},\n",
       " {'id': 93, 'name': 'name93'},\n",
       " {'id': 94, 'name': 'name94'},\n",
       " {'id': 95, 'name': 'name95'},\n",
       " {'id': 96, 'name': 'name96'},\n",
       " {'id': 97, 'name': 'name97'},\n",
       " {'id': 98, 'name': 'name98'},\n",
       " {'id': 99, 'name': 'name99'},\n",
       " {'id': 100, 'name': 'name100'},\n",
       " {'id': 101, 'name': 'name101'},\n",
       " {'id': 102, 'name': 'name102'},\n",
       " {'id': 103, 'name': 'name103'},\n",
       " {'id': 104, 'name': 'name104'},\n",
       " {'id': 105, 'name': 'name105'},\n",
       " {'id': 106, 'name': 'name106'},\n",
       " {'id': 107, 'name': 'name107'},\n",
       " {'id': 108, 'name': 'name108'},\n",
       " {'id': 109, 'name': 'name109'},\n",
       " {'id': 110, 'name': 'name110'},\n",
       " {'id': 111, 'name': 'name111'},\n",
       " {'id': 112, 'name': 'name112'},\n",
       " {'id': 113, 'name': 'name113'},\n",
       " {'id': 114, 'name': 'name114'},\n",
       " {'id': 115, 'name': 'name115'},\n",
       " {'id': 116, 'name': 'name116'},\n",
       " {'id': 117, 'name': 'name117'},\n",
       " {'id': 118, 'name': 'name118'},\n",
       " {'id': 119, 'name': 'name119'},\n",
       " {'id': 120, 'name': 'name120'},\n",
       " {'id': 121, 'name': 'name121'},\n",
       " {'id': 122, 'name': 'name122'},\n",
       " {'id': 123, 'name': 'name123'},\n",
       " {'id': 124, 'name': 'name124'},\n",
       " {'id': 125, 'name': 'name125'},\n",
       " {'id': 126, 'name': 'name126'},\n",
       " {'id': 127, 'name': 'name127'},\n",
       " {'id': 128, 'name': 'name128'},\n",
       " {'id': 129, 'name': 'name129'},\n",
       " {'id': 130, 'name': 'name130'},\n",
       " {'id': 131, 'name': 'name131'},\n",
       " {'id': 132, 'name': 'name132'},\n",
       " {'id': 133, 'name': 'name133'},\n",
       " {'id': 134, 'name': 'name134'},\n",
       " {'id': 135, 'name': 'name135'},\n",
       " {'id': 136, 'name': 'name136'},\n",
       " {'id': 137, 'name': 'name137'},\n",
       " {'id': 138, 'name': 'name138'},\n",
       " {'id': 139, 'name': 'name139'},\n",
       " {'id': 140, 'name': 'name140'},\n",
       " {'id': 141, 'name': 'name141'},\n",
       " {'id': 142, 'name': 'name142'},\n",
       " {'id': 143, 'name': 'name143'},\n",
       " {'id': 144, 'name': 'name144'},\n",
       " {'id': 145, 'name': 'name145'},\n",
       " {'id': 146, 'name': 'name146'},\n",
       " {'id': 147, 'name': 'name147'},\n",
       " {'id': 148, 'name': 'name148'},\n",
       " {'id': 149, 'name': 'name149'},\n",
       " {'id': 150, 'name': 'name150'},\n",
       " {'id': 151, 'name': 'name151'},\n",
       " {'id': 152, 'name': 'name152'},\n",
       " {'id': 153, 'name': 'name153'},\n",
       " {'id': 154, 'name': 'name154'},\n",
       " {'id': 155, 'name': 'name155'},\n",
       " {'id': 156, 'name': 'name156'},\n",
       " {'id': 157, 'name': 'name157'},\n",
       " {'id': 158, 'name': 'name158'},\n",
       " {'id': 159, 'name': 'name159'},\n",
       " {'id': 160, 'name': 'name160'},\n",
       " {'id': 161, 'name': 'name161'},\n",
       " {'id': 162, 'name': 'name162'},\n",
       " {'id': 163, 'name': 'name163'},\n",
       " {'id': 164, 'name': 'name164'},\n",
       " {'id': 165, 'name': 'name165'},\n",
       " {'id': 166, 'name': 'name166'},\n",
       " {'id': 167, 'name': 'name167'},\n",
       " {'id': 168, 'name': 'name168'},\n",
       " {'id': 169, 'name': 'name169'},\n",
       " {'id': 170, 'name': 'name170'},\n",
       " {'id': 171, 'name': 'name171'},\n",
       " {'id': 172, 'name': 'name172'},\n",
       " {'id': 173, 'name': 'name173'},\n",
       " {'id': 174, 'name': 'name174'},\n",
       " {'id': 175, 'name': 'name175'},\n",
       " {'id': 176, 'name': 'name176'},\n",
       " {'id': 177, 'name': 'name177'},\n",
       " {'id': 178, 'name': 'name178'},\n",
       " {'id': 179, 'name': 'name179'},\n",
       " {'id': 180, 'name': 'name180'},\n",
       " {'id': 181, 'name': 'name181'},\n",
       " {'id': 182, 'name': 'name182'},\n",
       " {'id': 183, 'name': 'name183'},\n",
       " {'id': 184, 'name': 'name184'},\n",
       " {'id': 185, 'name': 'name185'},\n",
       " {'id': 186, 'name': 'name186'},\n",
       " {'id': 187, 'name': 'name187'},\n",
       " {'id': 188, 'name': 'name188'},\n",
       " {'id': 189, 'name': 'name189'},\n",
       " {'id': 190, 'name': 'name190'},\n",
       " {'id': 191, 'name': 'name191'},\n",
       " {'id': 192, 'name': 'name192'},\n",
       " {'id': 193, 'name': 'name193'},\n",
       " {'id': 194, 'name': 'name194'},\n",
       " {'id': 195, 'name': 'name195'},\n",
       " {'id': 196, 'name': 'name196'},\n",
       " {'id': 197, 'name': 'name197'},\n",
       " {'id': 198, 'name': 'name198'},\n",
       " {'id': 199, 'name': 'name199'},\n",
       " {'id': 200, 'name': 'name200'},\n",
       " {'id': 201, 'name': 'name201'},\n",
       " {'id': 202, 'name': 'name202'},\n",
       " {'id': 203, 'name': 'name203'},\n",
       " {'id': 204, 'name': 'name204'},\n",
       " {'id': 205, 'name': 'name205'},\n",
       " {'id': 206, 'name': 'name206'},\n",
       " {'id': 207, 'name': 'name207'},\n",
       " {'id': 208, 'name': 'name208'},\n",
       " {'id': 209, 'name': 'name209'},\n",
       " {'id': 210, 'name': 'name210'},\n",
       " {'id': 211, 'name': 'name211'},\n",
       " {'id': 212, 'name': 'name212'},\n",
       " {'id': 213, 'name': 'name213'},\n",
       " {'id': 214, 'name': 'name214'},\n",
       " {'id': 215, 'name': 'name215'},\n",
       " {'id': 216, 'name': 'name216'},\n",
       " {'id': 217, 'name': 'name217'},\n",
       " {'id': 218, 'name': 'name218'},\n",
       " {'id': 219, 'name': 'name219'},\n",
       " {'id': 220, 'name': 'name220'},\n",
       " {'id': 221, 'name': 'name221'},\n",
       " {'id': 222, 'name': 'name222'},\n",
       " {'id': 223, 'name': 'name223'},\n",
       " {'id': 224, 'name': 'name224'},\n",
       " {'id': 225, 'name': 'name225'},\n",
       " {'id': 226, 'name': 'name226'},\n",
       " {'id': 227, 'name': 'name227'},\n",
       " {'id': 228, 'name': 'name228'},\n",
       " {'id': 229, 'name': 'name229'},\n",
       " {'id': 230, 'name': 'name230'},\n",
       " {'id': 231, 'name': 'name231'},\n",
       " {'id': 232, 'name': 'name232'},\n",
       " {'id': 233, 'name': 'name233'},\n",
       " {'id': 234, 'name': 'name234'},\n",
       " {'id': 235, 'name': 'name235'},\n",
       " {'id': 236, 'name': 'name236'},\n",
       " {'id': 237, 'name': 'name237'},\n",
       " {'id': 238, 'name': 'name238'},\n",
       " {'id': 239, 'name': 'name239'},\n",
       " {'id': 240, 'name': 'name240'},\n",
       " {'id': 241, 'name': 'name241'},\n",
       " {'id': 242, 'name': 'name242'},\n",
       " {'id': 243, 'name': 'name243'},\n",
       " {'id': 244, 'name': 'name244'},\n",
       " {'id': 245, 'name': 'name245'},\n",
       " {'id': 246, 'name': 'name246'},\n",
       " {'id': 247, 'name': 'name247'},\n",
       " {'id': 248, 'name': 'name248'},\n",
       " {'id': 249, 'name': 'name249'},\n",
       " {'id': 250, 'name': 'name250'},\n",
       " {'id': 251, 'name': 'name251'},\n",
       " {'id': 252, 'name': 'name252'},\n",
       " {'id': 253, 'name': 'name253'},\n",
       " {'id': 254, 'name': 'name254'},\n",
       " {'id': 255, 'name': 'name255'},\n",
       " {'id': 256, 'name': 'name256'},\n",
       " {'id': 257, 'name': 'name257'},\n",
       " {'id': 258, 'name': 'name258'},\n",
       " {'id': 259, 'name': 'name259'},\n",
       " {'id': 260, 'name': 'name260'},\n",
       " {'id': 261, 'name': 'name261'},\n",
       " {'id': 262, 'name': 'name262'},\n",
       " {'id': 263, 'name': 'name263'},\n",
       " {'id': 264, 'name': 'name264'},\n",
       " {'id': 265, 'name': 'name265'},\n",
       " {'id': 266, 'name': 'name266'},\n",
       " {'id': 267, 'name': 'name267'},\n",
       " {'id': 268, 'name': 'name268'},\n",
       " {'id': 269, 'name': 'name269'},\n",
       " {'id': 270, 'name': 'name270'},\n",
       " {'id': 271, 'name': 'name271'},\n",
       " {'id': 272, 'name': 'name272'},\n",
       " {'id': 273, 'name': 'name273'},\n",
       " {'id': 274, 'name': 'name274'},\n",
       " {'id': 275, 'name': 'name275'},\n",
       " {'id': 276, 'name': 'name276'},\n",
       " {'id': 277, 'name': 'name277'},\n",
       " {'id': 278, 'name': 'name278'},\n",
       " {'id': 279, 'name': 'name279'},\n",
       " {'id': 280, 'name': 'name280'},\n",
       " {'id': 281, 'name': 'name281'},\n",
       " {'id': 282, 'name': 'name282'},\n",
       " {'id': 283, 'name': 'name283'},\n",
       " {'id': 284, 'name': 'name284'},\n",
       " {'id': 285, 'name': 'name285'},\n",
       " {'id': 286, 'name': 'name286'},\n",
       " {'id': 287, 'name': 'name287'},\n",
       " {'id': 288, 'name': 'name288'},\n",
       " {'id': 289, 'name': 'name289'},\n",
       " {'id': 290, 'name': 'name290'},\n",
       " {'id': 291, 'name': 'name291'},\n",
       " {'id': 292, 'name': 'name292'},\n",
       " {'id': 293, 'name': 'name293'},\n",
       " {'id': 294, 'name': 'name294'},\n",
       " {'id': 295, 'name': 'name295'},\n",
       " {'id': 296, 'name': 'name296'},\n",
       " {'id': 297, 'name': 'name297'},\n",
       " {'id': 298, 'name': 'name298'},\n",
       " {'id': 299, 'name': 'name299'},\n",
       " {'id': 300, 'name': 'name300'},\n",
       " {'id': 301, 'name': 'name301'},\n",
       " {'id': 302, 'name': 'name302'},\n",
       " {'id': 303, 'name': 'name303'},\n",
       " {'id': 304, 'name': 'name304'},\n",
       " {'id': 305, 'name': 'name305'},\n",
       " {'id': 306, 'name': 'name306'},\n",
       " {'id': 307, 'name': 'name307'},\n",
       " {'id': 308, 'name': 'name308'},\n",
       " {'id': 309, 'name': 'name309'},\n",
       " {'id': 310, 'name': 'name310'},\n",
       " {'id': 311, 'name': 'name311'},\n",
       " {'id': 312, 'name': 'name312'},\n",
       " {'id': 313, 'name': 'name313'},\n",
       " {'id': 314, 'name': 'name314'},\n",
       " {'id': 315, 'name': 'name315'},\n",
       " {'id': 316, 'name': 'name316'},\n",
       " {'id': 317, 'name': 'name317'},\n",
       " {'id': 318, 'name': 'name318'},\n",
       " {'id': 319, 'name': 'name319'},\n",
       " {'id': 320, 'name': 'name320'},\n",
       " {'id': 321, 'name': 'name321'},\n",
       " {'id': 322, 'name': 'name322'},\n",
       " {'id': 323, 'name': 'name323'},\n",
       " {'id': 324, 'name': 'name324'},\n",
       " {'id': 325, 'name': 'name325'},\n",
       " {'id': 326, 'name': 'name326'},\n",
       " {'id': 327, 'name': 'name327'},\n",
       " {'id': 328, 'name': 'name328'},\n",
       " {'id': 329, 'name': 'name329'},\n",
       " {'id': 330, 'name': 'name330'},\n",
       " {'id': 331, 'name': 'name331'},\n",
       " {'id': 332, 'name': 'name332'},\n",
       " {'id': 333, 'name': 'name333'},\n",
       " {'id': 334, 'name': 'name334'},\n",
       " {'id': 335, 'name': 'name335'},\n",
       " {'id': 336, 'name': 'name336'},\n",
       " {'id': 337, 'name': 'name337'},\n",
       " {'id': 338, 'name': 'name338'},\n",
       " {'id': 339, 'name': 'name339'},\n",
       " {'id': 340, 'name': 'name340'},\n",
       " {'id': 341, 'name': 'name341'},\n",
       " {'id': 342, 'name': 'name342'},\n",
       " {'id': 343, 'name': 'name343'},\n",
       " {'id': 344, 'name': 'name344'},\n",
       " {'id': 345, 'name': 'name345'},\n",
       " {'id': 346, 'name': 'name346'},\n",
       " {'id': 347, 'name': 'name347'},\n",
       " {'id': 348, 'name': 'name348'},\n",
       " {'id': 349, 'name': 'name349'},\n",
       " {'id': 350, 'name': 'name350'},\n",
       " {'id': 351, 'name': 'name351'},\n",
       " {'id': 352, 'name': 'name352'},\n",
       " {'id': 353, 'name': 'name353'},\n",
       " {'id': 354, 'name': 'name354'},\n",
       " {'id': 355, 'name': 'name355'},\n",
       " {'id': 356, 'name': 'name356'},\n",
       " {'id': 357, 'name': 'name357'},\n",
       " {'id': 358, 'name': 'name358'},\n",
       " {'id': 359, 'name': 'name359'},\n",
       " {'id': 360, 'name': 'name360'},\n",
       " {'id': 361, 'name': 'name361'},\n",
       " {'id': 362, 'name': 'name362'},\n",
       " {'id': 363, 'name': 'name363'},\n",
       " {'id': 364, 'name': 'name364'},\n",
       " {'id': 365, 'name': 'name365'},\n",
       " {'id': 366, 'name': 'name366'},\n",
       " {'id': 367, 'name': 'name367'},\n",
       " {'id': 368, 'name': 'name368'},\n",
       " {'id': 369, 'name': 'name369'},\n",
       " {'id': 370, 'name': 'name370'},\n",
       " {'id': 371, 'name': 'name371'},\n",
       " {'id': 372, 'name': 'name372'},\n",
       " {'id': 373, 'name': 'name373'},\n",
       " {'id': 374, 'name': 'name374'},\n",
       " {'id': 375, 'name': 'name375'},\n",
       " {'id': 376, 'name': 'name376'},\n",
       " {'id': 377, 'name': 'name377'},\n",
       " {'id': 378, 'name': 'name378'},\n",
       " {'id': 379, 'name': 'name379'},\n",
       " {'id': 380, 'name': 'name380'},\n",
       " {'id': 381, 'name': 'name381'},\n",
       " {'id': 382, 'name': 'name382'},\n",
       " {'id': 383, 'name': 'name383'},\n",
       " {'id': 384, 'name': 'name384'},\n",
       " {'id': 385, 'name': 'name385'},\n",
       " {'id': 386, 'name': 'name386'},\n",
       " {'id': 387, 'name': 'name387'},\n",
       " {'id': 388, 'name': 'name388'},\n",
       " {'id': 389, 'name': 'name389'},\n",
       " {'id': 390, 'name': 'name390'},\n",
       " {'id': 391, 'name': 'name391'},\n",
       " {'id': 392, 'name': 'name392'},\n",
       " {'id': 393, 'name': 'name393'},\n",
       " {'id': 394, 'name': 'name394'},\n",
       " {'id': 395, 'name': 'name395'},\n",
       " {'id': 396, 'name': 'name396'},\n",
       " {'id': 397, 'name': 'name397'},\n",
       " {'id': 398, 'name': 'name398'},\n",
       " {'id': 399, 'name': 'name399'},\n",
       " {'id': 400, 'name': 'name400'},\n",
       " {'id': 401, 'name': 'name401'},\n",
       " {'id': 402, 'name': 'name402'},\n",
       " {'id': 403, 'name': 'name403'},\n",
       " {'id': 404, 'name': 'name404'},\n",
       " {'id': 405, 'name': 'name405'},\n",
       " {'id': 406, 'name': 'name406'},\n",
       " {'id': 407, 'name': 'name407'},\n",
       " {'id': 408, 'name': 'name408'},\n",
       " {'id': 409, 'name': 'name409'},\n",
       " {'id': 410, 'name': 'name410'},\n",
       " {'id': 411, 'name': 'name411'},\n",
       " {'id': 412, 'name': 'name412'},\n",
       " {'id': 413, 'name': 'name413'},\n",
       " {'id': 414, 'name': 'name414'},\n",
       " {'id': 415, 'name': 'name415'},\n",
       " {'id': 416, 'name': 'name416'},\n",
       " {'id': 417, 'name': 'name417'},\n",
       " {'id': 418, 'name': 'name418'},\n",
       " {'id': 419, 'name': 'name419'},\n",
       " {'id': 420, 'name': 'name420'},\n",
       " {'id': 421, 'name': 'name421'},\n",
       " {'id': 422, 'name': 'name422'},\n",
       " {'id': 423, 'name': 'name423'},\n",
       " {'id': 424, 'name': 'name424'},\n",
       " {'id': 425, 'name': 'name425'},\n",
       " {'id': 426, 'name': 'name426'},\n",
       " {'id': 427, 'name': 'name427'},\n",
       " {'id': 428, 'name': 'name428'},\n",
       " {'id': 429, 'name': 'name429'},\n",
       " {'id': 430, 'name': 'name430'},\n",
       " {'id': 431, 'name': 'name431'},\n",
       " {'id': 432, 'name': 'name432'},\n",
       " {'id': 433, 'name': 'name433'},\n",
       " {'id': 434, 'name': 'name434'},\n",
       " {'id': 435, 'name': 'name435'},\n",
       " {'id': 436, 'name': 'name436'},\n",
       " {'id': 437, 'name': 'name437'},\n",
       " {'id': 438, 'name': 'name438'},\n",
       " {'id': 439, 'name': 'name439'},\n",
       " {'id': 440, 'name': 'name440'},\n",
       " {'id': 441, 'name': 'name441'},\n",
       " {'id': 442, 'name': 'name442'},\n",
       " {'id': 443, 'name': 'name443'},\n",
       " {'id': 444, 'name': 'name444'},\n",
       " {'id': 445, 'name': 'name445'},\n",
       " {'id': 446, 'name': 'name446'},\n",
       " {'id': 447, 'name': 'name447'},\n",
       " {'id': 448, 'name': 'name448'},\n",
       " {'id': 449, 'name': 'name449'},\n",
       " {'id': 450, 'name': 'name450'},\n",
       " {'id': 451, 'name': 'name451'},\n",
       " {'id': 452, 'name': 'name452'},\n",
       " {'id': 453, 'name': 'name453'},\n",
       " {'id': 454, 'name': 'name454'},\n",
       " {'id': 455, 'name': 'name455'},\n",
       " {'id': 456, 'name': 'name456'},\n",
       " {'id': 457, 'name': 'name457'},\n",
       " {'id': 458, 'name': 'name458'},\n",
       " {'id': 459, 'name': 'name459'},\n",
       " {'id': 460, 'name': 'name460'},\n",
       " {'id': 461, 'name': 'name461'},\n",
       " {'id': 462, 'name': 'name462'},\n",
       " {'id': 463, 'name': 'name463'},\n",
       " {'id': 464, 'name': 'name464'},\n",
       " {'id': 465, 'name': 'name465'},\n",
       " {'id': 466, 'name': 'name466'},\n",
       " {'id': 467, 'name': 'name467'},\n",
       " {'id': 468, 'name': 'name468'},\n",
       " {'id': 469, 'name': 'name469'},\n",
       " {'id': 470, 'name': 'name470'},\n",
       " {'id': 471, 'name': 'name471'},\n",
       " {'id': 472, 'name': 'name472'},\n",
       " {'id': 473, 'name': 'name473'},\n",
       " {'id': 474, 'name': 'name474'},\n",
       " {'id': 475, 'name': 'name475'},\n",
       " {'id': 476, 'name': 'name476'},\n",
       " {'id': 477, 'name': 'name477'},\n",
       " {'id': 478, 'name': 'name478'},\n",
       " {'id': 479, 'name': 'name479'},\n",
       " {'id': 480, 'name': 'name480'},\n",
       " {'id': 481, 'name': 'name481'},\n",
       " {'id': 482, 'name': 'name482'},\n",
       " {'id': 483, 'name': 'name483'},\n",
       " {'id': 484, 'name': 'name484'},\n",
       " {'id': 485, 'name': 'name485'},\n",
       " {'id': 486, 'name': 'name486'},\n",
       " {'id': 487, 'name': 'name487'},\n",
       " {'id': 488, 'name': 'name488'},\n",
       " {'id': 489, 'name': 'name489'},\n",
       " {'id': 490, 'name': 'name490'},\n",
       " {'id': 491, 'name': 'name491'},\n",
       " {'id': 492, 'name': 'name492'},\n",
       " {'id': 493, 'name': 'name493'},\n",
       " {'id': 494, 'name': 'name494'},\n",
       " {'id': 495, 'name': 'name495'},\n",
       " {'id': 496, 'name': 'name496'},\n",
       " {'id': 497, 'name': 'name497'},\n",
       " {'id': 498, 'name': 'name498'},\n",
       " {'id': 499, 'name': 'name499'},\n",
       " {'id': 500, 'name': 'name500'},\n",
       " {'id': 501, 'name': 'name501'},\n",
       " {'id': 502, 'name': 'name502'},\n",
       " {'id': 503, 'name': 'name503'},\n",
       " {'id': 504, 'name': 'name504'},\n",
       " {'id': 505, 'name': 'name505'},\n",
       " {'id': 506, 'name': 'name506'},\n",
       " {'id': 507, 'name': 'name507'},\n",
       " {'id': 508, 'name': 'name508'},\n",
       " {'id': 509, 'name': 'name509'},\n",
       " {'id': 510, 'name': 'name510'},\n",
       " {'id': 511, 'name': 'name511'},\n",
       " {'id': 512, 'name': 'name512'},\n",
       " {'id': 513, 'name': 'name513'},\n",
       " {'id': 514, 'name': 'name514'},\n",
       " {'id': 515, 'name': 'name515'},\n",
       " {'id': 516, 'name': 'name516'},\n",
       " {'id': 517, 'name': 'name517'},\n",
       " {'id': 518, 'name': 'name518'},\n",
       " {'id': 519, 'name': 'name519'},\n",
       " {'id': 520, 'name': 'name520'},\n",
       " {'id': 521, 'name': 'name521'},\n",
       " {'id': 522, 'name': 'name522'},\n",
       " {'id': 523, 'name': 'name523'},\n",
       " {'id': 524, 'name': 'name524'},\n",
       " {'id': 525, 'name': 'name525'},\n",
       " {'id': 526, 'name': 'name526'},\n",
       " {'id': 527, 'name': 'name527'},\n",
       " {'id': 528, 'name': 'name528'},\n",
       " {'id': 529, 'name': 'name529'},\n",
       " {'id': 530, 'name': 'name530'},\n",
       " {'id': 531, 'name': 'name531'},\n",
       " {'id': 532, 'name': 'name532'},\n",
       " {'id': 533, 'name': 'name533'},\n",
       " {'id': 534, 'name': 'name534'},\n",
       " {'id': 535, 'name': 'name535'},\n",
       " {'id': 536, 'name': 'name536'},\n",
       " {'id': 537, 'name': 'name537'},\n",
       " {'id': 538, 'name': 'name538'},\n",
       " {'id': 539, 'name': 'name539'},\n",
       " {'id': 540, 'name': 'name540'},\n",
       " {'id': 541, 'name': 'name541'},\n",
       " {'id': 542, 'name': 'name542'},\n",
       " {'id': 543, 'name': 'name543'},\n",
       " {'id': 544, 'name': 'name544'},\n",
       " {'id': 545, 'name': 'name545'},\n",
       " {'id': 546, 'name': 'name546'},\n",
       " {'id': 547, 'name': 'name547'},\n",
       " {'id': 548, 'name': 'name548'},\n",
       " {'id': 549, 'name': 'name549'},\n",
       " {'id': 550, 'name': 'name550'},\n",
       " {'id': 551, 'name': 'name551'},\n",
       " {'id': 552, 'name': 'name552'},\n",
       " {'id': 553, 'name': 'name553'},\n",
       " {'id': 554, 'name': 'name554'},\n",
       " {'id': 555, 'name': 'name555'},\n",
       " {'id': 556, 'name': 'name556'},\n",
       " {'id': 557, 'name': 'name557'},\n",
       " {'id': 558, 'name': 'name558'},\n",
       " {'id': 559, 'name': 'name559'},\n",
       " {'id': 560, 'name': 'name560'},\n",
       " {'id': 561, 'name': 'name561'},\n",
       " {'id': 562, 'name': 'name562'},\n",
       " {'id': 563, 'name': 'name563'},\n",
       " {'id': 564, 'name': 'name564'},\n",
       " {'id': 565, 'name': 'name565'},\n",
       " {'id': 566, 'name': 'name566'},\n",
       " {'id': 567, 'name': 'name567'},\n",
       " {'id': 568, 'name': 'name568'},\n",
       " {'id': 569, 'name': 'name569'},\n",
       " {'id': 570, 'name': 'name570'},\n",
       " {'id': 571, 'name': 'name571'},\n",
       " {'id': 572, 'name': 'name572'},\n",
       " {'id': 573, 'name': 'name573'},\n",
       " {'id': 574, 'name': 'name574'},\n",
       " {'id': 575, 'name': 'name575'},\n",
       " {'id': 576, 'name': 'name576'},\n",
       " {'id': 577, 'name': 'name577'},\n",
       " {'id': 578, 'name': 'name578'},\n",
       " {'id': 579, 'name': 'name579'},\n",
       " {'id': 580, 'name': 'name580'},\n",
       " {'id': 581, 'name': 'name581'},\n",
       " {'id': 582, 'name': 'name582'},\n",
       " {'id': 583, 'name': 'name583'},\n",
       " {'id': 584, 'name': 'name584'},\n",
       " {'id': 585, 'name': 'name585'},\n",
       " {'id': 586, 'name': 'name586'},\n",
       " {'id': 587, 'name': 'name587'},\n",
       " {'id': 588, 'name': 'name588'},\n",
       " {'id': 589, 'name': 'name589'},\n",
       " {'id': 590, 'name': 'name590'},\n",
       " {'id': 591, 'name': 'name591'},\n",
       " {'id': 592, 'name': 'name592'},\n",
       " {'id': 593, 'name': 'name593'},\n",
       " {'id': 594, 'name': 'name594'},\n",
       " {'id': 595, 'name': 'name595'},\n",
       " {'id': 596, 'name': 'name596'},\n",
       " {'id': 597, 'name': 'name597'},\n",
       " {'id': 598, 'name': 'name598'},\n",
       " {'id': 599, 'name': 'name599'},\n",
       " {'id': 600, 'name': 'name600'},\n",
       " {'id': 601, 'name': 'name601'},\n",
       " {'id': 602, 'name': 'name602'},\n",
       " {'id': 603, 'name': 'name603'},\n",
       " {'id': 604, 'name': 'name604'},\n",
       " {'id': 605, 'name': 'name605'},\n",
       " {'id': 606, 'name': 'name606'},\n",
       " {'id': 607, 'name': 'name607'},\n",
       " {'id': 608, 'name': 'name608'},\n",
       " {'id': 609, 'name': 'name609'},\n",
       " {'id': 610, 'name': 'name610'},\n",
       " {'id': 611, 'name': 'name611'},\n",
       " {'id': 612, 'name': 'name612'},\n",
       " {'id': 613, 'name': 'name613'},\n",
       " {'id': 614, 'name': 'name614'},\n",
       " {'id': 615, 'name': 'name615'},\n",
       " {'id': 616, 'name': 'name616'},\n",
       " {'id': 617, 'name': 'name617'},\n",
       " {'id': 618, 'name': 'name618'},\n",
       " {'id': 619, 'name': 'name619'},\n",
       " {'id': 620, 'name': 'name620'},\n",
       " {'id': 621, 'name': 'name621'},\n",
       " {'id': 622, 'name': 'name622'},\n",
       " {'id': 623, 'name': 'name623'},\n",
       " {'id': 624, 'name': 'name624'},\n",
       " {'id': 625, 'name': 'name625'},\n",
       " {'id': 626, 'name': 'name626'},\n",
       " {'id': 627, 'name': 'name627'},\n",
       " {'id': 628, 'name': 'name628'},\n",
       " {'id': 629, 'name': 'name629'},\n",
       " {'id': 630, 'name': 'name630'},\n",
       " {'id': 631, 'name': 'name631'},\n",
       " {'id': 632, 'name': 'name632'},\n",
       " {'id': 633, 'name': 'name633'},\n",
       " {'id': 634, 'name': 'name634'},\n",
       " {'id': 635, 'name': 'name635'},\n",
       " {'id': 636, 'name': 'name636'},\n",
       " {'id': 637, 'name': 'name637'},\n",
       " {'id': 638, 'name': 'name638'},\n",
       " {'id': 639, 'name': 'name639'},\n",
       " {'id': 640, 'name': 'name640'},\n",
       " {'id': 641, 'name': 'name641'},\n",
       " {'id': 642, 'name': 'name642'},\n",
       " {'id': 643, 'name': 'name643'},\n",
       " {'id': 644, 'name': 'name644'},\n",
       " {'id': 645, 'name': 'name645'},\n",
       " {'id': 646, 'name': 'name646'},\n",
       " {'id': 647, 'name': 'name647'},\n",
       " {'id': 648, 'name': 'name648'},\n",
       " {'id': 649, 'name': 'name649'},\n",
       " {'id': 650, 'name': 'name650'},\n",
       " {'id': 651, 'name': 'name651'},\n",
       " {'id': 652, 'name': 'name652'},\n",
       " {'id': 653, 'name': 'name653'},\n",
       " {'id': 654, 'name': 'name654'},\n",
       " {'id': 655, 'name': 'name655'},\n",
       " {'id': 656, 'name': 'name656'},\n",
       " {'id': 657, 'name': 'name657'},\n",
       " {'id': 658, 'name': 'name658'},\n",
       " {'id': 659, 'name': 'name659'},\n",
       " {'id': 660, 'name': 'name660'},\n",
       " {'id': 661, 'name': 'name661'},\n",
       " {'id': 662, 'name': 'name662'},\n",
       " {'id': 663, 'name': 'name663'},\n",
       " {'id': 664, 'name': 'name664'},\n",
       " {'id': 665, 'name': 'name665'},\n",
       " {'id': 666, 'name': 'name666'},\n",
       " {'id': 667, 'name': 'name667'},\n",
       " {'id': 668, 'name': 'name668'},\n",
       " {'id': 669, 'name': 'name669'},\n",
       " {'id': 670, 'name': 'name670'},\n",
       " {'id': 671, 'name': 'name671'},\n",
       " {'id': 672, 'name': 'name672'},\n",
       " {'id': 673, 'name': 'name673'},\n",
       " {'id': 674, 'name': 'name674'},\n",
       " {'id': 675, 'name': 'name675'},\n",
       " {'id': 676, 'name': 'name676'},\n",
       " {'id': 677, 'name': 'name677'},\n",
       " {'id': 678, 'name': 'name678'},\n",
       " {'id': 679, 'name': 'name679'},\n",
       " {'id': 680, 'name': 'name680'},\n",
       " {'id': 681, 'name': 'name681'},\n",
       " {'id': 682, 'name': 'name682'},\n",
       " {'id': 683, 'name': 'name683'},\n",
       " {'id': 684, 'name': 'name684'},\n",
       " {'id': 685, 'name': 'name685'},\n",
       " {'id': 686, 'name': 'name686'},\n",
       " {'id': 687, 'name': 'name687'},\n",
       " {'id': 688, 'name': 'name688'},\n",
       " {'id': 689, 'name': 'name689'},\n",
       " {'id': 690, 'name': 'name690'},\n",
       " {'id': 691, 'name': 'name691'},\n",
       " {'id': 692, 'name': 'name692'},\n",
       " {'id': 693, 'name': 'name693'},\n",
       " {'id': 694, 'name': 'name694'},\n",
       " {'id': 695, 'name': 'name695'},\n",
       " {'id': 696, 'name': 'name696'},\n",
       " {'id': 697, 'name': 'name697'},\n",
       " {'id': 698, 'name': 'name698'},\n",
       " {'id': 699, 'name': 'name699'},\n",
       " {'id': 700, 'name': 'name700'},\n",
       " {'id': 701, 'name': 'name701'},\n",
       " {'id': 702, 'name': 'name702'},\n",
       " {'id': 703, 'name': 'name703'},\n",
       " {'id': 704, 'name': 'name704'},\n",
       " {'id': 705, 'name': 'name705'},\n",
       " {'id': 706, 'name': 'name706'},\n",
       " {'id': 707, 'name': 'name707'},\n",
       " {'id': 708, 'name': 'name708'},\n",
       " {'id': 709, 'name': 'name709'},\n",
       " {'id': 710, 'name': 'name710'},\n",
       " {'id': 711, 'name': 'name711'},\n",
       " {'id': 712, 'name': 'name712'},\n",
       " {'id': 713, 'name': 'name713'},\n",
       " {'id': 714, 'name': 'name714'},\n",
       " {'id': 715, 'name': 'name715'},\n",
       " {'id': 716, 'name': 'name716'},\n",
       " {'id': 717, 'name': 'name717'},\n",
       " {'id': 718, 'name': 'name718'},\n",
       " {'id': 719, 'name': 'name719'},\n",
       " {'id': 720, 'name': 'name720'},\n",
       " {'id': 721, 'name': 'name721'},\n",
       " {'id': 722, 'name': 'name722'},\n",
       " {'id': 723, 'name': 'name723'},\n",
       " {'id': 724, 'name': 'name724'},\n",
       " {'id': 725, 'name': 'name725'},\n",
       " {'id': 726, 'name': 'name726'},\n",
       " {'id': 727, 'name': 'name727'},\n",
       " {'id': 728, 'name': 'name728'},\n",
       " {'id': 729, 'name': 'name729'},\n",
       " {'id': 730, 'name': 'name730'},\n",
       " {'id': 731, 'name': 'name731'},\n",
       " {'id': 732, 'name': 'name732'},\n",
       " {'id': 733, 'name': 'name733'},\n",
       " {'id': 734, 'name': 'name734'},\n",
       " {'id': 735, 'name': 'name735'},\n",
       " {'id': 736, 'name': 'name736'},\n",
       " {'id': 737, 'name': 'name737'},\n",
       " {'id': 738, 'name': 'name738'},\n",
       " {'id': 739, 'name': 'name739'},\n",
       " {'id': 740, 'name': 'name740'},\n",
       " {'id': 741, 'name': 'name741'},\n",
       " {'id': 742, 'name': 'name742'},\n",
       " {'id': 743, 'name': 'name743'},\n",
       " {'id': 744, 'name': 'name744'},\n",
       " {'id': 745, 'name': 'name745'},\n",
       " {'id': 746, 'name': 'name746'},\n",
       " {'id': 747, 'name': 'name747'},\n",
       " {'id': 748, 'name': 'name748'},\n",
       " {'id': 749, 'name': 'name749'},\n",
       " {'id': 750, 'name': 'name750'},\n",
       " {'id': 751, 'name': 'name751'},\n",
       " {'id': 752, 'name': 'name752'},\n",
       " {'id': 753, 'name': 'name753'},\n",
       " {'id': 754, 'name': 'name754'},\n",
       " {'id': 755, 'name': 'name755'},\n",
       " {'id': 756, 'name': 'name756'},\n",
       " {'id': 757, 'name': 'name757'},\n",
       " {'id': 758, 'name': 'name758'},\n",
       " {'id': 759, 'name': 'name759'},\n",
       " {'id': 760, 'name': 'name760'},\n",
       " {'id': 761, 'name': 'name761'},\n",
       " {'id': 762, 'name': 'name762'},\n",
       " {'id': 763, 'name': 'name763'},\n",
       " {'id': 764, 'name': 'name764'},\n",
       " {'id': 765, 'name': 'name765'},\n",
       " {'id': 766, 'name': 'name766'},\n",
       " {'id': 767, 'name': 'name767'},\n",
       " {'id': 768, 'name': 'name768'},\n",
       " {'id': 769, 'name': 'name769'},\n",
       " {'id': 770, 'name': 'name770'},\n",
       " {'id': 771, 'name': 'name771'},\n",
       " {'id': 772, 'name': 'name772'},\n",
       " {'id': 773, 'name': 'name773'},\n",
       " {'id': 774, 'name': 'name774'},\n",
       " {'id': 775, 'name': 'name775'},\n",
       " {'id': 776, 'name': 'name776'},\n",
       " {'id': 777, 'name': 'name777'},\n",
       " {'id': 778, 'name': 'name778'},\n",
       " {'id': 779, 'name': 'name779'},\n",
       " {'id': 780, 'name': 'name780'},\n",
       " {'id': 781, 'name': 'name781'},\n",
       " {'id': 782, 'name': 'name782'},\n",
       " {'id': 783, 'name': 'name783'},\n",
       " {'id': 784, 'name': 'name784'},\n",
       " {'id': 785, 'name': 'name785'},\n",
       " {'id': 786, 'name': 'name786'},\n",
       " {'id': 787, 'name': 'name787'},\n",
       " {'id': 788, 'name': 'name788'},\n",
       " {'id': 789, 'name': 'name789'},\n",
       " {'id': 790, 'name': 'name790'},\n",
       " {'id': 791, 'name': 'name791'},\n",
       " {'id': 792, 'name': 'name792'},\n",
       " {'id': 793, 'name': 'name793'},\n",
       " {'id': 794, 'name': 'name794'},\n",
       " {'id': 795, 'name': 'name795'},\n",
       " {'id': 796, 'name': 'name796'},\n",
       " {'id': 797, 'name': 'name797'},\n",
       " {'id': 798, 'name': 'name798'},\n",
       " {'id': 799, 'name': 'name799'},\n",
       " {'id': 800, 'name': 'name800'},\n",
       " {'id': 801, 'name': 'name801'},\n",
       " {'id': 802, 'name': 'name802'},\n",
       " {'id': 803, 'name': 'name803'},\n",
       " {'id': 804, 'name': 'name804'},\n",
       " {'id': 805, 'name': 'name805'},\n",
       " {'id': 806, 'name': 'name806'},\n",
       " {'id': 807, 'name': 'name807'},\n",
       " {'id': 808, 'name': 'name808'},\n",
       " {'id': 809, 'name': 'name809'},\n",
       " {'id': 810, 'name': 'name810'},\n",
       " {'id': 811, 'name': 'name811'},\n",
       " {'id': 812, 'name': 'name812'},\n",
       " {'id': 813, 'name': 'name813'},\n",
       " {'id': 814, 'name': 'name814'},\n",
       " {'id': 815, 'name': 'name815'},\n",
       " {'id': 816, 'name': 'name816'},\n",
       " {'id': 817, 'name': 'name817'},\n",
       " {'id': 818, 'name': 'name818'},\n",
       " {'id': 819, 'name': 'name819'},\n",
       " {'id': 820, 'name': 'name820'},\n",
       " {'id': 821, 'name': 'name821'},\n",
       " {'id': 822, 'name': 'name822'},\n",
       " {'id': 823, 'name': 'name823'},\n",
       " {'id': 824, 'name': 'name824'},\n",
       " {'id': 825, 'name': 'name825'},\n",
       " {'id': 826, 'name': 'name826'},\n",
       " {'id': 827, 'name': 'name827'},\n",
       " {'id': 828, 'name': 'name828'},\n",
       " {'id': 829, 'name': 'name829'},\n",
       " {'id': 830, 'name': 'name830'},\n",
       " {'id': 831, 'name': 'name831'},\n",
       " {'id': 832, 'name': 'name832'},\n",
       " {'id': 833, 'name': 'name833'},\n",
       " {'id': 834, 'name': 'name834'},\n",
       " {'id': 835, 'name': 'name835'},\n",
       " {'id': 836, 'name': 'name836'},\n",
       " {'id': 837, 'name': 'name837'},\n",
       " {'id': 838, 'name': 'name838'},\n",
       " {'id': 839, 'name': 'name839'},\n",
       " {'id': 840, 'name': 'name840'},\n",
       " {'id': 841, 'name': 'name841'},\n",
       " {'id': 842, 'name': 'name842'},\n",
       " {'id': 843, 'name': 'name843'},\n",
       " {'id': 844, 'name': 'name844'},\n",
       " {'id': 845, 'name': 'name845'},\n",
       " {'id': 846, 'name': 'name846'},\n",
       " {'id': 847, 'name': 'name847'},\n",
       " {'id': 848, 'name': 'name848'},\n",
       " {'id': 849, 'name': 'name849'},\n",
       " {'id': 850, 'name': 'name850'},\n",
       " {'id': 851, 'name': 'name851'},\n",
       " {'id': 852, 'name': 'name852'},\n",
       " {'id': 853, 'name': 'name853'},\n",
       " {'id': 854, 'name': 'name854'},\n",
       " {'id': 855, 'name': 'name855'},\n",
       " {'id': 856, 'name': 'name856'},\n",
       " {'id': 857, 'name': 'name857'},\n",
       " {'id': 858, 'name': 'name858'},\n",
       " {'id': 859, 'name': 'name859'},\n",
       " {'id': 860, 'name': 'name860'},\n",
       " {'id': 861, 'name': 'name861'},\n",
       " {'id': 862, 'name': 'name862'},\n",
       " {'id': 863, 'name': 'name863'},\n",
       " {'id': 864, 'name': 'name864'},\n",
       " {'id': 865, 'name': 'name865'},\n",
       " {'id': 866, 'name': 'name866'},\n",
       " {'id': 867, 'name': 'name867'},\n",
       " {'id': 868, 'name': 'name868'},\n",
       " {'id': 869, 'name': 'name869'},\n",
       " {'id': 870, 'name': 'name870'},\n",
       " {'id': 871, 'name': 'name871'},\n",
       " {'id': 872, 'name': 'name872'},\n",
       " {'id': 873, 'name': 'name873'},\n",
       " {'id': 874, 'name': 'name874'},\n",
       " {'id': 875, 'name': 'name875'},\n",
       " {'id': 876, 'name': 'name876'},\n",
       " {'id': 877, 'name': 'name877'},\n",
       " {'id': 878, 'name': 'name878'},\n",
       " {'id': 879, 'name': 'name879'},\n",
       " {'id': 880, 'name': 'name880'},\n",
       " {'id': 881, 'name': 'name881'},\n",
       " {'id': 882, 'name': 'name882'},\n",
       " {'id': 883, 'name': 'name883'},\n",
       " {'id': 884, 'name': 'name884'},\n",
       " {'id': 885, 'name': 'name885'},\n",
       " {'id': 886, 'name': 'name886'},\n",
       " {'id': 887, 'name': 'name887'},\n",
       " {'id': 888, 'name': 'name888'},\n",
       " {'id': 889, 'name': 'name889'},\n",
       " {'id': 890, 'name': 'name890'},\n",
       " {'id': 891, 'name': 'name891'},\n",
       " {'id': 892, 'name': 'name892'},\n",
       " {'id': 893, 'name': 'name893'},\n",
       " {'id': 894, 'name': 'name894'},\n",
       " {'id': 895, 'name': 'name895'},\n",
       " {'id': 896, 'name': 'name896'},\n",
       " {'id': 897, 'name': 'name897'},\n",
       " {'id': 898, 'name': 'name898'},\n",
       " {'id': 899, 'name': 'name899'},\n",
       " {'id': 900, 'name': 'name900'},\n",
       " {'id': 901, 'name': 'name901'},\n",
       " {'id': 902, 'name': 'name902'},\n",
       " {'id': 903, 'name': 'name903'},\n",
       " {'id': 904, 'name': 'name904'},\n",
       " {'id': 905, 'name': 'name905'},\n",
       " {'id': 906, 'name': 'name906'},\n",
       " {'id': 907, 'name': 'name907'},\n",
       " {'id': 908, 'name': 'name908'},\n",
       " {'id': 909, 'name': 'name909'},\n",
       " {'id': 910, 'name': 'name910'},\n",
       " {'id': 911, 'name': 'name911'},\n",
       " {'id': 912, 'name': 'name912'},\n",
       " {'id': 913, 'name': 'name913'},\n",
       " {'id': 914, 'name': 'name914'},\n",
       " {'id': 915, 'name': 'name915'},\n",
       " {'id': 916, 'name': 'name916'},\n",
       " {'id': 917, 'name': 'name917'},\n",
       " {'id': 918, 'name': 'name918'},\n",
       " {'id': 919, 'name': 'name919'},\n",
       " {'id': 920, 'name': 'name920'},\n",
       " {'id': 921, 'name': 'name921'},\n",
       " {'id': 922, 'name': 'name922'},\n",
       " {'id': 923, 'name': 'name923'},\n",
       " {'id': 924, 'name': 'name924'},\n",
       " {'id': 925, 'name': 'name925'},\n",
       " {'id': 926, 'name': 'name926'},\n",
       " {'id': 927, 'name': 'name927'},\n",
       " {'id': 928, 'name': 'name928'},\n",
       " {'id': 929, 'name': 'name929'},\n",
       " {'id': 930, 'name': 'name930'},\n",
       " {'id': 931, 'name': 'name931'},\n",
       " {'id': 932, 'name': 'name932'},\n",
       " {'id': 933, 'name': 'name933'},\n",
       " {'id': 934, 'name': 'name934'},\n",
       " {'id': 935, 'name': 'name935'},\n",
       " {'id': 936, 'name': 'name936'},\n",
       " {'id': 937, 'name': 'name937'},\n",
       " {'id': 938, 'name': 'name938'},\n",
       " {'id': 939, 'name': 'name939'},\n",
       " {'id': 940, 'name': 'name940'},\n",
       " {'id': 941, 'name': 'name941'},\n",
       " {'id': 942, 'name': 'name942'},\n",
       " {'id': 943, 'name': 'name943'},\n",
       " {'id': 944, 'name': 'name944'},\n",
       " {'id': 945, 'name': 'name945'},\n",
       " {'id': 946, 'name': 'name946'},\n",
       " {'id': 947, 'name': 'name947'},\n",
       " {'id': 948, 'name': 'name948'},\n",
       " {'id': 949, 'name': 'name949'},\n",
       " {'id': 950, 'name': 'name950'},\n",
       " {'id': 951, 'name': 'name951'},\n",
       " {'id': 952, 'name': 'name952'},\n",
       " {'id': 953, 'name': 'name953'},\n",
       " {'id': 954, 'name': 'name954'},\n",
       " {'id': 955, 'name': 'name955'},\n",
       " {'id': 956, 'name': 'name956'},\n",
       " {'id': 957, 'name': 'name957'},\n",
       " {'id': 958, 'name': 'name958'},\n",
       " {'id': 959, 'name': 'name959'},\n",
       " {'id': 960, 'name': 'name960'},\n",
       " {'id': 961, 'name': 'name961'},\n",
       " {'id': 962, 'name': 'name962'},\n",
       " {'id': 963, 'name': 'name963'},\n",
       " {'id': 964, 'name': 'name964'},\n",
       " {'id': 965, 'name': 'name965'},\n",
       " {'id': 966, 'name': 'name966'},\n",
       " {'id': 967, 'name': 'name967'},\n",
       " {'id': 968, 'name': 'name968'},\n",
       " {'id': 969, 'name': 'name969'},\n",
       " {'id': 970, 'name': 'name970'},\n",
       " {'id': 971, 'name': 'name971'},\n",
       " {'id': 972, 'name': 'name972'},\n",
       " {'id': 973, 'name': 'name973'},\n",
       " {'id': 974, 'name': 'name974'},\n",
       " {'id': 975, 'name': 'name975'},\n",
       " {'id': 976, 'name': 'name976'},\n",
       " {'id': 977, 'name': 'name977'},\n",
       " {'id': 978, 'name': 'name978'},\n",
       " {'id': 979, 'name': 'name979'},\n",
       " {'id': 980, 'name': 'name980'},\n",
       " {'id': 981, 'name': 'name981'},\n",
       " {'id': 982, 'name': 'name982'},\n",
       " {'id': 983, 'name': 'name983'},\n",
       " {'id': 984, 'name': 'name984'},\n",
       " {'id': 985, 'name': 'name985'},\n",
       " {'id': 986, 'name': 'name986'},\n",
       " {'id': 987, 'name': 'name987'},\n",
       " {'id': 988, 'name': 'name988'},\n",
       " {'id': 989, 'name': 'name989'},\n",
       " {'id': 990, 'name': 'name990'},\n",
       " {'id': 991, 'name': 'name991'},\n",
       " {'id': 992, 'name': 'name992'},\n",
       " {'id': 993, 'name': 'name993'},\n",
       " {'id': 994, 'name': 'name994'},\n",
       " {'id': 995, 'name': 'name995'},\n",
       " {'id': 996, 'name': 'name996'},\n",
       " {'id': 997, 'name': 'name997'},\n",
       " {'id': 998, 'name': 'name998'},\n",
       " {'id': 999, 'name': 'name999'}]"
      ]
     },
     "execution_count": 47,
     "metadata": {},
     "output_type": "execute_result"
    }
   ],
   "source": [
    "customers"
   ]
  },
  {
   "cell_type": "code",
   "execution_count": 48,
   "metadata": {},
   "outputs": [
    {
     "name": "stdout",
     "output_type": "stream",
     "text": [
      "<generator object get_customers at 0x7f36c05403c0>\n"
     ]
    }
   ],
   "source": [
    "def get_customers():\n",
    "    for i in range(1000):\n",
    "        yield customers(i)\n",
    "n=\"name173\"\n",
    "customers = get_customers()\n",
    "print customers\n",
    "    "
   ]
  },
  {
   "cell_type": "code",
   "execution_count": 52,
   "metadata": {},
   "outputs": [
    {
     "name": "stdout",
     "output_type": "stream",
     "text": [
      "iteration: 0\n",
      "{'id': 0, 'name': 'name0'}\n"
     ]
    }
   ],
   "source": [
    "customers = []\n",
    "for i in xrange(1000):\n",
    "    customers.append({\"id\":i,\"name\":\"name%s\"%i})\n",
    "def get_customers():\n",
    "    for i in range(1000):\n",
    "        print \"iteration:\",i\n",
    "        yield customers[i]\n",
    "n=\"name173\"\n",
    "result = get_customers()\n",
    "for cust in result:\n",
    "    print cust\n",
    "    break"
   ]
  },
  {
   "cell_type": "code",
   "execution_count": 53,
   "metadata": {},
   "outputs": [
    {
     "name": "stdout",
     "output_type": "stream",
     "text": [
      "iteration: 0\n",
      "iteration: 1\n",
      "iteration: 2\n",
      "iteration: 3\n",
      "iteration: 4\n",
      "iteration: 5\n",
      "iteration: 6\n",
      "iteration: 7\n",
      "iteration: 8\n",
      "iteration: 9\n",
      "iteration: 10\n",
      "iteration: 11\n",
      "iteration: 12\n",
      "iteration: 13\n",
      "iteration: 14\n",
      "iteration: 15\n",
      "iteration: 16\n",
      "iteration: 17\n",
      "iteration: 18\n",
      "iteration: 19\n",
      "iteration: 20\n",
      "iteration: 21\n",
      "iteration: 22\n",
      "iteration: 23\n",
      "iteration: 24\n",
      "iteration: 25\n",
      "iteration: 26\n",
      "iteration: 27\n",
      "iteration: 28\n",
      "iteration: 29\n",
      "iteration: 30\n",
      "iteration: 31\n",
      "iteration: 32\n",
      "iteration: 33\n",
      "iteration: 34\n",
      "iteration: 35\n",
      "iteration: 36\n",
      "iteration: 37\n",
      "iteration: 38\n",
      "iteration: 39\n",
      "iteration: 40\n",
      "iteration: 41\n",
      "iteration: 42\n",
      "iteration: 43\n",
      "iteration: 44\n",
      "iteration: 45\n",
      "iteration: 46\n",
      "iteration: 47\n",
      "iteration: 48\n",
      "iteration: 49\n",
      "iteration: 50\n",
      "iteration: 51\n",
      "iteration: 52\n",
      "iteration: 53\n",
      "iteration: 54\n",
      "iteration: 55\n",
      "iteration: 56\n",
      "iteration: 57\n",
      "iteration: 58\n",
      "iteration: 59\n",
      "iteration: 60\n",
      "iteration: 61\n",
      "iteration: 62\n",
      "iteration: 63\n",
      "iteration: 64\n",
      "iteration: 65\n",
      "iteration: 66\n",
      "iteration: 67\n",
      "iteration: 68\n",
      "iteration: 69\n",
      "iteration: 70\n",
      "iteration: 71\n",
      "iteration: 72\n",
      "iteration: 73\n",
      "iteration: 74\n",
      "iteration: 75\n",
      "iteration: 76\n",
      "iteration: 77\n",
      "iteration: 78\n",
      "iteration: 79\n",
      "iteration: 80\n",
      "iteration: 81\n",
      "iteration: 82\n",
      "iteration: 83\n",
      "iteration: 84\n",
      "iteration: 85\n",
      "iteration: 86\n",
      "iteration: 87\n",
      "iteration: 88\n",
      "iteration: 89\n",
      "iteration: 90\n",
      "iteration: 91\n",
      "iteration: 92\n",
      "iteration: 93\n",
      "iteration: 94\n",
      "iteration: 95\n",
      "iteration: 96\n",
      "iteration: 97\n",
      "iteration: 98\n",
      "iteration: 99\n",
      "iteration: 100\n",
      "iteration: 101\n",
      "iteration: 102\n",
      "iteration: 103\n",
      "iteration: 104\n",
      "iteration: 105\n",
      "iteration: 106\n",
      "iteration: 107\n",
      "iteration: 108\n",
      "iteration: 109\n",
      "iteration: 110\n",
      "iteration: 111\n",
      "iteration: 112\n",
      "iteration: 113\n",
      "iteration: 114\n",
      "iteration: 115\n",
      "iteration: 116\n",
      "iteration: 117\n",
      "iteration: 118\n",
      "iteration: 119\n",
      "iteration: 120\n",
      "iteration: 121\n",
      "iteration: 122\n",
      "iteration: 123\n",
      "iteration: 124\n",
      "iteration: 125\n",
      "iteration: 126\n",
      "iteration: 127\n",
      "iteration: 128\n",
      "iteration: 129\n",
      "iteration: 130\n",
      "iteration: 131\n",
      "iteration: 132\n",
      "iteration: 133\n",
      "iteration: 134\n",
      "iteration: 135\n",
      "iteration: 136\n",
      "iteration: 137\n",
      "iteration: 138\n",
      "iteration: 139\n",
      "iteration: 140\n",
      "iteration: 141\n",
      "iteration: 142\n",
      "iteration: 143\n",
      "iteration: 144\n",
      "iteration: 145\n",
      "iteration: 146\n",
      "iteration: 147\n",
      "iteration: 148\n",
      "iteration: 149\n",
      "iteration: 150\n",
      "iteration: 151\n",
      "iteration: 152\n",
      "iteration: 153\n",
      "iteration: 154\n",
      "iteration: 155\n",
      "iteration: 156\n",
      "iteration: 157\n",
      "iteration: 158\n",
      "iteration: 159\n",
      "iteration: 160\n",
      "iteration: 161\n",
      "iteration: 162\n",
      "iteration: 163\n",
      "iteration: 164\n",
      "iteration: 165\n",
      "iteration: 166\n",
      "iteration: 167\n",
      "iteration: 168\n",
      "iteration: 169\n",
      "iteration: 170\n",
      "iteration: 171\n",
      "iteration: 172\n",
      "iteration: 173\n",
      "{'id': 173, 'name': 'name173'}\n"
     ]
    }
   ],
   "source": [
    "customers = []\n",
    "for i in xrange(1000):\n",
    "    customers.append({\"id\":i,\"name\":\"name%s\"%i})\n",
    "def get_customers():\n",
    "    for i in range(1000):\n",
    "        print \"iteration:\",i\n",
    "        \n",
    "        yield customers[i]\n",
    "n=\"name173\"\n",
    "result = get_customers()\n",
    "for cust in result:\n",
    "    if cust.get(\"name\") == n:\n",
    "        print cust\n",
    "        break"
   ]
  },
  {
   "cell_type": "code",
   "execution_count": 54,
   "metadata": {},
   "outputs": [
    {
     "name": "stdout",
     "output_type": "stream",
     "text": [
      "{'id': 173, 'name': 'name173'}\n"
     ]
    }
   ],
   "source": [
    "customers = []\n",
    "for i in xrange(1000):\n",
    "    customers.append({\"id\":i,\"name\":\"name%s\"%i})\n",
    "def get_customers():\n",
    "    for i in range(1000):        \n",
    "        yield customers[i]\n",
    "n=\"name173\"\n",
    "result = get_customers()\n",
    "for cust in result:\n",
    "    if cust.get(\"name\") == n:\n",
    "        print cust\n",
    "        break"
   ]
  },
  {
   "cell_type": "code",
   "execution_count": null,
   "metadata": {
    "collapsed": true
   },
   "outputs": [],
   "source": []
  }
 ],
 "metadata": {
  "kernelspec": {
   "display_name": "Python 2",
   "language": "python",
   "name": "python2"
  },
  "language_info": {
   "codemirror_mode": {
    "name": "ipython",
    "version": 2
   },
   "file_extension": ".py",
   "mimetype": "text/x-python",
   "name": "python",
   "nbconvert_exporter": "python",
   "pygments_lexer": "ipython2",
   "version": "2.7.14"
  }
 },
 "nbformat": 4,
 "nbformat_minor": 2
}
