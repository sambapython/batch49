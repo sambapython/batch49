{
 "cells": [
  {
   "cell_type": "code",
   "execution_count": 1,
   "metadata": {
    "collapsed": true
   },
   "outputs": [],
   "source": [
    "import sqlite3"
   ]
  },
  {
   "cell_type": "code",
   "execution_count": 2,
   "metadata": {},
   "outputs": [
    {
     "ename": "TypeError",
     "evalue": "Required argument 'database' (pos 1) not found",
     "output_type": "error",
     "traceback": [
      "\u001b[0;31m---------------------------------------------------------------------------\u001b[0m",
      "\u001b[0;31mTypeError\u001b[0m                                 Traceback (most recent call last)",
      "\u001b[0;32m<ipython-input-2-d34534c2bab6>\u001b[0m in \u001b[0;36m<module>\u001b[0;34m()\u001b[0m\n\u001b[0;32m----> 1\u001b[0;31m \u001b[0mcon\u001b[0m\u001b[0;34m=\u001b[0m\u001b[0msqlite3\u001b[0m\u001b[0;34m.\u001b[0m\u001b[0mconnect\u001b[0m\u001b[0;34m(\u001b[0m\u001b[0;34m)\u001b[0m\u001b[0;34m\u001b[0m\u001b[0m\n\u001b[0m",
      "\u001b[0;31mTypeError\u001b[0m: Required argument 'database' (pos 1) not found"
     ]
    }
   ],
   "source": [
    "con=sqlite3.connect()"
   ]
  },
  {
   "cell_type": "code",
   "execution_count": 3,
   "metadata": {
    "collapsed": true
   },
   "outputs": [],
   "source": [
    "con=sqlite3.connect(\"db1\")"
   ]
  },
  {
   "cell_type": "code",
   "execution_count": 4,
   "metadata": {
    "collapsed": true
   },
   "outputs": [],
   "source": [
    "cur = con.cursor()\n"
   ]
  },
  {
   "cell_type": "code",
   "execution_count": 5,
   "metadata": {},
   "outputs": [
    {
     "data": {
      "text/plain": [
       "<sqlite3.Cursor at 0x7fd7fc180ce0>"
      ]
     },
     "execution_count": 5,
     "metadata": {},
     "output_type": "execute_result"
    }
   ],
   "source": [
    "cur.execute(\"create table customer(id int, name varchar(250))\")"
   ]
  },
  {
   "cell_type": "code",
   "execution_count": 6,
   "metadata": {},
   "outputs": [
    {
     "data": {
      "text/plain": [
       "<sqlite3.Cursor at 0x7fd7fc180ce0>"
      ]
     },
     "execution_count": 6,
     "metadata": {},
     "output_type": "execute_result"
    }
   ],
   "source": [
    "q=\"insert into customer(id, name) values(1,'anil')\"\n",
    "cur.execute(q)"
   ]
  },
  {
   "cell_type": "code",
   "execution_count": 7,
   "metadata": {
    "collapsed": true
   },
   "outputs": [],
   "source": [
    "con.commit()"
   ]
  },
  {
   "cell_type": "code",
   "execution_count": 8,
   "metadata": {},
   "outputs": [
    {
     "name": "stdout",
     "output_type": "stream",
     "text": [
      "enter an id:12\n",
      "Enter name:ashok\n",
      "insert into customer(id,name) values(12,'ashok')\n"
     ]
    }
   ],
   "source": [
    "p_id = raw_input(\"enter an id:\")\n",
    "p_name=raw_input(\"Enter name:\")\n",
    "q=\"insert into customer(id,name) values(%s,'%s')\"%(p_id, p_name)\n",
    "print q"
   ]
  },
  {
   "cell_type": "code",
   "execution_count": 9,
   "metadata": {},
   "outputs": [
    {
     "name": "stdout",
     "output_type": "stream",
     "text": [
      "enter an id:2\n",
      "Enter name:jay\n"
     ]
    }
   ],
   "source": [
    "p_id = raw_input(\"enter an id:\")\n",
    "p_name=raw_input(\"Enter name:\")\n",
    "q=\"insert into customer(id,name) values(%s,'%s')\"%(p_id, p_name)\n",
    "cur.execute(q)\n",
    "con.commit()"
   ]
  },
  {
   "cell_type": "code",
   "execution_count": 10,
   "metadata": {
    "collapsed": true
   },
   "outputs": [],
   "source": [
    "import random\n",
    "names=[\"madhavi\",\"sruthin\",\"nagesh\",\"lavanya\",\"dharani\",\"samba\"]\n",
    "for i in range(3,103):\n",
    "    q=\"insert into customer(id,name) values(%s,'%s')\"%(i, random.choice(names))\n",
    "    cur.execute(q)\n",
    "con.commit()"
   ]
  },
  {
   "cell_type": "code",
   "execution_count": 11,
   "metadata": {},
   "outputs": [
    {
     "data": {
      "text/plain": [
       "<sqlite3.Cursor at 0x7fd7fc180ce0>"
      ]
     },
     "execution_count": 11,
     "metadata": {},
     "output_type": "execute_result"
    }
   ],
   "source": [
    "q=\"select * from customer\"\n",
    "cur.execute(q)"
   ]
  },
  {
   "cell_type": "code",
   "execution_count": 12,
   "metadata": {
    "collapsed": true
   },
   "outputs": [],
   "source": [
    "data = cur.fetchall()"
   ]
  },
  {
   "cell_type": "code",
   "execution_count": 13,
   "metadata": {},
   "outputs": [
    {
     "name": "stdout",
     "output_type": "stream",
     "text": [
      "[(1, u'anil'), (2, u'jay'), (3, u'nagesh'), (4, u'samba'), (5, u'sruthin'), (6, u'lavanya'), (7, u'nagesh'), (8, u'samba'), (9, u'lavanya'), (10, u'samba'), (11, u'sruthin'), (12, u'nagesh'), (13, u'dharani'), (14, u'nagesh'), (15, u'lavanya'), (16, u'sruthin'), (17, u'dharani'), (18, u'sruthin'), (19, u'nagesh'), (20, u'madhavi'), (21, u'sruthin'), (22, u'sruthin'), (23, u'nagesh'), (24, u'dharani'), (25, u'nagesh'), (26, u'madhavi'), (27, u'madhavi'), (28, u'samba'), (29, u'nagesh'), (30, u'samba'), (31, u'nagesh'), (32, u'nagesh'), (33, u'lavanya'), (34, u'lavanya'), (35, u'madhavi'), (36, u'lavanya'), (37, u'lavanya'), (38, u'madhavi'), (39, u'lavanya'), (40, u'lavanya'), (41, u'lavanya'), (42, u'madhavi'), (43, u'lavanya'), (44, u'dharani'), (45, u'samba'), (46, u'lavanya'), (47, u'sruthin'), (48, u'madhavi'), (49, u'dharani'), (50, u'lavanya'), (51, u'dharani'), (52, u'sruthin'), (53, u'lavanya'), (54, u'lavanya'), (55, u'nagesh'), (56, u'sruthin'), (57, u'nagesh'), (58, u'nagesh'), (59, u'nagesh'), (60, u'sruthin'), (61, u'lavanya'), (62, u'samba'), (63, u'sruthin'), (64, u'madhavi'), (65, u'dharani'), (66, u'sruthin'), (67, u'nagesh'), (68, u'sruthin'), (69, u'samba'), (70, u'madhavi'), (71, u'sruthin'), (72, u'lavanya'), (73, u'dharani'), (74, u'lavanya'), (75, u'dharani'), (76, u'samba'), (77, u'sruthin'), (78, u'samba'), (79, u'dharani'), (80, u'lavanya'), (81, u'sruthin'), (82, u'lavanya'), (83, u'madhavi'), (84, u'madhavi'), (85, u'nagesh'), (86, u'madhavi'), (87, u'lavanya'), (88, u'samba'), (89, u'lavanya'), (90, u'madhavi'), (91, u'nagesh'), (92, u'nagesh'), (93, u'sruthin'), (94, u'nagesh'), (95, u'dharani'), (96, u'sruthin'), (97, u'sruthin'), (98, u'nagesh'), (99, u'lavanya'), (100, u'lavanya'), (101, u'nagesh'), (102, u'samba')]\n"
     ]
    }
   ],
   "source": [
    "print data"
   ]
  },
  {
   "cell_type": "code",
   "execution_count": 15,
   "metadata": {},
   "outputs": [
    {
     "name": "stdout",
     "output_type": "stream",
     "text": [
      "[(20, u'madhavi')]\n"
     ]
    }
   ],
   "source": [
    "q=\"select * from customer where id=20\"\n",
    "cur.execute(q)\n",
    "print cur.fetchall()"
   ]
  },
  {
   "cell_type": "code",
   "execution_count": 16,
   "metadata": {},
   "outputs": [
    {
     "name": "stdout",
     "output_type": "stream",
     "text": [
      "[(25, u'nagesh')]\n"
     ]
    }
   ],
   "source": [
    "q=\"select * from customer where id=25\"\n",
    "cur.execute(q)\n",
    "print cur.fetchall()"
   ]
  },
  {
   "cell_type": "code",
   "execution_count": 17,
   "metadata": {},
   "outputs": [
    {
     "name": "stdout",
     "output_type": "stream",
     "text": [
      "[(4, u'samba'), (8, u'samba'), (10, u'samba'), (28, u'samba'), (30, u'samba'), (45, u'samba'), (62, u'samba'), (69, u'samba'), (76, u'samba'), (78, u'samba'), (88, u'samba'), (102, u'samba')]\n"
     ]
    }
   ],
   "source": [
    "q=\"select * from customer where name='samba'\"\n",
    "cur.execute(q)\n",
    "print cur.fetchall()"
   ]
  },
  {
   "cell_type": "code",
   "execution_count": 18,
   "metadata": {},
   "outputs": [
    {
     "name": "stdout",
     "output_type": "stream",
     "text": [
      "12\n"
     ]
    }
   ],
   "source": [
    "q=\"select * from customer where name='samba'\"\n",
    "cur.execute(q)\n",
    "print len(cur.fetchall())"
   ]
  },
  {
   "cell_type": "code",
   "execution_count": 19,
   "metadata": {},
   "outputs": [
    {
     "name": "stdout",
     "output_type": "stream",
     "text": [
      "[(12,)]\n"
     ]
    }
   ],
   "source": [
    "q=\"select count(*) from customer where name='samba'\"\n",
    "cur.execute(q)\n",
    "print cur.fetchall()"
   ]
  },
  {
   "cell_type": "code",
   "execution_count": 20,
   "metadata": {},
   "outputs": [
    {
     "name": "stdout",
     "output_type": "stream",
     "text": [
      "enter an id:27\n",
      "[(27, u'madhavi')]\n",
      "Do you want to upadte the row:(y/n)y\n",
      "Enter name to modify:madavi\n",
      "[(27, u'madavi')]\n"
     ]
    }
   ],
   "source": [
    "p_id = raw_input(\"enter an id:\")\n",
    "q=\"select * from customer where id=\"+p_id\n",
    "cur.execute(q)\n",
    "row = cur.fetchall()\n",
    "print row\n",
    "opt = raw_input(\"Do you want to upadte the row:(y/n)\")\n",
    "if opt.lower() == \"y\" or opt.lower() == \"yes\":\n",
    "    p_name = raw_input(\"Enter name to modify:\")\n",
    "    q=\"update customer set name='%s' where id=%s\"%(p_name,p_id)\n",
    "    cur.execute(q)\n",
    "    con.commit()\n",
    "q=\"select * from customer where id=\"+p_id\n",
    "cur.execute(q)\n",
    "row = cur.fetchall()\n",
    "print row"
   ]
  },
  {
   "cell_type": "code",
   "execution_count": 21,
   "metadata": {},
   "outputs": [
    {
     "name": "stdout",
     "output_type": "stream",
     "text": [
      "enter an id:28\n",
      "[(28, u'samba')]\n",
      "Do you want to upadte the row:(y/n)n\n",
      "[(28, u'samba')]\n"
     ]
    }
   ],
   "source": [
    "p_id = raw_input(\"enter an id:\")\n",
    "q=\"select * from customer where id=\"+p_id\n",
    "cur.execute(q)\n",
    "row = cur.fetchall()\n",
    "print row\n",
    "opt = raw_input(\"Do you want to upadte the row:(y/n)\")\n",
    "if opt.lower() == \"y\" or opt.lower() == \"yes\":\n",
    "    p_name = raw_input(\"Enter name to modify:\")\n",
    "    q=\"update customer set name='%s' where id=%s\"%(p_name,p_id)\n",
    "    cur.execute(q)\n",
    "    con.commit()\n",
    "q=\"select * from customer where id=\"+p_id\n",
    "cur.execute(q)\n",
    "row = cur.fetchall()\n",
    "print row"
   ]
  },
  {
   "cell_type": "code",
   "execution_count": 23,
   "metadata": {},
   "outputs": [
    {
     "name": "stdout",
     "output_type": "stream",
     "text": [
      "enter an id:30\n",
      "[(30, u'samba')]\n",
      "Do you want to upadte the row:(y/n)y\n",
      "Enter name to modify:sambasivarao\n",
      "[(30, u'sambasivarao')]\n"
     ]
    }
   ],
   "source": [
    "p_id = raw_input(\"enter an id:\")\n",
    "def browse(p_id):\n",
    "    q=\"select * from customer where id=\"+p_id\n",
    "    cur.execute(q)\n",
    "    row = cur.fetchall()\n",
    "    print row\n",
    "browse(p_id)\n",
    "opt = raw_input(\"Do you want to upadte the row:(y/n)\")\n",
    "if opt.lower() == \"y\" or opt.lower() == \"yes\":\n",
    "    p_name = raw_input(\"Enter name to modify:\")\n",
    "    q=\"update customer set name='%s' where id=%s\"%(p_name,p_id)\n",
    "    cur.execute(q)\n",
    "    con.commit()\n",
    "browse(p_id)"
   ]
  },
  {
   "cell_type": "code",
   "execution_count": 24,
   "metadata": {},
   "outputs": [
    {
     "name": "stdout",
     "output_type": "stream",
     "text": [
      "enter an id:12\n",
      "[(12, u'nagesh')]\n",
      "Do you want to delete the row:(y/n)n\n",
      "[(12, u'nagesh')]\n"
     ]
    }
   ],
   "source": [
    "p_id = raw_input(\"enter an id:\")\n",
    "def browse(p_id):\n",
    "    q=\"select * from customer where id=\"+p_id\n",
    "    cur.execute(q)\n",
    "    row = cur.fetchall()\n",
    "    print row\n",
    "browse(p_id)\n",
    "opt = raw_input(\"Do you want to delete the row:(y/n)\")\n",
    "if opt.lower() == \"y\" or opt.lower() == \"yes\":\n",
    "    q=\"delete customer where id=%s\"%(p_id)\n",
    "    cur.execute(q)\n",
    "    con.commit()\n",
    "browse(p_id)"
   ]
  },
  {
   "cell_type": "code",
   "execution_count": 27,
   "metadata": {},
   "outputs": [
    {
     "name": "stdout",
     "output_type": "stream",
     "text": [
      "enter an id:29\n",
      "[(29, u'nagesh')]\n",
      "Do you want to delete the row:(y/n)y\n",
      "[]\n"
     ]
    }
   ],
   "source": [
    "p_id = raw_input(\"enter an id:\")\n",
    "def browse(p_id):\n",
    "    q=\"select * from customer where id=\"+p_id\n",
    "    cur.execute(q)\n",
    "    row = cur.fetchall()\n",
    "    print row\n",
    "browse(p_id)\n",
    "opt = raw_input(\"Do you want to delete the row:(y/n)\")\n",
    "if opt.lower() == \"y\" or opt.lower() == \"yes\":\n",
    "    q=\"delete from customer where id=%s\"%(p_id)\n",
    "    cur.execute(q)\n",
    "    con.commit()\n",
    "browse(p_id)"
   ]
  },
  {
   "cell_type": "code",
   "execution_count": 2,
   "metadata": {
    "collapsed": true
   },
   "outputs": [],
   "source": [
    "import psycopg2"
   ]
  },
  {
   "cell_type": "code",
   "execution_count": null,
   "metadata": {
    "collapsed": true
   },
   "outputs": [],
   "source": [
    "    "
   ]
  }
 ],
 "metadata": {
  "kernelspec": {
   "display_name": "Python 2",
   "language": "python",
   "name": "python2"
  },
  "language_info": {
   "codemirror_mode": {
    "name": "ipython",
    "version": 2
   },
   "file_extension": ".py",
   "mimetype": "text/x-python",
   "name": "python",
   "nbconvert_exporter": "python",
   "pygments_lexer": "ipython2",
   "version": "2.7.14"
  }
 },
 "nbformat": 4,
 "nbformat_minor": 2
}
