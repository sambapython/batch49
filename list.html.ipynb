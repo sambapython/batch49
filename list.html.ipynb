{
 "cells": [
  {
   "cell_type": "code",
   "execution_count": 1,
   "metadata": {
    "collapsed": true
   },
   "outputs": [],
   "source": [
    "l=[10,20.34,1+2j,\"1234\",[10,20,30]]"
   ]
  },
  {
   "cell_type": "code",
   "execution_count": 2,
   "metadata": {},
   "outputs": [
    {
     "data": {
      "text/plain": [
       "['a', 'b', 'c', 'd', 'e']"
      ]
     },
     "execution_count": 2,
     "metadata": {},
     "output_type": "execute_result"
    }
   ],
   "source": [
    "l=[\"a\",\"b\",\"c\",\"d\"]\n",
    "l+[\"e\"]"
   ]
  },
  {
   "cell_type": "code",
   "execution_count": 3,
   "metadata": {},
   "outputs": [
    {
     "name": "stdout",
     "output_type": "stream",
     "text": [
      "None\n"
     ]
    }
   ],
   "source": [
    "l=[\"a\",\"b\",\"c\",\"d\"]\n",
    "l1=l.append(\"e\")\n",
    "print l1"
   ]
  },
  {
   "cell_type": "code",
   "execution_count": 4,
   "metadata": {},
   "outputs": [
    {
     "name": "stdout",
     "output_type": "stream",
     "text": [
      "python\n"
     ]
    }
   ],
   "source": [
    "s=\"python\"\n",
    "s1=s.replace(\"p\",\"z\")\n",
    "print s"
   ]
  },
  {
   "cell_type": "code",
   "execution_count": 5,
   "metadata": {},
   "outputs": [
    {
     "name": "stdout",
     "output_type": "stream",
     "text": [
      "python\n",
      "zython\n"
     ]
    }
   ],
   "source": [
    "s=\"python\"\n",
    "s1=s.replace(\"p\",\"z\")\n",
    "print s\n",
    "print s1"
   ]
  },
  {
   "cell_type": "code",
   "execution_count": 6,
   "metadata": {},
   "outputs": [
    {
     "name": "stdout",
     "output_type": "stream",
     "text": [
      "['a', 'b', 'c', 'd', 'e']\n",
      "None\n"
     ]
    }
   ],
   "source": [
    "l=[\"a\",\"b\",\"c\",\"d\"]\n",
    "l1=l.append(\"e\")\n",
    "print l\n",
    "print l1"
   ]
  },
  {
   "cell_type": "code",
   "execution_count": 7,
   "metadata": {},
   "outputs": [
    {
     "name": "stdout",
     "output_type": "stream",
     "text": [
      "python\n",
      "xyz\n"
     ]
    }
   ],
   "source": [
    "s=\"python\"\n",
    "print s\n",
    "s=\"xyz\"\n",
    "print s"
   ]
  },
  {
   "cell_type": "code",
   "execution_count": 8,
   "metadata": {},
   "outputs": [
    {
     "ename": "TypeError",
     "evalue": "'str' object does not support item assignment",
     "output_type": "error",
     "traceback": [
      "\u001b[0;31m---------------------------------------------------------------------------\u001b[0m",
      "\u001b[0;31mTypeError\u001b[0m                                 Traceback (most recent call last)",
      "\u001b[0;32m<ipython-input-8-054aa5ebea64>\u001b[0m in \u001b[0;36m<module>\u001b[0;34m()\u001b[0m\n\u001b[1;32m      1\u001b[0m \u001b[0ms\u001b[0m\u001b[0;34m=\u001b[0m\u001b[0;34m\"python\"\u001b[0m\u001b[0;34m\u001b[0m\u001b[0m\n\u001b[0;32m----> 2\u001b[0;31m \u001b[0ms\u001b[0m\u001b[0;34m[\u001b[0m\u001b[0;36m0\u001b[0m\u001b[0;34m]\u001b[0m\u001b[0;34m=\u001b[0m\u001b[0;34m\"z\"\u001b[0m\u001b[0;34m\u001b[0m\u001b[0m\n\u001b[0m\u001b[1;32m      3\u001b[0m \u001b[0;32mprint\u001b[0m \u001b[0ms\u001b[0m\u001b[0;34m\u001b[0m\u001b[0m\n",
      "\u001b[0;31mTypeError\u001b[0m: 'str' object does not support item assignment"
     ]
    }
   ],
   "source": [
    "s=\"python\"\n",
    "s[0]=\"z\"\n",
    "print s"
   ]
  },
  {
   "cell_type": "code",
   "execution_count": null,
   "metadata": {
    "collapsed": true
   },
   "outputs": [],
   "source": [
    "l=[\"a\",\"b\",\"c\",\"d\"]\n",
    "l1=l.append(\"e\")\n",
    "print l\n",
    "print l1"
   ]
  },
  {
   "cell_type": "code",
   "execution_count": 9,
   "metadata": {},
   "outputs": [
    {
     "name": "stdout",
     "output_type": "stream",
     "text": [
      "f1= 30\n"
     ]
    }
   ],
   "source": [
    "def fun(a):\n",
    "    c=a+30\n",
    "    d=a+40\n",
    "    e=a+50\n",
    "    return a+10\n",
    "f=fun\n",
    "f1=fun(20)\n",
    "print \"f1=\",f1"
   ]
  },
  {
   "cell_type": "code",
   "execution_count": 10,
   "metadata": {},
   "outputs": [
    {
     "name": "stdout",
     "output_type": "stream",
     "text": [
      "f1= None\n"
     ]
    }
   ],
   "source": [
    "def fun(a):\n",
    "    c=a+30\n",
    "    d=a+40\n",
    "    e=a+50\n",
    "f=fun\n",
    "f1=fun(20)\n",
    "print \"f1=\",f1"
   ]
  },
  {
   "cell_type": "code",
   "execution_count": 11,
   "metadata": {},
   "outputs": [
    {
     "name": "stdout",
     "output_type": "stream",
     "text": [
      "['a', 'b', 'c', 'd', 'e']\n",
      "None\n"
     ]
    }
   ],
   "source": [
    "l=[\"a\",\"b\",\"c\",\"d\"]\n",
    "l1=l.append(\"e\")\n",
    "print l\n",
    "print l1"
   ]
  },
  {
   "cell_type": "code",
   "execution_count": 12,
   "metadata": {},
   "outputs": [
    {
     "name": "stdout",
     "output_type": "stream",
     "text": [
      "l1= ['a', 'b', 'c', 'd'] id(l1)= 139979717176856\n",
      "l1= ['a', 'b', 'c', 'd', 10] id(l1)= 139979717176856\n",
      "l2= None\n"
     ]
    }
   ],
   "source": [
    "l1=[\"a\",\"b\",\"c\",\"d\"]\n",
    "print \"l1=\",l1,\"id(l1)=\",id(l1)\n",
    "l2=l1.append(10)\n",
    "print \"l1=\",l1,\"id(l1)=\",id(l1)\n",
    "print \"l2=\",l2"
   ]
  },
  {
   "cell_type": "code",
   "execution_count": 13,
   "metadata": {},
   "outputs": [
    {
     "name": "stdout",
     "output_type": "stream",
     "text": [
      "['a', 'b', 'c', 'd', 'e']\n"
     ]
    }
   ],
   "source": [
    "l1=[\"a\",\"b\",\"c\",\"d\"]\n",
    "l1.append(\"e\")\n",
    "print l1"
   ]
  },
  {
   "cell_type": "code",
   "execution_count": 14,
   "metadata": {},
   "outputs": [
    {
     "name": "stdout",
     "output_type": "stream",
     "text": [
      "['a', 'b', 'c', 'd', 'e']\n"
     ]
    }
   ],
   "source": [
    "l1=[\"a\",\"b\",\"c\",\"d\"]\n",
    "l1.extend(\"e\")\n",
    "print l1"
   ]
  },
  {
   "cell_type": "code",
   "execution_count": 15,
   "metadata": {},
   "outputs": [
    {
     "name": "stdout",
     "output_type": "stream",
     "text": [
      "['a', 'b', 'c', 'd', 'python'] 5\n"
     ]
    }
   ],
   "source": [
    "l1=[\"a\",\"b\",\"c\",\"d\"]\n",
    "l1.append(\"python\")\n",
    "print l1,len(l1)"
   ]
  },
  {
   "cell_type": "code",
   "execution_count": 16,
   "metadata": {},
   "outputs": [
    {
     "name": "stdout",
     "output_type": "stream",
     "text": [
      "['a', 'b', 'c', 'd', 'p', 'y', 't', 'h', 'o', 'n'] 10\n"
     ]
    }
   ],
   "source": [
    "l1=[\"a\",\"b\",\"c\",\"d\"]\n",
    "l1.extend(\"python\")\n",
    "print l1,len(l1)"
   ]
  },
  {
   "cell_type": "code",
   "execution_count": 17,
   "metadata": {},
   "outputs": [
    {
     "name": "stdout",
     "output_type": "stream",
     "text": [
      "['a', 'b', 'c', 'd', 10] 5\n"
     ]
    }
   ],
   "source": [
    "l1=[\"a\",\"b\",\"c\",\"d\"]\n",
    "l1.append(10)\n",
    "print l1,len(l1)"
   ]
  },
  {
   "cell_type": "code",
   "execution_count": 18,
   "metadata": {},
   "outputs": [
    {
     "ename": "TypeError",
     "evalue": "'int' object is not iterable",
     "output_type": "error",
     "traceback": [
      "\u001b[0;31m---------------------------------------------------------------------------\u001b[0m",
      "\u001b[0;31mTypeError\u001b[0m                                 Traceback (most recent call last)",
      "\u001b[0;32m<ipython-input-18-e37d3920c427>\u001b[0m in \u001b[0;36m<module>\u001b[0;34m()\u001b[0m\n\u001b[1;32m      1\u001b[0m \u001b[0ml1\u001b[0m\u001b[0;34m=\u001b[0m\u001b[0;34m[\u001b[0m\u001b[0;34m\"a\"\u001b[0m\u001b[0;34m,\u001b[0m\u001b[0;34m\"b\"\u001b[0m\u001b[0;34m,\u001b[0m\u001b[0;34m\"c\"\u001b[0m\u001b[0;34m,\u001b[0m\u001b[0;34m\"d\"\u001b[0m\u001b[0;34m]\u001b[0m\u001b[0;34m\u001b[0m\u001b[0m\n\u001b[0;32m----> 2\u001b[0;31m \u001b[0ml1\u001b[0m\u001b[0;34m.\u001b[0m\u001b[0mextend\u001b[0m\u001b[0;34m(\u001b[0m\u001b[0;36m10\u001b[0m\u001b[0;34m)\u001b[0m\u001b[0;34m\u001b[0m\u001b[0m\n\u001b[0m\u001b[1;32m      3\u001b[0m \u001b[0;32mprint\u001b[0m \u001b[0ml1\u001b[0m\u001b[0;34m,\u001b[0m\u001b[0mlen\u001b[0m\u001b[0;34m(\u001b[0m\u001b[0ml1\u001b[0m\u001b[0;34m)\u001b[0m\u001b[0;34m\u001b[0m\u001b[0m\n",
      "\u001b[0;31mTypeError\u001b[0m: 'int' object is not iterable"
     ]
    }
   ],
   "source": [
    "l1=[\"a\",\"b\",\"c\",\"d\"]\n",
    "l1.extend(10)\n",
    "print l1,len(l1)"
   ]
  },
  {
   "cell_type": "code",
   "execution_count": 19,
   "metadata": {},
   "outputs": [
    {
     "ename": "TypeError",
     "evalue": "'int' object is not iterable",
     "output_type": "error",
     "traceback": [
      "\u001b[0;31m---------------------------------------------------------------------------\u001b[0m",
      "\u001b[0;31mTypeError\u001b[0m                                 Traceback (most recent call last)",
      "\u001b[0;32m<ipython-input-19-dae0df8168f7>\u001b[0m in \u001b[0;36m<module>\u001b[0;34m()\u001b[0m\n\u001b[0;32m----> 1\u001b[0;31m \u001b[0;32mfor\u001b[0m \u001b[0mi\u001b[0m \u001b[0;32min\u001b[0m \u001b[0;36m10\u001b[0m\u001b[0;34m:\u001b[0m\u001b[0;34m\u001b[0m\u001b[0m\n\u001b[0m\u001b[1;32m      2\u001b[0m     \u001b[0;32mprint\u001b[0m \u001b[0mi\u001b[0m\u001b[0;34m\u001b[0m\u001b[0m\n",
      "\u001b[0;31mTypeError\u001b[0m: 'int' object is not iterable"
     ]
    }
   ],
   "source": [
    "for i in 10:\n",
    "    print i"
   ]
  },
  {
   "cell_type": "code",
   "execution_count": 20,
   "metadata": {},
   "outputs": [
    {
     "name": "stdout",
     "output_type": "stream",
     "text": [
      "['a', 'b', 'c', 'd', '1', '0'] 6\n"
     ]
    }
   ],
   "source": [
    "l1=[\"a\",\"b\",\"c\",\"d\"]\n",
    "l1.extend(\"10\")\n",
    "print l1,len(l1)"
   ]
  },
  {
   "cell_type": "code",
   "execution_count": 21,
   "metadata": {},
   "outputs": [
    {
     "name": "stdout",
     "output_type": "stream",
     "text": [
      "['a', 'b', 'c', 'd', {'k2': 'v2', 'k1': 'v1'}] 5\n"
     ]
    }
   ],
   "source": [
    "l1=[\"a\",\"b\",\"c\",\"d\"]\n",
    "l1.append({\"k1\":\"v1\",\"k2\":\"v2\"})\n",
    "print l1,len(l1)"
   ]
  },
  {
   "cell_type": "code",
   "execution_count": 22,
   "metadata": {},
   "outputs": [
    {
     "name": "stdout",
     "output_type": "stream",
     "text": [
      "['a', 'b', 'c', 'd', 'k2', 'k1'] 6\n"
     ]
    }
   ],
   "source": [
    "l1=[\"a\",\"b\",\"c\",\"d\"]\n",
    "l1.extend({\"k1\":\"v1\",\"k2\":\"v2\"})\n",
    "print l1,len(l1)"
   ]
  },
  {
   "cell_type": "code",
   "execution_count": 23,
   "metadata": {},
   "outputs": [
    {
     "name": "stdout",
     "output_type": "stream",
     "text": [
      "k2\n",
      "k1\n"
     ]
    }
   ],
   "source": [
    "for i in {\"k1\":\"v1\",\"k2\":\"v2\"}:\n",
    "    print i"
   ]
  },
  {
   "cell_type": "code",
   "execution_count": 24,
   "metadata": {
    "collapsed": true
   },
   "outputs": [],
   "source": [
    "l1=[\"c\",\"cpp\",\"java\"]\n",
    "l2=[\"php\",\"python\",\"goo\"]"
   ]
  },
  {
   "cell_type": "code",
   "execution_count": 25,
   "metadata": {},
   "outputs": [
    {
     "data": {
      "text/plain": [
       "['c', 'cpp', 'java', 'php', 'python', 'goo']"
      ]
     },
     "execution_count": 25,
     "metadata": {},
     "output_type": "execute_result"
    }
   ],
   "source": [
    "l1+l2"
   ]
  },
  {
   "cell_type": "code",
   "execution_count": 26,
   "metadata": {},
   "outputs": [
    {
     "name": "stdout",
     "output_type": "stream",
     "text": [
      "['c', 'cpp', 'java']\n",
      "['php', 'python', 'goo']\n",
      "['c', 'cpp', 'java', 'php', 'python', 'goo']\n"
     ]
    }
   ],
   "source": [
    "l1=[\"c\",\"cpp\",\"java\"]\n",
    "l2=[\"php\",\"python\",\"goo\"]\n",
    "l3=l1+l2\n",
    "print l1\n",
    "print l2\n",
    "print l3"
   ]
  },
  {
   "cell_type": "code",
   "execution_count": 27,
   "metadata": {},
   "outputs": [
    {
     "name": "stdout",
     "output_type": "stream",
     "text": [
      "['c', 'cpp', 'java', ['php', 'python', 'goo']]\n",
      "['php', 'python', 'goo']\n",
      "None\n"
     ]
    }
   ],
   "source": [
    "l1=[\"c\",\"cpp\",\"java\"]\n",
    "l2=[\"php\",\"python\",\"goo\"]\n",
    "l3=l1.append(l2)\n",
    "print l1\n",
    "print l2\n",
    "print l3"
   ]
  },
  {
   "cell_type": "code",
   "execution_count": 28,
   "metadata": {},
   "outputs": [
    {
     "name": "stdout",
     "output_type": "stream",
     "text": [
      "['c', 'cpp', 'java', 'php', 'python', 'goo']\n",
      "['php', 'python', 'goo']\n",
      "None\n"
     ]
    }
   ],
   "source": [
    "l1=[\"c\",\"cpp\",\"java\"]\n",
    "l2=[\"php\",\"python\",\"goo\"]\n",
    "l3=l1.extend(l2)\n",
    "print l1\n",
    "print l2\n",
    "print l3"
   ]
  },
  {
   "cell_type": "code",
   "execution_count": 29,
   "metadata": {},
   "outputs": [
    {
     "name": "stdout",
     "output_type": "stream",
     "text": [
      "['c', 'cpp', 'java']\n",
      "['php', 'python', 'goo', 'c', 'cpp', 'java']\n",
      "None\n"
     ]
    }
   ],
   "source": [
    "l1=[\"c\",\"cpp\",\"java\"]\n",
    "l2=[\"php\",\"python\",\"goo\"]\n",
    "l3=l2.extend(l1)\n",
    "print l1\n",
    "print l2\n",
    "print l3"
   ]
  },
  {
   "cell_type": "code",
   "execution_count": null,
   "metadata": {
    "collapsed": true
   },
   "outputs": [],
   "source": [
    "l1=[\"c\",\"cpp\",\"java\"]\n",
    "l2=l1\n",
    "l1[2]=\"python\"\n",
    "print \"l2=\",l2"
   ]
  },
  {
   "cell_type": "code",
   "execution_count": 30,
   "metadata": {},
   "outputs": [
    {
     "name": "stdout",
     "output_type": "stream",
     "text": [
      "['python', 'cpp', 'java']\n"
     ]
    }
   ],
   "source": [
    "l1=[\"c\",\"cpp\",\"java\"]\n",
    "l1[0]=\"python\"\n",
    "print l1"
   ]
  },
  {
   "cell_type": "code",
   "execution_count": 31,
   "metadata": {},
   "outputs": [
    {
     "name": "stdout",
     "output_type": "stream",
     "text": [
      "l2= ['c', 'cpp', 'python']\n",
      "l1= ['c', 'cpp', 'python']\n"
     ]
    }
   ],
   "source": [
    "l1=[\"c\",\"cpp\",\"java\"]\n",
    "l2=l1\n",
    "l1[2]=\"python\"\n",
    "print \"l2=\",l2\n",
    "print \"l1=\",l1"
   ]
  },
  {
   "cell_type": "code",
   "execution_count": 32,
   "metadata": {},
   "outputs": [
    {
     "name": "stdout",
     "output_type": "stream",
     "text": [
      "['c', 'cpp', 'java']\n"
     ]
    }
   ],
   "source": [
    "l1=[\"c\",\"cpp\",\"java\"]\n",
    "l2=l1[:]\n",
    "print l2"
   ]
  },
  {
   "cell_type": "code",
   "execution_count": 33,
   "metadata": {},
   "outputs": [
    {
     "name": "stdout",
     "output_type": "stream",
     "text": [
      "l2= ['c', 'cpp', 'java']\n",
      "l1= ['c', 'cpp', 'python']\n"
     ]
    }
   ],
   "source": [
    "l1=[\"c\",\"cpp\",\"java\"]\n",
    "l2=l1[:]\n",
    "l1[2]=\"python\"\n",
    "print \"l2=\",l2\n",
    "print \"l1=\",l1"
   ]
  },
  {
   "cell_type": "code",
   "execution_count": null,
   "metadata": {
    "collapsed": true
   },
   "outputs": [],
   "source": [
    "l1=[1000,2000,3000]\n",
    "l2=l1\n",
    "l1[2]=4000\n",
    "print \"l2=\",l2\n",
    "print \"l1=\",l1"
   ]
  },
  {
   "cell_type": "code",
   "execution_count": null,
   "metadata": {
    "collapsed": true
   },
   "outputs": [],
   "source": [
    "l1=[1000,2000,3000]\n",
    "l2=l1[:]\n",
    "l1[2]=4000\n",
    "print \"l2=\",l2\n",
    "print \"l1=\",l1"
   ]
  },
  {
   "cell_type": "code",
   "execution_count": null,
   "metadata": {
    "collapsed": true
   },
   "outputs": [],
   "source": [
    "l1=[1000,2000,3000]\n",
    "l2=[1000,2000,3000]\n",
    "l1[2]=4000\n",
    "print \"l2=\",l2\n",
    "print \"l1=\",l1"
   ]
  }
 ],
 "metadata": {
  "kernelspec": {
   "display_name": "Python 2",
   "language": "python",
   "name": "python2"
  },
  "language_info": {
   "codemirror_mode": {
    "name": "ipython",
    "version": 2
   },
   "file_extension": ".py",
   "mimetype": "text/x-python",
   "name": "python",
   "nbconvert_exporter": "python",
   "pygments_lexer": "ipython2",
   "version": "2.7.14"
  }
 },
 "nbformat": 4,
 "nbformat_minor": 2
}
