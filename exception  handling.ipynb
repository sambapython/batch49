{
 "cells": [
  {
   "cell_type": "code",
   "execution_count": 2,
   "metadata": {},
   "outputs": [
    {
     "name": "stdout",
     "output_type": "stream",
     "text": [
      "10 20.0\n",
      "result= 0.5\n"
     ]
    }
   ],
   "source": [
    "a=10\n",
    "b=20.0\n",
    "print a,b\n",
    "result=a/b\n",
    "print \"result=\",result"
   ]
  },
  {
   "cell_type": "code",
   "execution_count": 3,
   "metadata": {},
   "outputs": [
    {
     "ename": "SyntaxError",
     "evalue": "invalid syntax (<ipython-input-3-78313a0aec9d>, line 5)",
     "output_type": "error",
     "traceback": [
      "\u001b[0;36m  File \u001b[0;32m\"<ipython-input-3-78313a0aec9d>\"\u001b[0;36m, line \u001b[0;32m5\u001b[0m\n\u001b[0;31m    print \"result=\"result\u001b[0m\n\u001b[0m                        ^\u001b[0m\n\u001b[0;31mSyntaxError\u001b[0m\u001b[0;31m:\u001b[0m invalid syntax\n"
     ]
    }
   ],
   "source": [
    "a=10\n",
    "b=20.0\n",
    "print a,b\n",
    "result=a/b\n",
    "print \"result=\"result"
   ]
  },
  {
   "cell_type": "code",
   "execution_count": 5,
   "metadata": {},
   "outputs": [
    {
     "name": "stdout",
     "output_type": "stream",
     "text": [
      "10 0.0\n"
     ]
    },
    {
     "ename": "ZeroDivisionError",
     "evalue": "float division by zero",
     "output_type": "error",
     "traceback": [
      "\u001b[0;31m---------------------------------------------------------------------------\u001b[0m",
      "\u001b[0;31mZeroDivisionError\u001b[0m                         Traceback (most recent call last)",
      "\u001b[0;32m<ipython-input-5-d50234eaa294>\u001b[0m in \u001b[0;36m<module>\u001b[0;34m()\u001b[0m\n\u001b[1;32m      2\u001b[0m \u001b[0mb\u001b[0m\u001b[0;34m=\u001b[0m\u001b[0;36m0.0\u001b[0m\u001b[0;34m\u001b[0m\u001b[0m\n\u001b[1;32m      3\u001b[0m \u001b[0;32mprint\u001b[0m \u001b[0ma\u001b[0m\u001b[0;34m,\u001b[0m\u001b[0mb\u001b[0m\u001b[0;34m\u001b[0m\u001b[0m\n\u001b[0;32m----> 4\u001b[0;31m \u001b[0mresult\u001b[0m\u001b[0;34m=\u001b[0m\u001b[0ma\u001b[0m\u001b[0;34m/\u001b[0m\u001b[0mb\u001b[0m\u001b[0;34m\u001b[0m\u001b[0m\n\u001b[0m\u001b[1;32m      5\u001b[0m \u001b[0;32mprint\u001b[0m \u001b[0;34m\"result=\"\u001b[0m\u001b[0;34m,\u001b[0m\u001b[0mresult\u001b[0m\u001b[0;34m\u001b[0m\u001b[0m\n",
      "\u001b[0;31mZeroDivisionError\u001b[0m: float division by zero"
     ]
    }
   ],
   "source": [
    "a=10\n",
    "b=0.0\n",
    "print a,b\n",
    "result=a/b\n",
    "print \"result=\",result"
   ]
  },
  {
   "cell_type": "code",
   "execution_count": 6,
   "metadata": {},
   "outputs": [
    {
     "name": "stdout",
     "output_type": "stream",
     "text": [
      "Enter a numbe1:12\n",
      "enter a number2:34\n",
      "before conversion: n1=12, n2=34\n",
      "after conversion: n1=12, n2=34\n",
      "result= 0\n",
      "other statements in program\n",
      "thank you.\n"
     ]
    }
   ],
   "source": [
    "n1=raw_input(\"Enter a numbe1:\")\n",
    "n2=raw_input(\"enter a number2:\")\n",
    "print \"before conversion: n1=%s, n2=%s\"%(n1,n2)\n",
    "n1=int(n1)\n",
    "n2=int(n2)\n",
    "print \"after conversion: n1=%s, n2=%s\"%(n1,n2)\n",
    "res=n1/n2\n",
    "print \"result=\",res\n",
    "print \"other statements in program\"\n",
    "print \"thank you.\""
   ]
  },
  {
   "cell_type": "code",
   "execution_count": 7,
   "metadata": {},
   "outputs": [
    {
     "name": "stdout",
     "output_type": "stream",
     "text": [
      "Enter a numbe1:n1\n",
      "enter a number2:n2\n",
      "before conversion: n1=n1, n2=n2\n"
     ]
    },
    {
     "ename": "ValueError",
     "evalue": "invalid literal for int() with base 10: 'n1'",
     "output_type": "error",
     "traceback": [
      "\u001b[0;31m---------------------------------------------------------------------------\u001b[0m",
      "\u001b[0;31mValueError\u001b[0m                                Traceback (most recent call last)",
      "\u001b[0;32m<ipython-input-7-d06dc8facc9b>\u001b[0m in \u001b[0;36m<module>\u001b[0;34m()\u001b[0m\n\u001b[1;32m      2\u001b[0m \u001b[0mn2\u001b[0m\u001b[0;34m=\u001b[0m\u001b[0mraw_input\u001b[0m\u001b[0;34m(\u001b[0m\u001b[0;34m\"enter a number2:\"\u001b[0m\u001b[0;34m)\u001b[0m\u001b[0;34m\u001b[0m\u001b[0m\n\u001b[1;32m      3\u001b[0m \u001b[0;32mprint\u001b[0m \u001b[0;34m\"before conversion: n1=%s, n2=%s\"\u001b[0m\u001b[0;34m%\u001b[0m\u001b[0;34m(\u001b[0m\u001b[0mn1\u001b[0m\u001b[0;34m,\u001b[0m\u001b[0mn2\u001b[0m\u001b[0;34m)\u001b[0m\u001b[0;34m\u001b[0m\u001b[0m\n\u001b[0;32m----> 4\u001b[0;31m \u001b[0mn1\u001b[0m\u001b[0;34m=\u001b[0m\u001b[0mint\u001b[0m\u001b[0;34m(\u001b[0m\u001b[0mn1\u001b[0m\u001b[0;34m)\u001b[0m\u001b[0;34m\u001b[0m\u001b[0m\n\u001b[0m\u001b[1;32m      5\u001b[0m \u001b[0mn2\u001b[0m\u001b[0;34m=\u001b[0m\u001b[0mint\u001b[0m\u001b[0;34m(\u001b[0m\u001b[0mn2\u001b[0m\u001b[0;34m)\u001b[0m\u001b[0;34m\u001b[0m\u001b[0m\n\u001b[1;32m      6\u001b[0m \u001b[0;32mprint\u001b[0m \u001b[0;34m\"after conversion: n1=%s, n2=%s\"\u001b[0m\u001b[0;34m%\u001b[0m\u001b[0;34m(\u001b[0m\u001b[0mn1\u001b[0m\u001b[0;34m,\u001b[0m\u001b[0mn2\u001b[0m\u001b[0;34m)\u001b[0m\u001b[0;34m\u001b[0m\u001b[0m\n",
      "\u001b[0;31mValueError\u001b[0m: invalid literal for int() with base 10: 'n1'"
     ]
    }
   ],
   "source": [
    "n1=raw_input(\"Enter a numbe1:\")\n",
    "n2=raw_input(\"enter a number2:\")\n",
    "print \"before conversion: n1=%s, n2=%s\"%(n1,n2)\n",
    "n1=int(n1)\n",
    "n2=int(n2)\n",
    "print \"after conversion: n1=%s, n2=%s\"%(n1,n2)\n",
    "res=n1/n2\n",
    "print \"result=\",res\n",
    "print \"other statements in program\"\n",
    "print \"thank you.\""
   ]
  },
  {
   "cell_type": "code",
   "execution_count": 8,
   "metadata": {},
   "outputs": [
    {
     "name": "stdout",
     "output_type": "stream",
     "text": [
      "Enter a numbe1:12\n",
      "enter a number2:0\n",
      "before conversion: n1=12, n2=0\n",
      "after conversion: n1=12, n2=0\n"
     ]
    },
    {
     "ename": "ZeroDivisionError",
     "evalue": "integer division or modulo by zero",
     "output_type": "error",
     "traceback": [
      "\u001b[0;31m---------------------------------------------------------------------------\u001b[0m",
      "\u001b[0;31mZeroDivisionError\u001b[0m                         Traceback (most recent call last)",
      "\u001b[0;32m<ipython-input-8-d06dc8facc9b>\u001b[0m in \u001b[0;36m<module>\u001b[0;34m()\u001b[0m\n\u001b[1;32m      5\u001b[0m \u001b[0mn2\u001b[0m\u001b[0;34m=\u001b[0m\u001b[0mint\u001b[0m\u001b[0;34m(\u001b[0m\u001b[0mn2\u001b[0m\u001b[0;34m)\u001b[0m\u001b[0;34m\u001b[0m\u001b[0m\n\u001b[1;32m      6\u001b[0m \u001b[0;32mprint\u001b[0m \u001b[0;34m\"after conversion: n1=%s, n2=%s\"\u001b[0m\u001b[0;34m%\u001b[0m\u001b[0;34m(\u001b[0m\u001b[0mn1\u001b[0m\u001b[0;34m,\u001b[0m\u001b[0mn2\u001b[0m\u001b[0;34m)\u001b[0m\u001b[0;34m\u001b[0m\u001b[0m\n\u001b[0;32m----> 7\u001b[0;31m \u001b[0mres\u001b[0m\u001b[0;34m=\u001b[0m\u001b[0mn1\u001b[0m\u001b[0;34m/\u001b[0m\u001b[0mn2\u001b[0m\u001b[0;34m\u001b[0m\u001b[0m\n\u001b[0m\u001b[1;32m      8\u001b[0m \u001b[0;32mprint\u001b[0m \u001b[0;34m\"result=\"\u001b[0m\u001b[0;34m,\u001b[0m\u001b[0mres\u001b[0m\u001b[0;34m\u001b[0m\u001b[0m\n\u001b[1;32m      9\u001b[0m \u001b[0;32mprint\u001b[0m \u001b[0;34m\"other statements in program\"\u001b[0m\u001b[0;34m\u001b[0m\u001b[0m\n",
      "\u001b[0;31mZeroDivisionError\u001b[0m: integer division or modulo by zero"
     ]
    }
   ],
   "source": [
    "n1=raw_input(\"Enter a numbe1:\")\n",
    "n2=raw_input(\"enter a number2:\")\n",
    "print \"before conversion: n1=%s, n2=%s\"%(n1,n2)\n",
    "n1=int(n1)\n",
    "n2=int(n2)\n",
    "print \"after conversion: n1=%s, n2=%s\"%(n1,n2)\n",
    "res=n1/n2\n",
    "print \"result=\",res\n",
    "print \"other statements in program\"\n",
    "print \"thank you.\""
   ]
  },
  {
   "cell_type": "code",
   "execution_count": 9,
   "metadata": {},
   "outputs": [
    {
     "name": "stdout",
     "output_type": "stream",
     "text": [
      "Enter a numbe1:12\n",
      "enter a number2:6\n",
      "before conversion: n1=12, n2=6\n",
      "after conversion: n1=12, n2=6\n",
      "result= 2\n",
      "other statements in program\n",
      "thank you.\n"
     ]
    }
   ],
   "source": [
    "try:\n",
    "    n1=raw_input(\"Enter a numbe1:\")\n",
    "    n2=raw_input(\"enter a number2:\")\n",
    "    print \"before conversion: n1=%s, n2=%s\"%(n1,n2)\n",
    "    n1=int(n1)\n",
    "    n2=int(n2)\n",
    "    print \"after conversion: n1=%s, n2=%s\"%(n1,n2)\n",
    "    res=n1/n2\n",
    "    print \"result=\",res\n",
    "    print \"other statements in program\"\n",
    "    print \"thank you.\"\n",
    "except:\n",
    "    print \"something went wrong\""
   ]
  },
  {
   "cell_type": "code",
   "execution_count": 10,
   "metadata": {},
   "outputs": [
    {
     "name": "stdout",
     "output_type": "stream",
     "text": [
      "Enter a numbe1:1.2\n",
      "enter a number2:30\n",
      "before conversion: n1=1.2, n2=30\n"
     ]
    },
    {
     "ename": "ValueError",
     "evalue": "invalid literal for int() with base 10: '1.2'",
     "output_type": "error",
     "traceback": [
      "\u001b[0;31m---------------------------------------------------------------------------\u001b[0m",
      "\u001b[0;31mValueError\u001b[0m                                Traceback (most recent call last)",
      "\u001b[0;32m<ipython-input-10-d06dc8facc9b>\u001b[0m in \u001b[0;36m<module>\u001b[0;34m()\u001b[0m\n\u001b[1;32m      2\u001b[0m \u001b[0mn2\u001b[0m\u001b[0;34m=\u001b[0m\u001b[0mraw_input\u001b[0m\u001b[0;34m(\u001b[0m\u001b[0;34m\"enter a number2:\"\u001b[0m\u001b[0;34m)\u001b[0m\u001b[0;34m\u001b[0m\u001b[0m\n\u001b[1;32m      3\u001b[0m \u001b[0;32mprint\u001b[0m \u001b[0;34m\"before conversion: n1=%s, n2=%s\"\u001b[0m\u001b[0;34m%\u001b[0m\u001b[0;34m(\u001b[0m\u001b[0mn1\u001b[0m\u001b[0;34m,\u001b[0m\u001b[0mn2\u001b[0m\u001b[0;34m)\u001b[0m\u001b[0;34m\u001b[0m\u001b[0m\n\u001b[0;32m----> 4\u001b[0;31m \u001b[0mn1\u001b[0m\u001b[0;34m=\u001b[0m\u001b[0mint\u001b[0m\u001b[0;34m(\u001b[0m\u001b[0mn1\u001b[0m\u001b[0;34m)\u001b[0m\u001b[0;34m\u001b[0m\u001b[0m\n\u001b[0m\u001b[1;32m      5\u001b[0m \u001b[0mn2\u001b[0m\u001b[0;34m=\u001b[0m\u001b[0mint\u001b[0m\u001b[0;34m(\u001b[0m\u001b[0mn2\u001b[0m\u001b[0;34m)\u001b[0m\u001b[0;34m\u001b[0m\u001b[0m\n\u001b[1;32m      6\u001b[0m \u001b[0;32mprint\u001b[0m \u001b[0;34m\"after conversion: n1=%s, n2=%s\"\u001b[0m\u001b[0;34m%\u001b[0m\u001b[0;34m(\u001b[0m\u001b[0mn1\u001b[0m\u001b[0;34m,\u001b[0m\u001b[0mn2\u001b[0m\u001b[0;34m)\u001b[0m\u001b[0;34m\u001b[0m\u001b[0m\n",
      "\u001b[0;31mValueError\u001b[0m: invalid literal for int() with base 10: '1.2'"
     ]
    }
   ],
   "source": [
    "n1=raw_input(\"Enter a numbe1:\")\n",
    "n2=raw_input(\"enter a number2:\")\n",
    "print \"before conversion: n1=%s, n2=%s\"%(n1,n2)\n",
    "n1=int(n1)\n",
    "n2=int(n2)\n",
    "print \"after conversion: n1=%s, n2=%s\"%(n1,n2)\n",
    "res=n1/n2\n",
    "print \"result=\",res\n",
    "print \"other statements in program\"\n",
    "print \"thank you.\""
   ]
  },
  {
   "cell_type": "code",
   "execution_count": 11,
   "metadata": {},
   "outputs": [
    {
     "name": "stdout",
     "output_type": "stream",
     "text": [
      "Enter a numbe1:12\n",
      "enter a number2:6\n",
      "before conversion: n1=12, n2=6\n",
      "after conversion: n1=12.0, n2=6.0\n",
      "result= 2.0\n",
      "other statements in program\n",
      "thank you.\n"
     ]
    }
   ],
   "source": [
    "n1=raw_input(\"Enter a numbe1:\")\n",
    "n2=raw_input(\"enter a number2:\")\n",
    "print \"before conversion: n1=%s, n2=%s\"%(n1,n2)\n",
    "n1=float(n1)\n",
    "n2=float(n2)\n",
    "print \"after conversion: n1=%s, n2=%s\"%(n1,n2)\n",
    "res=n1/n2\n",
    "print \"result=\",res\n",
    "print \"other statements in program\"\n",
    "print \"thank you.\""
   ]
  },
  {
   "cell_type": "code",
   "execution_count": 12,
   "metadata": {},
   "outputs": [
    {
     "name": "stdout",
     "output_type": "stream",
     "text": [
      "Enter a numbe1:1.2\n",
      "enter a number2:0.6\n",
      "before conversion: n1=1.2, n2=0.6\n",
      "after conversion: n1=1.2, n2=0.6\n",
      "result= 2.0\n",
      "other statements in program\n",
      "thank you.\n"
     ]
    }
   ],
   "source": [
    "n1=raw_input(\"Enter a numbe1:\")\n",
    "n2=raw_input(\"enter a number2:\")\n",
    "print \"before conversion: n1=%s, n2=%s\"%(n1,n2)\n",
    "n1=float(n1)\n",
    "n2=float(n2)\n",
    "print \"after conversion: n1=%s, n2=%s\"%(n1,n2)\n",
    "res=n1/n2\n",
    "print \"result=\",res\n",
    "print \"other statements in program\"\n",
    "print \"thank you.\""
   ]
  },
  {
   "cell_type": "code",
   "execution_count": 13,
   "metadata": {},
   "outputs": [
    {
     "name": "stdout",
     "output_type": "stream",
     "text": [
      "Enter a numbe1:12\n",
      "enter a number2:0\n",
      "before conversion: n1=12, n2=0\n",
      "after conversion: n1=12.0, n2=0.0\n"
     ]
    },
    {
     "ename": "ZeroDivisionError",
     "evalue": "float division by zero",
     "output_type": "error",
     "traceback": [
      "\u001b[0;31m---------------------------------------------------------------------------\u001b[0m",
      "\u001b[0;31mZeroDivisionError\u001b[0m                         Traceback (most recent call last)",
      "\u001b[0;32m<ipython-input-13-1f5823480647>\u001b[0m in \u001b[0;36m<module>\u001b[0;34m()\u001b[0m\n\u001b[1;32m      5\u001b[0m \u001b[0mn2\u001b[0m\u001b[0;34m=\u001b[0m\u001b[0mfloat\u001b[0m\u001b[0;34m(\u001b[0m\u001b[0mn2\u001b[0m\u001b[0;34m)\u001b[0m\u001b[0;34m\u001b[0m\u001b[0m\n\u001b[1;32m      6\u001b[0m \u001b[0;32mprint\u001b[0m \u001b[0;34m\"after conversion: n1=%s, n2=%s\"\u001b[0m\u001b[0;34m%\u001b[0m\u001b[0;34m(\u001b[0m\u001b[0mn1\u001b[0m\u001b[0;34m,\u001b[0m\u001b[0mn2\u001b[0m\u001b[0;34m)\u001b[0m\u001b[0;34m\u001b[0m\u001b[0m\n\u001b[0;32m----> 7\u001b[0;31m \u001b[0mres\u001b[0m\u001b[0;34m=\u001b[0m\u001b[0mn1\u001b[0m\u001b[0;34m/\u001b[0m\u001b[0mn2\u001b[0m\u001b[0;34m\u001b[0m\u001b[0m\n\u001b[0m\u001b[1;32m      8\u001b[0m \u001b[0;32mprint\u001b[0m \u001b[0;34m\"result=\"\u001b[0m\u001b[0;34m,\u001b[0m\u001b[0mres\u001b[0m\u001b[0;34m\u001b[0m\u001b[0m\n\u001b[1;32m      9\u001b[0m \u001b[0;32mprint\u001b[0m \u001b[0;34m\"other statements in program\"\u001b[0m\u001b[0;34m\u001b[0m\u001b[0m\n",
      "\u001b[0;31mZeroDivisionError\u001b[0m: float division by zero"
     ]
    }
   ],
   "source": [
    "n1=raw_input(\"Enter a numbe1:\")\n",
    "n2=raw_input(\"enter a number2:\")\n",
    "print \"before conversion: n1=%s, n2=%s\"%(n1,n2)\n",
    "n1=float(n1)\n",
    "n2=float(n2)\n",
    "print \"after conversion: n1=%s, n2=%s\"%(n1,n2)\n",
    "res=n1/n2\n",
    "print \"result=\",res\n",
    "print \"other statements in program\"\n",
    "print \"thank you.\""
   ]
  },
  {
   "cell_type": "code",
   "execution_count": 14,
   "metadata": {},
   "outputs": [
    {
     "name": "stdout",
     "output_type": "stream",
     "text": [
      "Enter a numbe1:12\n",
      "enter a number2:werty\n",
      "before conversion: n1=12, n2=werty\n"
     ]
    },
    {
     "ename": "ValueError",
     "evalue": "could not convert string to float: werty",
     "output_type": "error",
     "traceback": [
      "\u001b[0;31m---------------------------------------------------------------------------\u001b[0m",
      "\u001b[0;31mValueError\u001b[0m                                Traceback (most recent call last)",
      "\u001b[0;32m<ipython-input-14-1f5823480647>\u001b[0m in \u001b[0;36m<module>\u001b[0;34m()\u001b[0m\n\u001b[1;32m      3\u001b[0m \u001b[0;32mprint\u001b[0m \u001b[0;34m\"before conversion: n1=%s, n2=%s\"\u001b[0m\u001b[0;34m%\u001b[0m\u001b[0;34m(\u001b[0m\u001b[0mn1\u001b[0m\u001b[0;34m,\u001b[0m\u001b[0mn2\u001b[0m\u001b[0;34m)\u001b[0m\u001b[0;34m\u001b[0m\u001b[0m\n\u001b[1;32m      4\u001b[0m \u001b[0mn1\u001b[0m\u001b[0;34m=\u001b[0m\u001b[0mfloat\u001b[0m\u001b[0;34m(\u001b[0m\u001b[0mn1\u001b[0m\u001b[0;34m)\u001b[0m\u001b[0;34m\u001b[0m\u001b[0m\n\u001b[0;32m----> 5\u001b[0;31m \u001b[0mn2\u001b[0m\u001b[0;34m=\u001b[0m\u001b[0mfloat\u001b[0m\u001b[0;34m(\u001b[0m\u001b[0mn2\u001b[0m\u001b[0;34m)\u001b[0m\u001b[0;34m\u001b[0m\u001b[0m\n\u001b[0m\u001b[1;32m      6\u001b[0m \u001b[0;32mprint\u001b[0m \u001b[0;34m\"after conversion: n1=%s, n2=%s\"\u001b[0m\u001b[0;34m%\u001b[0m\u001b[0;34m(\u001b[0m\u001b[0mn1\u001b[0m\u001b[0;34m,\u001b[0m\u001b[0mn2\u001b[0m\u001b[0;34m)\u001b[0m\u001b[0;34m\u001b[0m\u001b[0m\n\u001b[1;32m      7\u001b[0m \u001b[0mres\u001b[0m\u001b[0;34m=\u001b[0m\u001b[0mn1\u001b[0m\u001b[0;34m/\u001b[0m\u001b[0mn2\u001b[0m\u001b[0;34m\u001b[0m\u001b[0m\n",
      "\u001b[0;31mValueError\u001b[0m: could not convert string to float: werty"
     ]
    }
   ],
   "source": [
    "n1=raw_input(\"Enter a numbe1:\")\n",
    "n2=raw_input(\"enter a number2:\")\n",
    "print \"before conversion: n1=%s, n2=%s\"%(n1,n2)\n",
    "n1=float(n1)\n",
    "n2=float(n2)\n",
    "print \"after conversion: n1=%s, n2=%s\"%(n1,n2)\n",
    "res=n1/n2\n",
    "print \"result=\",res\n",
    "print \"other statements in program\"\n",
    "print \"thank you.\""
   ]
  },
  {
   "cell_type": "code",
   "execution_count": 15,
   "metadata": {},
   "outputs": [
    {
     "name": "stdout",
     "output_type": "stream",
     "text": [
      "Enter a numbe1:12\n",
      "enter a number2:6\n",
      "before conversion: n1=12, n2=6\n",
      "after conversion: n1=12.0, n2=6.0\n",
      "result= 2.0\n",
      "other statements in program\n",
      "thank you.\n"
     ]
    }
   ],
   "source": [
    "try:\n",
    "    n1=raw_input(\"Enter a numbe1:\")\n",
    "    n2=raw_input(\"enter a number2:\")\n",
    "    print \"before conversion: n1=%s, n2=%s\"%(n1,n2)\n",
    "    n1=float(n1)\n",
    "    n2=float(n2)\n",
    "    print \"after conversion: n1=%s, n2=%s\"%(n1,n2)\n",
    "    res=n1/n2\n",
    "    print \"result=\",res\n",
    "    print \"other statements in program\"\n",
    "    print \"thank you.\"\n",
    "except:\n",
    "    print \"something went wrong\""
   ]
  },
  {
   "cell_type": "code",
   "execution_count": 16,
   "metadata": {},
   "outputs": [
    {
     "name": "stdout",
     "output_type": "stream",
     "text": [
      "Enter a numbe1:12\n",
      "enter a number2:0\n",
      "before conversion: n1=12, n2=0\n",
      "after conversion: n1=12.0, n2=0.0\n",
      "something went wrong\n"
     ]
    }
   ],
   "source": [
    "try:\n",
    "    n1=raw_input(\"Enter a numbe1:\")\n",
    "    n2=raw_input(\"enter a number2:\")\n",
    "    print \"before conversion: n1=%s, n2=%s\"%(n1,n2)\n",
    "    n1=float(n1)\n",
    "    n2=float(n2)\n",
    "    print \"after conversion: n1=%s, n2=%s\"%(n1,n2)\n",
    "    res=n1/n2\n",
    "    print \"result=\",res\n",
    "    print \"other statements in program\"\n",
    "    print \"thank you.\"\n",
    "except:\n",
    "    print \"something went wrong\""
   ]
  },
  {
   "cell_type": "code",
   "execution_count": 17,
   "metadata": {},
   "outputs": [
    {
     "name": "stdout",
     "output_type": "stream",
     "text": [
      "Enter a numbe1:abc\n",
      "enter a number2:qwe\n",
      "before conversion: n1=abc, n2=qwe\n",
      "something went wrong\n"
     ]
    }
   ],
   "source": [
    "try:\n",
    "    n1=raw_input(\"Enter a numbe1:\")\n",
    "    n2=raw_input(\"enter a number2:\")\n",
    "    print \"before conversion: n1=%s, n2=%s\"%(n1,n2)\n",
    "    n1=float(n1)\n",
    "    n2=float(n2)\n",
    "    print \"after conversion: n1=%s, n2=%s\"%(n1,n2)\n",
    "    res=n1/n2\n",
    "    print \"result=\",res\n",
    "    print \"other statements in program\"\n",
    "    print \"thank you.\"\n",
    "except:\n",
    "    print \"something went wrong\""
   ]
  },
  {
   "cell_type": "code",
   "execution_count": 18,
   "metadata": {},
   "outputs": [
    {
     "name": "stdout",
     "output_type": "stream",
     "text": [
      "Enter a numbe1:12\n",
      "enter a number2:6\n",
      "before conversion: n1=12, n2=6\n",
      "after conversion: n1=12.0, n2=6.0\n",
      "result= 2.0\n",
      "other statements in program\n",
      "thank you.\n"
     ]
    }
   ],
   "source": [
    "n1=raw_input(\"Enter a numbe1:\")\n",
    "n2=raw_input(\"enter a number2:\")\n",
    "print \"before conversion: n1=%s, n2=%s\"%(n1,n2)\n",
    "try:\n",
    "    n1=float(n1)\n",
    "    n2=float(n2)\n",
    "    print \"after conversion: n1=%s, n2=%s\"%(n1,n2)\n",
    "    res=n1/n2\n",
    "    print \"result=\",res\n",
    "except:\n",
    "    print \"something went wrong\"\n",
    "print \"other statements in program\"\n",
    "print \"thank you.\""
   ]
  },
  {
   "cell_type": "code",
   "execution_count": 19,
   "metadata": {},
   "outputs": [
    {
     "name": "stdout",
     "output_type": "stream",
     "text": [
      "Enter a numbe1:12\n",
      "enter a number2:0\n",
      "before conversion: n1=12, n2=0\n",
      "after conversion: n1=12.0, n2=0.0\n",
      "something went wrong\n",
      "other statements in program\n",
      "thank you.\n"
     ]
    }
   ],
   "source": [
    "n1=raw_input(\"Enter a numbe1:\")\n",
    "n2=raw_input(\"enter a number2:\")\n",
    "print \"before conversion: n1=%s, n2=%s\"%(n1,n2)\n",
    "try:\n",
    "    n1=float(n1)\n",
    "    n2=float(n2)\n",
    "    print \"after conversion: n1=%s, n2=%s\"%(n1,n2)\n",
    "    res=n1/n2\n",
    "    print \"result=\",res\n",
    "except:\n",
    "    print \"something went wrong\"\n",
    "print \"other statements in program\"\n",
    "print \"thank you.\""
   ]
  },
  {
   "cell_type": "code",
   "execution_count": 20,
   "metadata": {},
   "outputs": [
    {
     "name": "stdout",
     "output_type": "stream",
     "text": [
      "Enter a numbe1:abcd\n",
      "enter a number2:wert\n",
      "before conversion: n1=abcd, n2=wert\n",
      "something went wrong\n",
      "other statements in program\n",
      "thank you.\n"
     ]
    }
   ],
   "source": [
    "n1=raw_input(\"Enter a numbe1:\")\n",
    "n2=raw_input(\"enter a number2:\")\n",
    "print \"before conversion: n1=%s, n2=%s\"%(n1,n2)\n",
    "try:\n",
    "    n1=float(n1)\n",
    "    n2=float(n2)\n",
    "    print \"after conversion: n1=%s, n2=%s\"%(n1,n2)\n",
    "    res=n1/n2\n",
    "    print \"result=\",res\n",
    "except:\n",
    "    print \"something went wrong\"\n",
    "print \"other statements in program\"\n",
    "print \"thank you.\""
   ]
  },
  {
   "cell_type": "code",
   "execution_count": null,
   "metadata": {
    "collapsed": true
   },
   "outputs": [],
   "source": []
  }
 ],
 "metadata": {
  "kernelspec": {
   "display_name": "Python 2",
   "language": "python",
   "name": "python2"
  },
  "language_info": {
   "codemirror_mode": {
    "name": "ipython",
    "version": 2
   },
   "file_extension": ".py",
   "mimetype": "text/x-python",
   "name": "python",
   "nbconvert_exporter": "python",
   "pygments_lexer": "ipython2",
   "version": "2.7.14"
  }
 },
 "nbformat": 4,
 "nbformat_minor": 2
}
