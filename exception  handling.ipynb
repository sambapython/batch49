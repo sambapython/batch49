{
 "cells": [
  {
   "cell_type": "code",
   "execution_count": 2,
   "metadata": {},
   "outputs": [
    {
     "name": "stdout",
     "output_type": "stream",
     "text": [
      "10 20.0\n",
      "result= 0.5\n"
     ]
    }
   ],
   "source": [
    "a=10\n",
    "b=20.0\n",
    "print a,b\n",
    "result=a/b\n",
    "print \"result=\",result"
   ]
  },
  {
   "cell_type": "code",
   "execution_count": 3,
   "metadata": {},
   "outputs": [
    {
     "ename": "SyntaxError",
     "evalue": "invalid syntax (<ipython-input-3-78313a0aec9d>, line 5)",
     "output_type": "error",
     "traceback": [
      "\u001b[0;36m  File \u001b[0;32m\"<ipython-input-3-78313a0aec9d>\"\u001b[0;36m, line \u001b[0;32m5\u001b[0m\n\u001b[0;31m    print \"result=\"result\u001b[0m\n\u001b[0m                        ^\u001b[0m\n\u001b[0;31mSyntaxError\u001b[0m\u001b[0;31m:\u001b[0m invalid syntax\n"
     ]
    }
   ],
   "source": [
    "a=10\n",
    "b=20.0\n",
    "print a,b\n",
    "result=a/b\n",
    "print \"result=\"result"
   ]
  },
  {
   "cell_type": "code",
   "execution_count": 5,
   "metadata": {},
   "outputs": [
    {
     "name": "stdout",
     "output_type": "stream",
     "text": [
      "10 0.0\n"
     ]
    },
    {
     "ename": "ZeroDivisionError",
     "evalue": "float division by zero",
     "output_type": "error",
     "traceback": [
      "\u001b[0;31m---------------------------------------------------------------------------\u001b[0m",
      "\u001b[0;31mZeroDivisionError\u001b[0m                         Traceback (most recent call last)",
      "\u001b[0;32m<ipython-input-5-d50234eaa294>\u001b[0m in \u001b[0;36m<module>\u001b[0;34m()\u001b[0m\n\u001b[1;32m      2\u001b[0m \u001b[0mb\u001b[0m\u001b[0;34m=\u001b[0m\u001b[0;36m0.0\u001b[0m\u001b[0;34m\u001b[0m\u001b[0m\n\u001b[1;32m      3\u001b[0m \u001b[0;32mprint\u001b[0m \u001b[0ma\u001b[0m\u001b[0;34m,\u001b[0m\u001b[0mb\u001b[0m\u001b[0;34m\u001b[0m\u001b[0m\n\u001b[0;32m----> 4\u001b[0;31m \u001b[0mresult\u001b[0m\u001b[0;34m=\u001b[0m\u001b[0ma\u001b[0m\u001b[0;34m/\u001b[0m\u001b[0mb\u001b[0m\u001b[0;34m\u001b[0m\u001b[0m\n\u001b[0m\u001b[1;32m      5\u001b[0m \u001b[0;32mprint\u001b[0m \u001b[0;34m\"result=\"\u001b[0m\u001b[0;34m,\u001b[0m\u001b[0mresult\u001b[0m\u001b[0;34m\u001b[0m\u001b[0m\n",
      "\u001b[0;31mZeroDivisionError\u001b[0m: float division by zero"
     ]
    }
   ],
   "source": [
    "a=10\n",
    "b=0.0\n",
    "print a,b\n",
    "result=a/b\n",
    "print \"result=\",result"
   ]
  },
  {
   "cell_type": "code",
   "execution_count": 6,
   "metadata": {},
   "outputs": [
    {
     "name": "stdout",
     "output_type": "stream",
     "text": [
      "Enter a numbe1:12\n",
      "enter a number2:34\n",
      "before conversion: n1=12, n2=34\n",
      "after conversion: n1=12, n2=34\n",
      "result= 0\n",
      "other statements in program\n",
      "thank you.\n"
     ]
    }
   ],
   "source": [
    "n1=raw_input(\"Enter a numbe1:\")\n",
    "n2=raw_input(\"enter a number2:\")\n",
    "print \"before conversion: n1=%s, n2=%s\"%(n1,n2)\n",
    "n1=int(n1)\n",
    "n2=int(n2)\n",
    "print \"after conversion: n1=%s, n2=%s\"%(n1,n2)\n",
    "res=n1/n2\n",
    "print \"result=\",res\n",
    "print \"other statements in program\"\n",
    "print \"thank you.\""
   ]
  },
  {
   "cell_type": "code",
   "execution_count": 7,
   "metadata": {},
   "outputs": [
    {
     "name": "stdout",
     "output_type": "stream",
     "text": [
      "Enter a numbe1:n1\n",
      "enter a number2:n2\n",
      "before conversion: n1=n1, n2=n2\n"
     ]
    },
    {
     "ename": "ValueError",
     "evalue": "invalid literal for int() with base 10: 'n1'",
     "output_type": "error",
     "traceback": [
      "\u001b[0;31m---------------------------------------------------------------------------\u001b[0m",
      "\u001b[0;31mValueError\u001b[0m                                Traceback (most recent call last)",
      "\u001b[0;32m<ipython-input-7-d06dc8facc9b>\u001b[0m in \u001b[0;36m<module>\u001b[0;34m()\u001b[0m\n\u001b[1;32m      2\u001b[0m \u001b[0mn2\u001b[0m\u001b[0;34m=\u001b[0m\u001b[0mraw_input\u001b[0m\u001b[0;34m(\u001b[0m\u001b[0;34m\"enter a number2:\"\u001b[0m\u001b[0;34m)\u001b[0m\u001b[0;34m\u001b[0m\u001b[0m\n\u001b[1;32m      3\u001b[0m \u001b[0;32mprint\u001b[0m \u001b[0;34m\"before conversion: n1=%s, n2=%s\"\u001b[0m\u001b[0;34m%\u001b[0m\u001b[0;34m(\u001b[0m\u001b[0mn1\u001b[0m\u001b[0;34m,\u001b[0m\u001b[0mn2\u001b[0m\u001b[0;34m)\u001b[0m\u001b[0;34m\u001b[0m\u001b[0m\n\u001b[0;32m----> 4\u001b[0;31m \u001b[0mn1\u001b[0m\u001b[0;34m=\u001b[0m\u001b[0mint\u001b[0m\u001b[0;34m(\u001b[0m\u001b[0mn1\u001b[0m\u001b[0;34m)\u001b[0m\u001b[0;34m\u001b[0m\u001b[0m\n\u001b[0m\u001b[1;32m      5\u001b[0m \u001b[0mn2\u001b[0m\u001b[0;34m=\u001b[0m\u001b[0mint\u001b[0m\u001b[0;34m(\u001b[0m\u001b[0mn2\u001b[0m\u001b[0;34m)\u001b[0m\u001b[0;34m\u001b[0m\u001b[0m\n\u001b[1;32m      6\u001b[0m \u001b[0;32mprint\u001b[0m \u001b[0;34m\"after conversion: n1=%s, n2=%s\"\u001b[0m\u001b[0;34m%\u001b[0m\u001b[0;34m(\u001b[0m\u001b[0mn1\u001b[0m\u001b[0;34m,\u001b[0m\u001b[0mn2\u001b[0m\u001b[0;34m)\u001b[0m\u001b[0;34m\u001b[0m\u001b[0m\n",
      "\u001b[0;31mValueError\u001b[0m: invalid literal for int() with base 10: 'n1'"
     ]
    }
   ],
   "source": [
    "n1=raw_input(\"Enter a numbe1:\")\n",
    "n2=raw_input(\"enter a number2:\")\n",
    "print \"before conversion: n1=%s, n2=%s\"%(n1,n2)\n",
    "n1=int(n1)\n",
    "n2=int(n2)\n",
    "print \"after conversion: n1=%s, n2=%s\"%(n1,n2)\n",
    "res=n1/n2\n",
    "print \"result=\",res\n",
    "print \"other statements in program\"\n",
    "print \"thank you.\""
   ]
  },
  {
   "cell_type": "code",
   "execution_count": 8,
   "metadata": {},
   "outputs": [
    {
     "name": "stdout",
     "output_type": "stream",
     "text": [
      "Enter a numbe1:12\n",
      "enter a number2:0\n",
      "before conversion: n1=12, n2=0\n",
      "after conversion: n1=12, n2=0\n"
     ]
    },
    {
     "ename": "ZeroDivisionError",
     "evalue": "integer division or modulo by zero",
     "output_type": "error",
     "traceback": [
      "\u001b[0;31m---------------------------------------------------------------------------\u001b[0m",
      "\u001b[0;31mZeroDivisionError\u001b[0m                         Traceback (most recent call last)",
      "\u001b[0;32m<ipython-input-8-d06dc8facc9b>\u001b[0m in \u001b[0;36m<module>\u001b[0;34m()\u001b[0m\n\u001b[1;32m      5\u001b[0m \u001b[0mn2\u001b[0m\u001b[0;34m=\u001b[0m\u001b[0mint\u001b[0m\u001b[0;34m(\u001b[0m\u001b[0mn2\u001b[0m\u001b[0;34m)\u001b[0m\u001b[0;34m\u001b[0m\u001b[0m\n\u001b[1;32m      6\u001b[0m \u001b[0;32mprint\u001b[0m \u001b[0;34m\"after conversion: n1=%s, n2=%s\"\u001b[0m\u001b[0;34m%\u001b[0m\u001b[0;34m(\u001b[0m\u001b[0mn1\u001b[0m\u001b[0;34m,\u001b[0m\u001b[0mn2\u001b[0m\u001b[0;34m)\u001b[0m\u001b[0;34m\u001b[0m\u001b[0m\n\u001b[0;32m----> 7\u001b[0;31m \u001b[0mres\u001b[0m\u001b[0;34m=\u001b[0m\u001b[0mn1\u001b[0m\u001b[0;34m/\u001b[0m\u001b[0mn2\u001b[0m\u001b[0;34m\u001b[0m\u001b[0m\n\u001b[0m\u001b[1;32m      8\u001b[0m \u001b[0;32mprint\u001b[0m \u001b[0;34m\"result=\"\u001b[0m\u001b[0;34m,\u001b[0m\u001b[0mres\u001b[0m\u001b[0;34m\u001b[0m\u001b[0m\n\u001b[1;32m      9\u001b[0m \u001b[0;32mprint\u001b[0m \u001b[0;34m\"other statements in program\"\u001b[0m\u001b[0;34m\u001b[0m\u001b[0m\n",
      "\u001b[0;31mZeroDivisionError\u001b[0m: integer division or modulo by zero"
     ]
    }
   ],
   "source": [
    "n1=raw_input(\"Enter a numbe1:\")\n",
    "n2=raw_input(\"enter a number2:\")\n",
    "print \"before conversion: n1=%s, n2=%s\"%(n1,n2)\n",
    "n1=int(n1)\n",
    "n2=int(n2)\n",
    "print \"after conversion: n1=%s, n2=%s\"%(n1,n2)\n",
    "res=n1/n2\n",
    "print \"result=\",res\n",
    "print \"other statements in program\"\n",
    "print \"thank you.\""
   ]
  },
  {
   "cell_type": "code",
   "execution_count": 9,
   "metadata": {},
   "outputs": [
    {
     "name": "stdout",
     "output_type": "stream",
     "text": [
      "Enter a numbe1:12\n",
      "enter a number2:6\n",
      "before conversion: n1=12, n2=6\n",
      "after conversion: n1=12, n2=6\n",
      "result= 2\n",
      "other statements in program\n",
      "thank you.\n"
     ]
    }
   ],
   "source": [
    "try:\n",
    "    n1=raw_input(\"Enter a numbe1:\")\n",
    "    n2=raw_input(\"enter a number2:\")\n",
    "    print \"before conversion: n1=%s, n2=%s\"%(n1,n2)\n",
    "    n1=int(n1)\n",
    "    n2=int(n2)\n",
    "    print \"after conversion: n1=%s, n2=%s\"%(n1,n2)\n",
    "    res=n1/n2\n",
    "    print \"result=\",res\n",
    "    print \"other statements in program\"\n",
    "    print \"thank you.\"\n",
    "except:\n",
    "    print \"something went wrong\""
   ]
  },
  {
   "cell_type": "code",
   "execution_count": 10,
   "metadata": {},
   "outputs": [
    {
     "name": "stdout",
     "output_type": "stream",
     "text": [
      "Enter a numbe1:1.2\n",
      "enter a number2:30\n",
      "before conversion: n1=1.2, n2=30\n"
     ]
    },
    {
     "ename": "ValueError",
     "evalue": "invalid literal for int() with base 10: '1.2'",
     "output_type": "error",
     "traceback": [
      "\u001b[0;31m---------------------------------------------------------------------------\u001b[0m",
      "\u001b[0;31mValueError\u001b[0m                                Traceback (most recent call last)",
      "\u001b[0;32m<ipython-input-10-d06dc8facc9b>\u001b[0m in \u001b[0;36m<module>\u001b[0;34m()\u001b[0m\n\u001b[1;32m      2\u001b[0m \u001b[0mn2\u001b[0m\u001b[0;34m=\u001b[0m\u001b[0mraw_input\u001b[0m\u001b[0;34m(\u001b[0m\u001b[0;34m\"enter a number2:\"\u001b[0m\u001b[0;34m)\u001b[0m\u001b[0;34m\u001b[0m\u001b[0m\n\u001b[1;32m      3\u001b[0m \u001b[0;32mprint\u001b[0m \u001b[0;34m\"before conversion: n1=%s, n2=%s\"\u001b[0m\u001b[0;34m%\u001b[0m\u001b[0;34m(\u001b[0m\u001b[0mn1\u001b[0m\u001b[0;34m,\u001b[0m\u001b[0mn2\u001b[0m\u001b[0;34m)\u001b[0m\u001b[0;34m\u001b[0m\u001b[0m\n\u001b[0;32m----> 4\u001b[0;31m \u001b[0mn1\u001b[0m\u001b[0;34m=\u001b[0m\u001b[0mint\u001b[0m\u001b[0;34m(\u001b[0m\u001b[0mn1\u001b[0m\u001b[0;34m)\u001b[0m\u001b[0;34m\u001b[0m\u001b[0m\n\u001b[0m\u001b[1;32m      5\u001b[0m \u001b[0mn2\u001b[0m\u001b[0;34m=\u001b[0m\u001b[0mint\u001b[0m\u001b[0;34m(\u001b[0m\u001b[0mn2\u001b[0m\u001b[0;34m)\u001b[0m\u001b[0;34m\u001b[0m\u001b[0m\n\u001b[1;32m      6\u001b[0m \u001b[0;32mprint\u001b[0m \u001b[0;34m\"after conversion: n1=%s, n2=%s\"\u001b[0m\u001b[0;34m%\u001b[0m\u001b[0;34m(\u001b[0m\u001b[0mn1\u001b[0m\u001b[0;34m,\u001b[0m\u001b[0mn2\u001b[0m\u001b[0;34m)\u001b[0m\u001b[0;34m\u001b[0m\u001b[0m\n",
      "\u001b[0;31mValueError\u001b[0m: invalid literal for int() with base 10: '1.2'"
     ]
    }
   ],
   "source": [
    "n1=raw_input(\"Enter a numbe1:\")\n",
    "n2=raw_input(\"enter a number2:\")\n",
    "print \"before conversion: n1=%s, n2=%s\"%(n1,n2)\n",
    "n1=int(n1)\n",
    "n2=int(n2)\n",
    "print \"after conversion: n1=%s, n2=%s\"%(n1,n2)\n",
    "res=n1/n2\n",
    "print \"result=\",res\n",
    "print \"other statements in program\"\n",
    "print \"thank you.\""
   ]
  },
  {
   "cell_type": "code",
   "execution_count": 11,
   "metadata": {},
   "outputs": [
    {
     "name": "stdout",
     "output_type": "stream",
     "text": [
      "Enter a numbe1:12\n",
      "enter a number2:6\n",
      "before conversion: n1=12, n2=6\n",
      "after conversion: n1=12.0, n2=6.0\n",
      "result= 2.0\n",
      "other statements in program\n",
      "thank you.\n"
     ]
    }
   ],
   "source": [
    "n1=raw_input(\"Enter a numbe1:\")\n",
    "n2=raw_input(\"enter a number2:\")\n",
    "print \"before conversion: n1=%s, n2=%s\"%(n1,n2)\n",
    "n1=float(n1)\n",
    "n2=float(n2)\n",
    "print \"after conversion: n1=%s, n2=%s\"%(n1,n2)\n",
    "res=n1/n2\n",
    "print \"result=\",res\n",
    "print \"other statements in program\"\n",
    "print \"thank you.\""
   ]
  },
  {
   "cell_type": "code",
   "execution_count": 12,
   "metadata": {},
   "outputs": [
    {
     "name": "stdout",
     "output_type": "stream",
     "text": [
      "Enter a numbe1:1.2\n",
      "enter a number2:0.6\n",
      "before conversion: n1=1.2, n2=0.6\n",
      "after conversion: n1=1.2, n2=0.6\n",
      "result= 2.0\n",
      "other statements in program\n",
      "thank you.\n"
     ]
    }
   ],
   "source": [
    "n1=raw_input(\"Enter a numbe1:\")\n",
    "n2=raw_input(\"enter a number2:\")\n",
    "print \"before conversion: n1=%s, n2=%s\"%(n1,n2)\n",
    "n1=float(n1)\n",
    "n2=float(n2)\n",
    "print \"after conversion: n1=%s, n2=%s\"%(n1,n2)\n",
    "res=n1/n2\n",
    "print \"result=\",res\n",
    "print \"other statements in program\"\n",
    "print \"thank you.\""
   ]
  },
  {
   "cell_type": "code",
   "execution_count": 13,
   "metadata": {},
   "outputs": [
    {
     "name": "stdout",
     "output_type": "stream",
     "text": [
      "Enter a numbe1:12\n",
      "enter a number2:0\n",
      "before conversion: n1=12, n2=0\n",
      "after conversion: n1=12.0, n2=0.0\n"
     ]
    },
    {
     "ename": "ZeroDivisionError",
     "evalue": "float division by zero",
     "output_type": "error",
     "traceback": [
      "\u001b[0;31m---------------------------------------------------------------------------\u001b[0m",
      "\u001b[0;31mZeroDivisionError\u001b[0m                         Traceback (most recent call last)",
      "\u001b[0;32m<ipython-input-13-1f5823480647>\u001b[0m in \u001b[0;36m<module>\u001b[0;34m()\u001b[0m\n\u001b[1;32m      5\u001b[0m \u001b[0mn2\u001b[0m\u001b[0;34m=\u001b[0m\u001b[0mfloat\u001b[0m\u001b[0;34m(\u001b[0m\u001b[0mn2\u001b[0m\u001b[0;34m)\u001b[0m\u001b[0;34m\u001b[0m\u001b[0m\n\u001b[1;32m      6\u001b[0m \u001b[0;32mprint\u001b[0m \u001b[0;34m\"after conversion: n1=%s, n2=%s\"\u001b[0m\u001b[0;34m%\u001b[0m\u001b[0;34m(\u001b[0m\u001b[0mn1\u001b[0m\u001b[0;34m,\u001b[0m\u001b[0mn2\u001b[0m\u001b[0;34m)\u001b[0m\u001b[0;34m\u001b[0m\u001b[0m\n\u001b[0;32m----> 7\u001b[0;31m \u001b[0mres\u001b[0m\u001b[0;34m=\u001b[0m\u001b[0mn1\u001b[0m\u001b[0;34m/\u001b[0m\u001b[0mn2\u001b[0m\u001b[0;34m\u001b[0m\u001b[0m\n\u001b[0m\u001b[1;32m      8\u001b[0m \u001b[0;32mprint\u001b[0m \u001b[0;34m\"result=\"\u001b[0m\u001b[0;34m,\u001b[0m\u001b[0mres\u001b[0m\u001b[0;34m\u001b[0m\u001b[0m\n\u001b[1;32m      9\u001b[0m \u001b[0;32mprint\u001b[0m \u001b[0;34m\"other statements in program\"\u001b[0m\u001b[0;34m\u001b[0m\u001b[0m\n",
      "\u001b[0;31mZeroDivisionError\u001b[0m: float division by zero"
     ]
    }
   ],
   "source": [
    "n1=raw_input(\"Enter a numbe1:\")\n",
    "n2=raw_input(\"enter a number2:\")\n",
    "print \"before conversion: n1=%s, n2=%s\"%(n1,n2)\n",
    "n1=float(n1)\n",
    "n2=float(n2)\n",
    "print \"after conversion: n1=%s, n2=%s\"%(n1,n2)\n",
    "res=n1/n2\n",
    "print \"result=\",res\n",
    "print \"other statements in program\"\n",
    "print \"thank you.\""
   ]
  },
  {
   "cell_type": "code",
   "execution_count": 14,
   "metadata": {},
   "outputs": [
    {
     "name": "stdout",
     "output_type": "stream",
     "text": [
      "Enter a numbe1:12\n",
      "enter a number2:werty\n",
      "before conversion: n1=12, n2=werty\n"
     ]
    },
    {
     "ename": "ValueError",
     "evalue": "could not convert string to float: werty",
     "output_type": "error",
     "traceback": [
      "\u001b[0;31m---------------------------------------------------------------------------\u001b[0m",
      "\u001b[0;31mValueError\u001b[0m                                Traceback (most recent call last)",
      "\u001b[0;32m<ipython-input-14-1f5823480647>\u001b[0m in \u001b[0;36m<module>\u001b[0;34m()\u001b[0m\n\u001b[1;32m      3\u001b[0m \u001b[0;32mprint\u001b[0m \u001b[0;34m\"before conversion: n1=%s, n2=%s\"\u001b[0m\u001b[0;34m%\u001b[0m\u001b[0;34m(\u001b[0m\u001b[0mn1\u001b[0m\u001b[0;34m,\u001b[0m\u001b[0mn2\u001b[0m\u001b[0;34m)\u001b[0m\u001b[0;34m\u001b[0m\u001b[0m\n\u001b[1;32m      4\u001b[0m \u001b[0mn1\u001b[0m\u001b[0;34m=\u001b[0m\u001b[0mfloat\u001b[0m\u001b[0;34m(\u001b[0m\u001b[0mn1\u001b[0m\u001b[0;34m)\u001b[0m\u001b[0;34m\u001b[0m\u001b[0m\n\u001b[0;32m----> 5\u001b[0;31m \u001b[0mn2\u001b[0m\u001b[0;34m=\u001b[0m\u001b[0mfloat\u001b[0m\u001b[0;34m(\u001b[0m\u001b[0mn2\u001b[0m\u001b[0;34m)\u001b[0m\u001b[0;34m\u001b[0m\u001b[0m\n\u001b[0m\u001b[1;32m      6\u001b[0m \u001b[0;32mprint\u001b[0m \u001b[0;34m\"after conversion: n1=%s, n2=%s\"\u001b[0m\u001b[0;34m%\u001b[0m\u001b[0;34m(\u001b[0m\u001b[0mn1\u001b[0m\u001b[0;34m,\u001b[0m\u001b[0mn2\u001b[0m\u001b[0;34m)\u001b[0m\u001b[0;34m\u001b[0m\u001b[0m\n\u001b[1;32m      7\u001b[0m \u001b[0mres\u001b[0m\u001b[0;34m=\u001b[0m\u001b[0mn1\u001b[0m\u001b[0;34m/\u001b[0m\u001b[0mn2\u001b[0m\u001b[0;34m\u001b[0m\u001b[0m\n",
      "\u001b[0;31mValueError\u001b[0m: could not convert string to float: werty"
     ]
    }
   ],
   "source": [
    "n1=raw_input(\"Enter a numbe1:\")\n",
    "n2=raw_input(\"enter a number2:\")\n",
    "print \"before conversion: n1=%s, n2=%s\"%(n1,n2)\n",
    "n1=float(n1)\n",
    "n2=float(n2)\n",
    "print \"after conversion: n1=%s, n2=%s\"%(n1,n2)\n",
    "res=n1/n2\n",
    "print \"result=\",res\n",
    "print \"other statements in program\"\n",
    "print \"thank you.\""
   ]
  },
  {
   "cell_type": "code",
   "execution_count": 15,
   "metadata": {},
   "outputs": [
    {
     "name": "stdout",
     "output_type": "stream",
     "text": [
      "Enter a numbe1:12\n",
      "enter a number2:6\n",
      "before conversion: n1=12, n2=6\n",
      "after conversion: n1=12.0, n2=6.0\n",
      "result= 2.0\n",
      "other statements in program\n",
      "thank you.\n"
     ]
    }
   ],
   "source": [
    "try:\n",
    "    n1=raw_input(\"Enter a numbe1:\")\n",
    "    n2=raw_input(\"enter a number2:\")\n",
    "    print \"before conversion: n1=%s, n2=%s\"%(n1,n2)\n",
    "    n1=float(n1)\n",
    "    n2=float(n2)\n",
    "    print \"after conversion: n1=%s, n2=%s\"%(n1,n2)\n",
    "    res=n1/n2\n",
    "    print \"result=\",res\n",
    "    print \"other statements in program\"\n",
    "    print \"thank you.\"\n",
    "except:\n",
    "    print \"something went wrong\""
   ]
  },
  {
   "cell_type": "code",
   "execution_count": 16,
   "metadata": {},
   "outputs": [
    {
     "name": "stdout",
     "output_type": "stream",
     "text": [
      "Enter a numbe1:12\n",
      "enter a number2:0\n",
      "before conversion: n1=12, n2=0\n",
      "after conversion: n1=12.0, n2=0.0\n",
      "something went wrong\n"
     ]
    }
   ],
   "source": [
    "try:\n",
    "    n1=raw_input(\"Enter a numbe1:\")\n",
    "    n2=raw_input(\"enter a number2:\")\n",
    "    print \"before conversion: n1=%s, n2=%s\"%(n1,n2)\n",
    "    n1=float(n1)\n",
    "    n2=float(n2)\n",
    "    print \"after conversion: n1=%s, n2=%s\"%(n1,n2)\n",
    "    res=n1/n2\n",
    "    print \"result=\",res\n",
    "    print \"other statements in program\"\n",
    "    print \"thank you.\"\n",
    "except:\n",
    "    print \"something went wrong\""
   ]
  },
  {
   "cell_type": "code",
   "execution_count": 17,
   "metadata": {},
   "outputs": [
    {
     "name": "stdout",
     "output_type": "stream",
     "text": [
      "Enter a numbe1:abc\n",
      "enter a number2:qwe\n",
      "before conversion: n1=abc, n2=qwe\n",
      "something went wrong\n"
     ]
    }
   ],
   "source": [
    "try:\n",
    "    n1=raw_input(\"Enter a numbe1:\")\n",
    "    n2=raw_input(\"enter a number2:\")\n",
    "    print \"before conversion: n1=%s, n2=%s\"%(n1,n2)\n",
    "    n1=float(n1)\n",
    "    n2=float(n2)\n",
    "    print \"after conversion: n1=%s, n2=%s\"%(n1,n2)\n",
    "    res=n1/n2\n",
    "    print \"result=\",res\n",
    "    print \"other statements in program\"\n",
    "    print \"thank you.\"\n",
    "except:\n",
    "    print \"something went wrong\""
   ]
  },
  {
   "cell_type": "code",
   "execution_count": 18,
   "metadata": {},
   "outputs": [
    {
     "name": "stdout",
     "output_type": "stream",
     "text": [
      "Enter a numbe1:12\n",
      "enter a number2:6\n",
      "before conversion: n1=12, n2=6\n",
      "after conversion: n1=12.0, n2=6.0\n",
      "result= 2.0\n",
      "other statements in program\n",
      "thank you.\n"
     ]
    }
   ],
   "source": [
    "n1=raw_input(\"Enter a numbe1:\")\n",
    "n2=raw_input(\"enter a number2:\")\n",
    "print \"before conversion: n1=%s, n2=%s\"%(n1,n2)\n",
    "try:\n",
    "    n1=float(n1)\n",
    "    n2=float(n2)\n",
    "    print \"after conversion: n1=%s, n2=%s\"%(n1,n2)\n",
    "    res=n1/n2\n",
    "    print \"result=\",res\n",
    "except:\n",
    "    print \"something went wrong\"\n",
    "print \"other statements in program\"\n",
    "print \"thank you.\""
   ]
  },
  {
   "cell_type": "code",
   "execution_count": 19,
   "metadata": {},
   "outputs": [
    {
     "name": "stdout",
     "output_type": "stream",
     "text": [
      "Enter a numbe1:12\n",
      "enter a number2:0\n",
      "before conversion: n1=12, n2=0\n",
      "after conversion: n1=12.0, n2=0.0\n",
      "something went wrong\n",
      "other statements in program\n",
      "thank you.\n"
     ]
    }
   ],
   "source": [
    "n1=raw_input(\"Enter a numbe1:\")\n",
    "n2=raw_input(\"enter a number2:\")\n",
    "print \"before conversion: n1=%s, n2=%s\"%(n1,n2)\n",
    "try:\n",
    "    n1=float(n1)\n",
    "    n2=float(n2)\n",
    "    print \"after conversion: n1=%s, n2=%s\"%(n1,n2)\n",
    "    res=n1/n2\n",
    "    print \"result=\",res\n",
    "except:\n",
    "    print \"something went wrong\"\n",
    "print \"other statements in program\"\n",
    "print \"thank you.\""
   ]
  },
  {
   "cell_type": "code",
   "execution_count": 20,
   "metadata": {},
   "outputs": [
    {
     "name": "stdout",
     "output_type": "stream",
     "text": [
      "Enter a numbe1:abcd\n",
      "enter a number2:wert\n",
      "before conversion: n1=abcd, n2=wert\n",
      "something went wrong\n",
      "other statements in program\n",
      "thank you.\n"
     ]
    }
   ],
   "source": [
    "n1=raw_input(\"Enter a numbe1:\")\n",
    "n2=raw_input(\"enter a number2:\")\n",
    "print \"before conversion: n1=%s, n2=%s\"%(n1,n2)\n",
    "try:\n",
    "    n1=float(n1)\n",
    "    n2=float(n2)\n",
    "    print \"after conversion: n1=%s, n2=%s\"%(n1,n2)\n",
    "    res=n1/n2\n",
    "    print \"result=\",res\n",
    "except:\n",
    "    print \"something went wrong\"\n",
    "print \"other statements in program\"\n",
    "print \"thank you.\""
   ]
  },
  {
   "cell_type": "code",
   "execution_count": 2,
   "metadata": {},
   "outputs": [
    {
     "name": "stdout",
     "output_type": "stream",
     "text": [
      "0\n"
     ]
    }
   ],
   "source": [
    "# check whether the given substring is there in the actual string or not.\n",
    "# if is there pritn index of the sub string (User string index method)\n",
    "act = \"python is a pure object oriented programing langjage\"\n",
    "print act.index(\"python\")"
   ]
  },
  {
   "cell_type": "code",
   "execution_count": 3,
   "metadata": {},
   "outputs": [
    {
     "ename": "ValueError",
     "evalue": "substring not found",
     "output_type": "error",
     "traceback": [
      "\u001b[0;31m---------------------------------------------------------------------------\u001b[0m",
      "\u001b[0;31mValueError\u001b[0m                                Traceback (most recent call last)",
      "\u001b[0;32m<ipython-input-3-e2911606b914>\u001b[0m in \u001b[0;36m<module>\u001b[0;34m()\u001b[0m\n\u001b[1;32m      2\u001b[0m \u001b[0;31m# if is there pritn index of the sub string (User string index method)\u001b[0m\u001b[0;34m\u001b[0m\u001b[0;34m\u001b[0m\u001b[0m\n\u001b[1;32m      3\u001b[0m \u001b[0mact\u001b[0m \u001b[0;34m=\u001b[0m \u001b[0;34m\"python is a pure object oriented programing langjage\"\u001b[0m\u001b[0;34m\u001b[0m\u001b[0m\n\u001b[0;32m----> 4\u001b[0;31m \u001b[0;32mprint\u001b[0m \u001b[0mact\u001b[0m\u001b[0;34m.\u001b[0m\u001b[0mindex\u001b[0m\u001b[0;34m(\u001b[0m\u001b[0;34m\"java\"\u001b[0m\u001b[0;34m)\u001b[0m\u001b[0;34m\u001b[0m\u001b[0m\n\u001b[0m",
      "\u001b[0;31mValueError\u001b[0m: substring not found"
     ]
    }
   ],
   "source": [
    "# check whether the given substring is there in the actual string or not.\n",
    "# if is there pritn index of the sub string (User string index method)\n",
    "act = \"python is a pure object oriented programing langjage\"\n",
    "print act.index(\"java\")"
   ]
  },
  {
   "cell_type": "code",
   "execution_count": 5,
   "metadata": {},
   "outputs": [
    {
     "name": "stdout",
     "output_type": "stream",
     "text": [
      "Enter sub:python\n",
      "Given string found in: 0\n"
     ]
    }
   ],
   "source": [
    "act = \"python is a pure object oriented programing langjage\"\n",
    "act_u = act.upper()\n",
    "sub=raw_input(\"Enter sub:\")\n",
    "sub_u=sub.upper()\n",
    "try:\n",
    "    index = act_u.index(sub_u)\n",
    "    print \"Given string found in: %s\"%index\n",
    "except:\n",
    "    print \"sub :%s is not find\"%sub"
   ]
  },
  {
   "cell_type": "code",
   "execution_count": 6,
   "metadata": {},
   "outputs": [
    {
     "name": "stdout",
     "output_type": "stream",
     "text": [
      "Enter sub:PyThON\n",
      "Given string found in: 0\n"
     ]
    }
   ],
   "source": [
    "act = \"python is a pure object oriented programing langjage\"\n",
    "act_u = act.upper()\n",
    "sub=raw_input(\"Enter sub:\")\n",
    "sub_u=sub.upper()\n",
    "try:\n",
    "    index = act_u.index(sub_u)\n",
    "    print \"Given string found in: %s\"%index\n",
    "except:\n",
    "    print \"sub :%s is not find\"%sub"
   ]
  },
  {
   "cell_type": "code",
   "execution_count": 7,
   "metadata": {},
   "outputs": [
    {
     "name": "stdout",
     "output_type": "stream",
     "text": [
      "Enter a numbe1:12\n",
      "enter a number2:6\n",
      "before conversion: n1=12, n2=6\n",
      "after conversion: n1=12.0, n2=6.0\n",
      "result= 2.0\n",
      "other statements in program\n",
      "thank you.\n"
     ]
    }
   ],
   "source": [
    "n1=raw_input(\"Enter a numbe1:\")\n",
    "n2=raw_input(\"enter a number2:\")\n",
    "print \"before conversion: n1=%s, n2=%s\"%(n1,n2)\n",
    "try:\n",
    "    n1=float(n1)\n",
    "    n2=float(n2)\n",
    "    print \"after conversion: n1=%s, n2=%s\"%(n1,n2)\n",
    "    res=n1/n2\n",
    "    print \"result=\",res\n",
    "except Exception as err:\n",
    "    print err\n",
    "print \"other statements in program\"\n",
    "print \"thank you.\""
   ]
  },
  {
   "cell_type": "code",
   "execution_count": 8,
   "metadata": {},
   "outputs": [
    {
     "name": "stdout",
     "output_type": "stream",
     "text": [
      "Enter a numbe1:12\n",
      "enter a number2:0\n",
      "before conversion: n1=12, n2=0\n",
      "after conversion: n1=12.0, n2=0.0\n",
      "float division by zero\n",
      "other statements in program\n",
      "thank you.\n"
     ]
    }
   ],
   "source": [
    "n1=raw_input(\"Enter a numbe1:\")\n",
    "n2=raw_input(\"enter a number2:\")\n",
    "print \"before conversion: n1=%s, n2=%s\"%(n1,n2)\n",
    "try:\n",
    "    n1=float(n1)\n",
    "    n2=float(n2)\n",
    "    print \"after conversion: n1=%s, n2=%s\"%(n1,n2)\n",
    "    res=n1/n2\n",
    "    print \"result=\",res\n",
    "except Exception as err:\n",
    "    print err\n",
    "print \"other statements in program\"\n",
    "print \"thank you.\""
   ]
  },
  {
   "cell_type": "code",
   "execution_count": 9,
   "metadata": {},
   "outputs": [
    {
     "name": "stdout",
     "output_type": "stream",
     "text": [
      "Enter a numbe1:werwe\n",
      "enter a number2:wer\n",
      "before conversion: n1=werwe, n2=wer\n",
      "could not convert string to float: werwe\n",
      "other statements in program\n",
      "thank you.\n"
     ]
    }
   ],
   "source": [
    "n1=raw_input(\"Enter a numbe1:\")\n",
    "n2=raw_input(\"enter a number2:\")\n",
    "print \"before conversion: n1=%s, n2=%s\"%(n1,n2)\n",
    "try:\n",
    "    n1=float(n1)\n",
    "    n2=float(n2)\n",
    "    print \"after conversion: n1=%s, n2=%s\"%(n1,n2)\n",
    "    res=n1/n2\n",
    "    print \"result=\",res\n",
    "except Exception as err:\n",
    "    print err\n",
    "print \"other statements in program\"\n",
    "print \"thank you.\""
   ]
  },
  {
   "cell_type": "code",
   "execution_count": 10,
   "metadata": {},
   "outputs": [
    {
     "name": "stdout",
     "output_type": "stream",
     "text": [
      "Enter a numbe1:12\n",
      "enter a number2:6\n",
      "before conversion: n1=12, n2=6\n",
      "after conversion: n1=12.0, n2=6.0\n",
      "result= 2.0\n",
      "other statements in program\n",
      "thank you.\n"
     ]
    }
   ],
   "source": [
    "n1=raw_input(\"Enter a numbe1:\")\n",
    "n2=raw_input(\"enter a number2:\")\n",
    "print \"before conversion: n1=%s, n2=%s\"%(n1,n2)\n",
    "try:\n",
    "    n1=float(n1)\n",
    "    n2=float(n2)\n",
    "    print \"after conversion: n1=%s, n2=%s\"%(n1,n2)\n",
    "    res=n1/n2\n",
    "    print \"result=\",res\n",
    "except ValueError as err:\n",
    "    print \"expecting digits[0-9] but found: %s, %s\"%(n1,n2)\n",
    "except Exception as err:\n",
    "    print err\n",
    "print \"other statements in program\"\n",
    "print \"thank you.\""
   ]
  },
  {
   "cell_type": "code",
   "execution_count": 12,
   "metadata": {},
   "outputs": [
    {
     "name": "stdout",
     "output_type": "stream",
     "text": [
      "Enter a numbe1:12\n",
      "enter a number2:qweqw\n",
      "before conversion: n1=12, n2=qweqw\n",
      "expecting digits[0-9] but found: 12.0, qweqw\n",
      "other statements in program\n",
      "thank you.\n"
     ]
    }
   ],
   "source": [
    "n1=raw_input(\"Enter a numbe1:\")\n",
    "n2=raw_input(\"enter a number2:\")\n",
    "print \"before conversion: n1=%s, n2=%s\"%(n1,n2)\n",
    "try:\n",
    "    n1=float(n1)\n",
    "    n2=float(n2)\n",
    "    print \"after conversion: n1=%s, n2=%s\"%(n1,n2)\n",
    "    res=n1/n2\n",
    "    print \"result=\",res\n",
    "except ValueError as err:\n",
    "    print \"expecting digits[0-9] but found: %s, %s\"%(n1,n2)\n",
    "except Exception as err:\n",
    "    print \"generic exception\"\n",
    "    print err\n",
    "print \"other statements in program\"\n",
    "print \"thank you.\""
   ]
  },
  {
   "cell_type": "code",
   "execution_count": 13,
   "metadata": {},
   "outputs": [
    {
     "name": "stdout",
     "output_type": "stream",
     "text": [
      "Enter a numbe1:12\n",
      "enter a number2:0\n",
      "before conversion: n1=12, n2=0\n",
      "after conversion: n1=12.0, n2=0.0\n",
      "generic exception\n",
      "float division by zero\n",
      "other statements in program\n",
      "thank you.\n"
     ]
    }
   ],
   "source": [
    "n1=raw_input(\"Enter a numbe1:\")\n",
    "n2=raw_input(\"enter a number2:\")\n",
    "print \"before conversion: n1=%s, n2=%s\"%(n1,n2)\n",
    "try:\n",
    "    n1=float(n1)\n",
    "    n2=float(n2)\n",
    "    print \"after conversion: n1=%s, n2=%s\"%(n1,n2)\n",
    "    res=n1/n2\n",
    "    print \"result=\",res\n",
    "except ValueError as err:\n",
    "    print \"expecting digits[0-9] but found: %s, %s\"%(n1,n2)\n",
    "except Exception as err:\n",
    "    print \"generic exception\"\n",
    "    print err\n",
    "print \"other statements in program\"\n",
    "print \"thank you.\""
   ]
  },
  {
   "cell_type": "code",
   "execution_count": 14,
   "metadata": {},
   "outputs": [
    {
     "name": "stdout",
     "output_type": "stream",
     "text": [
      "Enter a numbe1:12\n",
      "enter a number2:6\n",
      "before conversion: n1=12, n2=6\n",
      "after conversion: n1=12.0, n2=6.0\n",
      "result= 2.0\n",
      "other statements in program\n",
      "thank you.\n"
     ]
    }
   ],
   "source": [
    "n1=raw_input(\"Enter a numbe1:\")\n",
    "n2=raw_input(\"enter a number2:\")\n",
    "print \"before conversion: n1=%s, n2=%s\"%(n1,n2)\n",
    "try:\n",
    "    n1=float(n1)\n",
    "    n2=float(n2)\n",
    "    print \"after conversion: n1=%s, n2=%s\"%(n1,n2)\n",
    "    res=n1/n2\n",
    "    print \"result=\",res\n",
    "except ValueError as err:\n",
    "    print \"expecting digits[0-9] but found: %s, %s\"%(n1,n2)\n",
    "except ZeroDivisionError as err:\n",
    "    print \"expecting n2>0\"\n",
    "except Exception as err:\n",
    "    print \"generic exception\"\n",
    "    print err\n",
    "print \"other statements in program\"\n",
    "print \"thank you.\""
   ]
  },
  {
   "cell_type": "code",
   "execution_count": 15,
   "metadata": {},
   "outputs": [
    {
     "name": "stdout",
     "output_type": "stream",
     "text": [
      "Enter a numbe1:12\n",
      "enter a number2:0\n",
      "before conversion: n1=12, n2=0\n",
      "after conversion: n1=12.0, n2=0.0\n",
      "expecting n2>0\n",
      "other statements in program\n",
      "thank you.\n"
     ]
    }
   ],
   "source": [
    "n1=raw_input(\"Enter a numbe1:\")\n",
    "n2=raw_input(\"enter a number2:\")\n",
    "print \"before conversion: n1=%s, n2=%s\"%(n1,n2)\n",
    "try:\n",
    "    n1=float(n1)\n",
    "    n2=float(n2)\n",
    "    print \"after conversion: n1=%s, n2=%s\"%(n1,n2)\n",
    "    res=n1/n2\n",
    "    print \"result=\",res\n",
    "except ValueError as err:\n",
    "    print \"expecting digits[0-9] but found: %s, %s\"%(n1,n2)\n",
    "except ZeroDivisionError as err:\n",
    "    print \"expecting n2>0\"\n",
    "except Exception as err:\n",
    "    print \"generic exception\"\n",
    "    print err\n",
    "print \"other statements in program\"\n",
    "print \"thank you.\""
   ]
  },
  {
   "cell_type": "code",
   "execution_count": 16,
   "metadata": {},
   "outputs": [
    {
     "name": "stdout",
     "output_type": "stream",
     "text": [
      "Enter a numbe1:12\n",
      "enter a number2:0\n",
      "before conversion: n1=12, n2=0\n",
      "after conversion: n1=12.0, n2=0.0\n",
      "generic exception\n",
      "float division by zero\n",
      "other statements in program\n",
      "thank you.\n"
     ]
    }
   ],
   "source": [
    "n1=raw_input(\"Enter a numbe1:\")\n",
    "n2=raw_input(\"enter a number2:\")\n",
    "print \"before conversion: n1=%s, n2=%s\"%(n1,n2)\n",
    "try:\n",
    "    n1=float(n1)\n",
    "    n2=float(n2)\n",
    "    print \"after conversion: n1=%s, n2=%s\"%(n1,n2)\n",
    "    res=n1/n2\n",
    "    print \"result=\",res\n",
    "except Exception as err:\n",
    "    print \"generic exception\"\n",
    "    print err\n",
    "except ValueError as err:\n",
    "    print \"expecting digits[0-9] but found: %s, %s\"%(n1,n2)\n",
    "except ZeroDivisionError as err:\n",
    "    print \"expecting n2>0\"\n",
    "\n",
    "print \"other statements in program\"\n",
    "print \"thank you.\""
   ]
  },
  {
   "cell_type": "code",
   "execution_count": 17,
   "metadata": {},
   "outputs": [
    {
     "ename": "TypeError",
     "evalue": "unsupported operand type(s) for /: 'str' and 'str'",
     "output_type": "error",
     "traceback": [
      "\u001b[0;31m---------------------------------------------------------------------------\u001b[0m",
      "\u001b[0;31mTypeError\u001b[0m                                 Traceback (most recent call last)",
      "\u001b[0;32m<ipython-input-17-8d306633c32e>\u001b[0m in \u001b[0;36m<module>\u001b[0;34m()\u001b[0m\n\u001b[0;32m----> 1\u001b[0;31m \u001b[0;34m\"qweqw\"\u001b[0m\u001b[0;34m/\u001b[0m\u001b[0;34m\"asdfasd\"\u001b[0m\u001b[0;34m\u001b[0m\u001b[0m\n\u001b[0m",
      "\u001b[0;31mTypeError\u001b[0m: unsupported operand type(s) for /: 'str' and 'str'"
     ]
    }
   ],
   "source": [
    "\"qweqw\"/\"asdfasd\""
   ]
  },
  {
   "cell_type": "code",
   "execution_count": 18,
   "metadata": {},
   "outputs": [
    {
     "ename": "ZeroDivisionError",
     "evalue": "integer division or modulo by zero",
     "output_type": "error",
     "traceback": [
      "\u001b[0;31m---------------------------------------------------------------------------\u001b[0m",
      "\u001b[0;31mZeroDivisionError\u001b[0m                         Traceback (most recent call last)",
      "\u001b[0;32m<ipython-input-18-ee47d2b50375>\u001b[0m in \u001b[0;36m<module>\u001b[0;34m()\u001b[0m\n\u001b[0;32m----> 1\u001b[0;31m \u001b[0;36m12\u001b[0m\u001b[0;34m/\u001b[0m\u001b[0;36m0\u001b[0m\u001b[0;34m\u001b[0m\u001b[0m\n\u001b[0m",
      "\u001b[0;31mZeroDivisionError\u001b[0m: integer division or modulo by zero"
     ]
    }
   ],
   "source": [
    "12/0"
   ]
  },
  {
   "cell_type": "code",
   "execution_count": 19,
   "metadata": {},
   "outputs": [
    {
     "ename": "TypeError",
     "evalue": "unsupported operand type(s) for /: 'str' and 'int'",
     "output_type": "error",
     "traceback": [
      "\u001b[0;31m---------------------------------------------------------------------------\u001b[0m",
      "\u001b[0;31mTypeError\u001b[0m                                 Traceback (most recent call last)",
      "\u001b[0;32m<ipython-input-19-c1eddfefc49b>\u001b[0m in \u001b[0;36m<module>\u001b[0;34m()\u001b[0m\n\u001b[0;32m----> 1\u001b[0;31m \u001b[0;34m\"sddfdsf\"\u001b[0m\u001b[0;34m/\u001b[0m\u001b[0;36m0\u001b[0m\u001b[0;34m\u001b[0m\u001b[0m\n\u001b[0m",
      "\u001b[0;31mTypeError\u001b[0m: unsupported operand type(s) for /: 'str' and 'int'"
     ]
    }
   ],
   "source": [
    "\"sddfdsf\"/0"
   ]
  },
  {
   "cell_type": "code",
   "execution_count": 20,
   "metadata": {},
   "outputs": [
    {
     "ename": "ZeroDivisionError",
     "evalue": "integer division or modulo by zero",
     "output_type": "error",
     "traceback": [
      "\u001b[0;31m---------------------------------------------------------------------------\u001b[0m",
      "\u001b[0;31mZeroDivisionError\u001b[0m                         Traceback (most recent call last)",
      "\u001b[0;32m<ipython-input-20-ee47d2b50375>\u001b[0m in \u001b[0;36m<module>\u001b[0;34m()\u001b[0m\n\u001b[0;32m----> 1\u001b[0;31m \u001b[0;36m12\u001b[0m\u001b[0;34m/\u001b[0m\u001b[0;36m0\u001b[0m\u001b[0;34m\u001b[0m\u001b[0m\n\u001b[0m",
      "\u001b[0;31mZeroDivisionError\u001b[0m: integer division or modulo by zero"
     ]
    }
   ],
   "source": [
    "12/0"
   ]
  },
  {
   "cell_type": "code",
   "execution_count": 21,
   "metadata": {},
   "outputs": [
    {
     "ename": "TypeError",
     "evalue": "unsupported operand type(s) for /: 'int' and 'str'",
     "output_type": "error",
     "traceback": [
      "\u001b[0;31m---------------------------------------------------------------------------\u001b[0m",
      "\u001b[0;31mTypeError\u001b[0m                                 Traceback (most recent call last)",
      "\u001b[0;32m<ipython-input-21-d9b1d62be98c>\u001b[0m in \u001b[0;36m<module>\u001b[0;34m()\u001b[0m\n\u001b[0;32m----> 1\u001b[0;31m \u001b[0;36m12\u001b[0m\u001b[0;34m/\u001b[0m\u001b[0;34m\"0\"\u001b[0m\u001b[0;34m\u001b[0m\u001b[0m\n\u001b[0m",
      "\u001b[0;31mTypeError\u001b[0m: unsupported operand type(s) for /: 'int' and 'str'"
     ]
    }
   ],
   "source": [
    "12/\"0\""
   ]
  },
  {
   "cell_type": "code",
   "execution_count": 22,
   "metadata": {},
   "outputs": [
    {
     "name": "stdout",
     "output_type": "stream",
     "text": [
      "try\n"
     ]
    }
   ],
   "source": [
    "try:\n",
    "    print \"try\"\n",
    "except:\n",
    "    print 1/0"
   ]
  },
  {
   "cell_type": "code",
   "execution_count": null,
   "metadata": {
    "collapsed": true
   },
   "outputs": [],
   "source": [
    "try:\n",
    "    print \"try\"\n",
    "    print \"werwe\"/\"sdfd\"\n",
    "except:\n",
    "    print 1/0\n",
    "print \"thank you.\""
   ]
  },
  {
   "cell_type": "code",
   "execution_count": 23,
   "metadata": {},
   "outputs": [
    {
     "ename": "ZeroDivisionError",
     "evalue": "integer division or modulo by zero",
     "output_type": "error",
     "traceback": [
      "\u001b[0;31m---------------------------------------------------------------------------\u001b[0m",
      "\u001b[0;31mZeroDivisionError\u001b[0m                         Traceback (most recent call last)",
      "\u001b[0;32m<ipython-input-23-e19d6e6ac7e1>\u001b[0m in \u001b[0;36m<module>\u001b[0;34m()\u001b[0m\n\u001b[0;32m----> 1\u001b[0;31m \u001b[0;32mprint\u001b[0m \u001b[0;36m1\u001b[0m\u001b[0;34m/\u001b[0m\u001b[0;36m0\u001b[0m\u001b[0;34m\u001b[0m\u001b[0m\n\u001b[0m",
      "\u001b[0;31mZeroDivisionError\u001b[0m: integer division or modulo by zero"
     ]
    }
   ],
   "source": [
    "print 1/0"
   ]
  },
  {
   "cell_type": "code",
   "execution_count": 24,
   "metadata": {},
   "outputs": [
    {
     "name": "stdout",
     "output_type": "stream",
     "text": [
      "try\n"
     ]
    },
    {
     "ename": "ZeroDivisionError",
     "evalue": "integer division or modulo by zero",
     "output_type": "error",
     "traceback": [
      "\u001b[0;31m---------------------------------------------------------------------------\u001b[0m",
      "\u001b[0;31mZeroDivisionError\u001b[0m                         Traceback (most recent call last)",
      "\u001b[0;32m<ipython-input-24-6bfb0ca6fd5f>\u001b[0m in \u001b[0;36m<module>\u001b[0;34m()\u001b[0m\n\u001b[1;32m      3\u001b[0m     \u001b[0;32mprint\u001b[0m \u001b[0;34m\"werwe\"\u001b[0m\u001b[0;34m/\u001b[0m\u001b[0;34m\"sdfd\"\u001b[0m\u001b[0;34m\u001b[0m\u001b[0m\n\u001b[1;32m      4\u001b[0m \u001b[0;32mexcept\u001b[0m\u001b[0;34m:\u001b[0m\u001b[0;34m\u001b[0m\u001b[0m\n\u001b[0;32m----> 5\u001b[0;31m     \u001b[0;32mprint\u001b[0m \u001b[0;36m1\u001b[0m\u001b[0;34m/\u001b[0m\u001b[0;36m0\u001b[0m\u001b[0;34m\u001b[0m\u001b[0m\n\u001b[0m\u001b[1;32m      6\u001b[0m \u001b[0;32mprint\u001b[0m \u001b[0;34m\"thank you.\"\u001b[0m\u001b[0;34m\u001b[0m\u001b[0m\n",
      "\u001b[0;31mZeroDivisionError\u001b[0m: integer division or modulo by zero"
     ]
    }
   ],
   "source": [
    "try:\n",
    "    print \"try\"\n",
    "    print \"werwe\"/\"sdfd\"\n",
    "except:\n",
    "    print 1/0\n",
    "print \"thank you.\""
   ]
  },
  {
   "cell_type": "code",
   "execution_count": 25,
   "metadata": {},
   "outputs": [
    {
     "ename": "SyntaxError",
     "evalue": "default 'except:' must be last (<ipython-input-25-4e4d3b23f3d9>, line 3)",
     "output_type": "error",
     "traceback": [
      "\u001b[0;36m  File \u001b[0;32m\"<ipython-input-25-4e4d3b23f3d9>\"\u001b[0;36m, line \u001b[0;32m3\u001b[0m\n\u001b[0;31m    print \"werwe\"/\"sdfd\"\u001b[0m\n\u001b[0;31mSyntaxError\u001b[0m\u001b[0;31m:\u001b[0m default 'except:' must be last\n"
     ]
    }
   ],
   "source": [
    "try:\n",
    "    print \"try\"\n",
    "    print \"werwe\"/\"sdfd\"\n",
    "except:\n",
    "    print 1/0\n",
    "except ZeroDivisionError as err:\n",
    "    print \"geeric exception\"\n",
    "print \"thank you.\""
   ]
  },
  {
   "cell_type": "code",
   "execution_count": 26,
   "metadata": {},
   "outputs": [
    {
     "name": "stdout",
     "output_type": "stream",
     "text": [
      "try\n"
     ]
    },
    {
     "ename": "ZeroDivisionError",
     "evalue": "integer division or modulo by zero",
     "output_type": "error",
     "traceback": [
      "\u001b[0;31m---------------------------------------------------------------------------\u001b[0m",
      "\u001b[0;31mZeroDivisionError\u001b[0m                         Traceback (most recent call last)",
      "\u001b[0;32m<ipython-input-26-812330489fba>\u001b[0m in \u001b[0;36m<module>\u001b[0;34m()\u001b[0m\n\u001b[1;32m      5\u001b[0m     \u001b[0;32mprint\u001b[0m \u001b[0;34m\"geeric exception\"\u001b[0m\u001b[0;34m\u001b[0m\u001b[0m\n\u001b[1;32m      6\u001b[0m \u001b[0;32mexcept\u001b[0m\u001b[0;34m:\u001b[0m\u001b[0;34m\u001b[0m\u001b[0m\n\u001b[0;32m----> 7\u001b[0;31m     \u001b[0;32mprint\u001b[0m \u001b[0;36m1\u001b[0m\u001b[0;34m/\u001b[0m\u001b[0;36m0\u001b[0m\u001b[0;34m\u001b[0m\u001b[0m\n\u001b[0m\u001b[1;32m      8\u001b[0m \u001b[0;32mprint\u001b[0m \u001b[0;34m\"thank you.\"\u001b[0m\u001b[0;34m\u001b[0m\u001b[0m\n",
      "\u001b[0;31mZeroDivisionError\u001b[0m: integer division or modulo by zero"
     ]
    }
   ],
   "source": [
    "try:\n",
    "    print \"try\"\n",
    "    print \"werwe\"/\"sdfd\"\n",
    "except ZeroDivisionError as err:\n",
    "    print \"geeric exception\"\n",
    "except:\n",
    "    print 1/0\n",
    "print \"thank you.\""
   ]
  },
  {
   "cell_type": "code",
   "execution_count": 27,
   "metadata": {},
   "outputs": [
    {
     "name": "stdout",
     "output_type": "stream",
     "text": [
      "try\n",
      "ZERO division\n",
      "thank you.\n"
     ]
    }
   ],
   "source": [
    "try:\n",
    "    try:\n",
    "        print \"try\"\n",
    "        print \"werwe\"/\"sdfd\"\n",
    "    except ZeroDivisionError as err:\n",
    "        print \"geeric exception\"\n",
    "    except:\n",
    "        try:\n",
    "            print 1/0\n",
    "        except :\n",
    "            print \"ZERO division\"\n",
    "except:\n",
    "    print \"second zero division\"\n",
    "print \"thank you.\""
   ]
  },
  {
   "cell_type": "code",
   "execution_count": null,
   "metadata": {
    "collapsed": true
   },
   "outputs": [],
   "source": [
    "try:\n",
    "    try:\n",
    "        print \"try\"\n",
    "        print \"werwe\"/\"sdfd\"\n",
    "    except ZeroDivisionError as err:\n",
    "        print \"geeric exception\"\n",
    "    except:\n",
    "            print 1/0\n",
    "except:\n",
    "    print \"second zero division\"\n",
    "print \"thank you.\""
   ]
  }
 ],
 "metadata": {
  "kernelspec": {
   "display_name": "Python 2",
   "language": "python",
   "name": "python2"
  },
  "language_info": {
   "codemirror_mode": {
    "name": "ipython",
    "version": 2
   },
   "file_extension": ".py",
   "mimetype": "text/x-python",
   "name": "python",
   "nbconvert_exporter": "python",
   "pygments_lexer": "ipython2",
   "version": "2.7.14"
  }
 },
 "nbformat": 4,
 "nbformat_minor": 2
}
