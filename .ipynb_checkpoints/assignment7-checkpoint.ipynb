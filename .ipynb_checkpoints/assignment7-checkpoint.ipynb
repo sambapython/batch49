{
 "cells": [
  {
   "cell_type": "code",
   "execution_count": 1,
   "metadata": {},
   "outputs": [
    {
     "name": "stdout",
     "output_type": "stream",
     "text": [
      "Enter name:anil\n",
      "enter age:23\n",
      "Enter height:5.6\n",
      "Name:anil, Age:23, Height:5.6\n"
     ]
    }
   ],
   "source": [
    "\"\"\"\n",
    "Take name, age, height from the user and print like below\n",
    "The details of the person: Name:name of the person, Age:age of the person,\n",
    "Height:height of the person\n",
    "\"\"\"\n",
    "p_name=raw_input(\"Enter name:\")\n",
    "p_age=raw_input(\"enter age:\")\n",
    "p_height=raw_input(\"Enter height:\")\n",
    "print \"Name:%s, Age:%s, Height:%s\"%(p_name,p_age,p_height)\n"
   ]
  },
  {
   "cell_type": "code",
   "execution_count": 2,
   "metadata": {},
   "outputs": [
    {
     "name": "stdout",
     "output_type": "stream",
     "text": [
      "Enter name:anil\n",
      "enter age:23\n",
      "Enter height:5.6898345346\n",
      "Name:anil, Age:23, Height:5.6898345346\n"
     ]
    }
   ],
   "source": [
    "\"\"\"\n",
    "Take name, age, height from the user and print like below\n",
    "The details of the person: Name:name of the person, Age:age of the person,\n",
    "Height:height of the person\n",
    "\"\"\"\n",
    "p_name=raw_input(\"Enter name:\")\n",
    "p_age=raw_input(\"enter age:\")\n",
    "p_height=raw_input(\"Enter height:\")\n",
    "print \"Name:%s, Age:%s, Height:%s\"%(p_name,p_age,p_height)\n"
   ]
  },
  {
   "cell_type": "code",
   "execution_count": 4,
   "metadata": {},
   "outputs": [
    {
     "name": "stdout",
     "output_type": "stream",
     "text": [
      "Enter name:anil\n",
      "enter age:23\n",
      "Enter height:5.67899\n",
      "Name:anil, Age:23, Height:5.678990\n"
     ]
    }
   ],
   "source": [
    "\"\"\"\n",
    "Take name, age, height from the user and print like below\n",
    "The details of the person: Name:name of the person, Age:age of the person,\n",
    "Height:height of the person\n",
    "\"\"\"\n",
    "p_name=raw_input(\"Enter name:\")\n",
    "p_age=raw_input(\"enter age:\")\n",
    "p_height=raw_input(\"Enter height:\")\n",
    "p_height = float(p_height)\n",
    "print \"Name:%s, Age:%s, Height:%f\"%(p_name,p_age,p_height)"
   ]
  },
  {
   "cell_type": "code",
   "execution_count": 5,
   "metadata": {},
   "outputs": [
    {
     "name": "stdout",
     "output_type": "stream",
     "text": [
      "Enter name:anil\n",
      "enter age:23\n",
      "Enter height:5.67892345\n",
      "Name:anil, Age:23, Height:5.68\n"
     ]
    }
   ],
   "source": [
    "\"\"\"\n",
    "Take name, age, height from the user and print like below\n",
    "The details of the person: Name:name of the person, Age:age of the person,\n",
    "Height:height of the person\n",
    "\"\"\"\n",
    "p_name=raw_input(\"Enter name:\")\n",
    "p_age=raw_input(\"enter age:\")\n",
    "p_height=raw_input(\"Enter height:\")\n",
    "p_height = float(p_height)\n",
    "print \"Name:%s, Age:%s, Height:%.2f\"%(p_name,p_age,p_height)"
   ]
  },
  {
   "cell_type": "code",
   "execution_count": 6,
   "metadata": {},
   "outputs": [
    {
     "name": "stdout",
     "output_type": "stream",
     "text": [
      "Enter name:anil\n",
      "enter age:23\n",
      "Enter height:5.6789\n",
      "Name:%s, Age:%s, Height:%.2f ('anil', '23', 5.6789)\n"
     ]
    }
   ],
   "source": [
    "\"\"\"\n",
    "Take name, age, height from the user and print like below\n",
    "The details of the person: Name:name of the person, Age:age of the person,\n",
    "Height:height of the person\n",
    "\"\"\"\n",
    "p_name=raw_input(\"Enter name:\")\n",
    "p_age=raw_input(\"enter age:\")\n",
    "p_height=raw_input(\"Enter height:\")\n",
    "p_height = float(p_height)\n",
    "print \"Name:%s, Age:%s, Height:%.2f\",(p_name,p_age,p_height)"
   ]
  },
  {
   "cell_type": "code",
   "execution_count": null,
   "metadata": {
    "collapsed": true
   },
   "outputs": [],
   "source": [
    "\"\"\"\n",
    "Take the input from the user for(Total number of people, total number of buses, \n",
    "Number of seats for bus, adjust factor). Based on four inputs\n",
    "Decide whether there is sufficient buses or not and give solution \n",
    "for how many extra buses required.\n",
    "\"\"\"\n"
   ]
  }
 ],
 "metadata": {
  "kernelspec": {
   "display_name": "Python 2",
   "language": "python",
   "name": "python2"
  },
  "language_info": {
   "codemirror_mode": {
    "name": "ipython",
    "version": 2
   },
   "file_extension": ".py",
   "mimetype": "text/x-python",
   "name": "python",
   "nbconvert_exporter": "python",
   "pygments_lexer": "ipython2",
   "version": "2.7.14"
  }
 },
 "nbformat": 4,
 "nbformat_minor": 2
}
