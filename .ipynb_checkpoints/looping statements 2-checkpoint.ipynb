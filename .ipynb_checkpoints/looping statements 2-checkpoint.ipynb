{
 "cells": [
  {
   "cell_type": "code",
   "execution_count": 1,
   "metadata": {},
   "outputs": [
    {
     "name": "stdout",
     "output_type": "stream",
     "text": [
      "program started\n",
      "iteration 0\n",
      "0\n",
      "iteration 1\n",
      "1\n",
      "iteration 2\n",
      "2\n",
      "other statements in program\n",
      "program ended\n"
     ]
    }
   ],
   "source": [
    "print \"program started\"\n",
    "i=0\n",
    "while i<3:\n",
    "    print \"iteration\",i\n",
    "    print i\n",
    "    i=i+1\n",
    "print \"other statements in program\"\n",
    "print \"program ended\""
   ]
  },
  {
   "cell_type": "code",
   "execution_count": null,
   "metadata": {
    "collapsed": true
   },
   "outputs": [],
   "source": [
    "print \"program started\"\n",
    "i=0\n",
    "j=0\n",
    "while i<30:\n",
    "    j=j+2\n",
    "    print j\n",
    "    i=i+5\n",
    "print \"other statements in program\"\n",
    "print \"program ended\""
   ]
  },
  {
   "cell_type": "code",
   "execution_count": 2,
   "metadata": {},
   "outputs": [
    {
     "name": "stdout",
     "output_type": "stream",
     "text": [
      "enter n value:10\n",
      "1\n",
      "2\n",
      "3\n",
      "4\n",
      "5\n",
      "6\n",
      "7\n",
      "8\n",
      "9\n"
     ]
    }
   ],
   "source": [
    "n=raw_input(\"enter n value:\")\n",
    "n=float(n)\n",
    "i=1\n",
    "while i<n:\n",
    "    print i\n",
    "    i=i+1"
   ]
  },
  {
   "cell_type": "code",
   "execution_count": 3,
   "metadata": {},
   "outputs": [
    {
     "name": "stdout",
     "output_type": "stream",
     "text": [
      "enter n value:12\n",
      "1\n",
      "2\n",
      "3\n",
      "4\n",
      "5\n",
      "6\n",
      "7\n",
      "8\n",
      "9\n",
      "10\n",
      "11\n",
      "12\n"
     ]
    }
   ],
   "source": [
    "n=raw_input(\"enter n value:\")\n",
    "n=float(n)\n",
    "i=1\n",
    "while i<=n:\n",
    "    print i\n",
    "    i=i+1"
   ]
  },
  {
   "cell_type": "code",
   "execution_count": 4,
   "metadata": {},
   "outputs": [
    {
     "name": "stdout",
     "output_type": "stream",
     "text": [
      "enter n value:23\n",
      "1\n",
      "23\n"
     ]
    }
   ],
   "source": [
    "n=raw_input(\"enter n value:\")\n",
    "n=float(n)\n",
    "i=1\n",
    "while i<=n:\n",
    "    if n%i==0:\n",
    "        print i\n",
    "    i=i+1"
   ]
  },
  {
   "cell_type": "code",
   "execution_count": 5,
   "metadata": {},
   "outputs": [
    {
     "name": "stdout",
     "output_type": "stream",
     "text": [
      "enter n value:10\n",
      "1\n",
      "2\n",
      "5\n",
      "10\n"
     ]
    }
   ],
   "source": [
    "n=raw_input(\"enter n value:\")\n",
    "n=float(n)\n",
    "i=1\n",
    "while i<=n:\n",
    "    if n%i==0:\n",
    "        print i\n",
    "    i=i+1"
   ]
  },
  {
   "cell_type": "code",
   "execution_count": 6,
   "metadata": {},
   "outputs": [
    {
     "name": "stdout",
     "output_type": "stream",
     "text": [
      "enter n value:25\n",
      "1\n",
      "5\n",
      "25\n"
     ]
    }
   ],
   "source": [
    "n=raw_input(\"enter n value:\")\n",
    "n=float(n)\n",
    "i=1\n",
    "while i<=n:\n",
    "    if n%i==0:\n",
    "        print i\n",
    "    i=i+1"
   ]
  },
  {
   "cell_type": "code",
   "execution_count": 8,
   "metadata": {},
   "outputs": [
    {
     "name": "stdout",
     "output_type": "stream",
     "text": [
      "enter n value:12\n",
      "0\n",
      "2\n",
      "4\n",
      "6\n",
      "8\n",
      "10\n",
      "12\n"
     ]
    }
   ],
   "source": [
    "n=raw_input(\"enter n value:\")\n",
    "n=float(n)\n",
    "i=0\n",
    "while i<=n:\n",
    "    print i\n",
    "    i=i+2"
   ]
  },
  {
   "cell_type": "code",
   "execution_count": 1,
   "metadata": {},
   "outputs": [
    {
     "name": "stdout",
     "output_type": "stream",
     "text": [
      "p\n",
      "y\n",
      "t\n",
      "h\n",
      "o\n",
      "n\n",
      " \n",
      "p\n",
      "r\n",
      "o\n",
      "g\n",
      "r\n",
      "a\n",
      "m\n"
     ]
    }
   ],
   "source": [
    "s=\"python program\"\n",
    "i=0\n",
    "while i<len(s):\n",
    "    print s[i]\n",
    "    i=i+1"
   ]
  },
  {
   "cell_type": "code",
   "execution_count": 2,
   "metadata": {},
   "outputs": [
    {
     "name": "stdout",
     "output_type": "stream",
     "text": [
      "p\n",
      "y\n",
      "t\n",
      "h\n",
      "o\n",
      "n\n",
      " \n",
      "p\n",
      "r\n",
      "o\n",
      "g\n",
      "r\n",
      "a\n",
      "m\n"
     ]
    }
   ],
   "source": [
    "s=\"python program\"\n",
    "'''\n",
    "i=0\n",
    "while i<len(s):\n",
    "    print s[i]\n",
    "    i=i+1\n",
    "'''\n",
    "for i in s:\n",
    "    print i\n"
   ]
  },
  {
   "cell_type": "code",
   "execution_count": 3,
   "metadata": {},
   "outputs": [
    {
     "name": "stdout",
     "output_type": "stream",
     "text": [
      "p\n",
      "y\n",
      "t\n",
      "h\n",
      "o\n",
      "n\n",
      " \n",
      "p\n",
      "r\n",
      "o\n",
      "g\n",
      "r\n",
      "a\n",
      "m\n"
     ]
    }
   ],
   "source": [
    "s=\"python program\"\n",
    "for i in s:\n",
    "    print i\n"
   ]
  },
  {
   "cell_type": "code",
   "execution_count": 4,
   "metadata": {},
   "outputs": [
    {
     "name": "stdout",
     "output_type": "stream",
     "text": [
      "anil\n",
      "ashok\n",
      "ajay\n",
      "jay\n"
     ]
    }
   ],
   "source": [
    "s=[\"anil\",\"ashok\",\"ajay\",\"jay\"]\n",
    "for i in s:\n",
    "    print i\n"
   ]
  },
  {
   "cell_type": "code",
   "execution_count": 5,
   "metadata": {},
   "outputs": [
    {
     "name": "stdout",
     "output_type": "stream",
     "text": [
      "anil\n",
      "ashok\n",
      "ajay\n",
      "jay\n"
     ]
    }
   ],
   "source": [
    "s=(\"anil\",\"ashok\",\"ajay\",\"jay\")\n",
    "for i in s:\n",
    "    print i\n"
   ]
  },
  {
   "cell_type": "code",
   "execution_count": 6,
   "metadata": {},
   "outputs": [
    {
     "name": "stdout",
     "output_type": "stream",
     "text": [
      "k3\n",
      "k2\n",
      "k1\n"
     ]
    }
   ],
   "source": [
    "s={\"k1\":\"v1\",\"k2\":\"v2\",\"k3\":\"v3\"}\n",
    "for i in s:\n",
    "    print i\n"
   ]
  },
  {
   "cell_type": "code",
   "execution_count": 7,
   "metadata": {},
   "outputs": [
    {
     "name": "stdout",
     "output_type": "stream",
     "text": [
      "k3\n"
     ]
    }
   ],
   "source": [
    "s={\"k1\":\"v1\",\"k2\":\"v2\",\"k3\":\"v3\"}\n",
    "for i in s:\n",
    "    print i\n",
    "    break\n"
   ]
  },
  {
   "cell_type": "code",
   "execution_count": 8,
   "metadata": {},
   "outputs": [
    {
     "name": "stdout",
     "output_type": "stream",
     "text": [
      "p\n",
      "y\n",
      "t\n",
      "h\n",
      "o\n",
      "n\n",
      " \n",
      "i\n",
      "s\n",
      " \n",
      "a\n",
      " \n",
      "p\n",
      "u\n",
      "r\n",
      "e\n",
      " \n",
      "o\n",
      "b\n",
      "j\n",
      "e\n",
      "c\n",
      "t\n",
      " \n",
      "o\n",
      "r\n",
      "i\n",
      "e\n",
      "n\n",
      "t\n",
      "e\n",
      "d\n",
      " \n",
      "p\n",
      "r\n",
      "o\n",
      "g\n",
      "r\n",
      "a\n",
      "m\n",
      "i\n",
      "n\n",
      "g\n",
      " \n",
      "l\n",
      "a\n",
      "n\n",
      "g\n",
      "u\n",
      "a\n",
      "g\n",
      "e\n"
     ]
    }
   ],
   "source": [
    "s=\"python is a pure object oriented programing language\"\n",
    "for i in s:\n",
    "    print i"
   ]
  },
  {
   "cell_type": "code",
   "execution_count": 9,
   "metadata": {},
   "outputs": [
    {
     "name": "stdout",
     "output_type": "stream",
     "text": [
      "p\n",
      "y\n",
      "t\n",
      "h\n",
      "o\n",
      "n\n",
      "<space>\n",
      "i\n",
      "s\n",
      "<space>\n",
      "a\n",
      "<space>\n",
      "p\n",
      "u\n",
      "r\n",
      "e\n",
      "<space>\n",
      "o\n",
      "b\n",
      "j\n",
      "e\n",
      "c\n",
      "t\n",
      "<space>\n",
      "o\n",
      "r\n",
      "i\n",
      "e\n",
      "n\n",
      "t\n",
      "e\n",
      "d\n",
      "<space>\n",
      "p\n",
      "r\n",
      "o\n",
      "g\n",
      "r\n",
      "a\n",
      "m\n",
      "i\n",
      "n\n",
      "g\n",
      "<space>\n",
      "l\n",
      "a\n",
      "n\n",
      "g\n",
      "u\n",
      "a\n",
      "g\n",
      "e\n"
     ]
    }
   ],
   "source": [
    "#<space>\n",
    "s=\"python is a pure object oriented programing language\"\n",
    "for i in s:\n",
    "    if i==\" \":\n",
    "        print \"<space>\"\n",
    "    else:\n",
    "        print i"
   ]
  },
  {
   "cell_type": "code",
   "execution_count": 10,
   "metadata": {},
   "outputs": [
    {
     "name": "stdout",
     "output_type": "stream",
     "text": [
      "p\n",
      "y\n",
      "t\n",
      "h\n",
      "o\n",
      "n\n",
      "some other statements in program\n",
      "thank you.\n"
     ]
    }
   ],
   "source": [
    "s=\"python is a pure object oriented programing language\"\n",
    "for i in s:\n",
    "    if i==\" \":\n",
    "        break\n",
    "    else:\n",
    "        print i\n",
    "print \"some other statements in program\"\n",
    "print \"thank you.\""
   ]
  },
  {
   "cell_type": "code",
   "execution_count": 11,
   "metadata": {},
   "outputs": [
    {
     "name": "stdout",
     "output_type": "stream",
     "text": [
      "p\n",
      "i outside the loop: p\n",
      "some other statements in program\n",
      "thank you.\n"
     ]
    }
   ],
   "source": [
    "s=\"python is a pure object oriented programing language\"\n",
    "for i in s:\n",
    "    print i\n",
    "    break\n",
    "    print \"other statements in loop\"\n",
    "print \"i outside the loop:\",i\n",
    "print \"some other statements in program\"\n",
    "print \"thank you.\""
   ]
  },
  {
   "cell_type": "code",
   "execution_count": 12,
   "metadata": {},
   "outputs": [
    {
     "name": "stdout",
     "output_type": "stream",
     "text": [
      "p\n",
      "other statements in loop\n",
      "y\n",
      "other statements in loop\n",
      "t\n",
      "other statements in loop\n",
      "h\n",
      "other statements in loop\n",
      "o\n",
      "other statements in loop\n",
      "n\n",
      "other statements in loop\n",
      " \n",
      "other statements in loop\n",
      "i\n",
      "other statements in loop\n",
      "s\n",
      "other statements in loop\n",
      " \n",
      "other statements in loop\n",
      "a\n",
      "other statements in loop\n",
      " \n",
      "other statements in loop\n",
      "p\n",
      "other statements in loop\n",
      "u\n",
      "other statements in loop\n",
      "r\n",
      "other statements in loop\n",
      "e\n",
      "other statements in loop\n",
      " \n",
      "other statements in loop\n",
      "o\n",
      "other statements in loop\n",
      "b\n",
      "other statements in loop\n",
      "j\n",
      "other statements in loop\n",
      "e\n",
      "other statements in loop\n",
      "c\n",
      "other statements in loop\n",
      "t\n",
      "other statements in loop\n",
      " \n",
      "other statements in loop\n",
      "o\n",
      "other statements in loop\n",
      "r\n",
      "other statements in loop\n",
      "i\n",
      "other statements in loop\n",
      "e\n",
      "other statements in loop\n",
      "n\n",
      "other statements in loop\n",
      "t\n",
      "other statements in loop\n",
      "e\n",
      "other statements in loop\n",
      "d\n",
      "other statements in loop\n",
      " \n",
      "other statements in loop\n",
      "p\n",
      "other statements in loop\n",
      "r\n",
      "other statements in loop\n",
      "o\n",
      "other statements in loop\n",
      "g\n",
      "other statements in loop\n",
      "r\n",
      "other statements in loop\n",
      "a\n",
      "other statements in loop\n",
      "m\n",
      "other statements in loop\n",
      "i\n",
      "other statements in loop\n",
      "n\n",
      "other statements in loop\n",
      "g\n",
      "other statements in loop\n",
      " \n",
      "other statements in loop\n",
      "l\n",
      "other statements in loop\n",
      "a\n",
      "other statements in loop\n",
      "n\n",
      "other statements in loop\n",
      "g\n",
      "other statements in loop\n",
      "u\n",
      "other statements in loop\n",
      "a\n",
      "other statements in loop\n",
      "g\n",
      "other statements in loop\n",
      "e\n",
      "other statements in loop\n",
      "i outside the loop: e\n",
      "some other statements in program\n",
      "thank you.\n"
     ]
    }
   ],
   "source": [
    "s=\"python is a pure object oriented programing language\"\n",
    "for i in s:\n",
    "    print i\n",
    "    print \"other statements in loop\"\n",
    "print \"i outside the loop:\",i\n",
    "print \"some other statements in program\"\n",
    "print \"thank you.\""
   ]
  },
  {
   "cell_type": "code",
   "execution_count": 13,
   "metadata": {},
   "outputs": [
    {
     "name": "stdout",
     "output_type": "stream",
     "text": [
      "p\n",
      "y\n",
      "t\n",
      "h\n",
      "o\n",
      "n\n",
      " \n",
      "i\n",
      "s\n",
      " \n",
      "a\n",
      " \n",
      "p\n",
      "u\n",
      "r\n",
      "e\n",
      " \n",
      "o\n",
      "b\n",
      "j\n",
      "e\n",
      "c\n",
      "t\n",
      " \n",
      "o\n",
      "r\n",
      "i\n",
      "e\n",
      "n\n",
      "t\n",
      "e\n",
      "d\n",
      " \n",
      "p\n",
      "r\n",
      "o\n",
      "g\n",
      "r\n",
      "a\n",
      "m\n",
      "i\n",
      "n\n",
      "g\n",
      " \n",
      "l\n",
      "a\n",
      "n\n",
      "g\n",
      "u\n",
      "a\n",
      "g\n",
      "e\n",
      "i outside the loop: e\n",
      "some other statements in program\n",
      "thank you.\n"
     ]
    }
   ],
   "source": [
    "s=\"python is a pure object oriented programing language\"\n",
    "for i in s:\n",
    "    print i\n",
    "    continue\n",
    "    print \"other statements in loop\"\n",
    "print \"i outside the loop:\",i\n",
    "print \"some other statements in program\"\n",
    "print \"thank you.\""
   ]
  },
  {
   "cell_type": "code",
   "execution_count": 14,
   "metadata": {},
   "outputs": [
    {
     "name": "stdout",
     "output_type": "stream",
     "text": [
      "p\n",
      "y\n",
      "t\n",
      "h\n",
      "o\n",
      "n\n",
      "i\n",
      "s\n",
      "a\n",
      "p\n",
      "u\n",
      "r\n",
      "e\n",
      "o\n",
      "b\n",
      "j\n",
      "e\n",
      "c\n",
      "t\n",
      "o\n",
      "r\n",
      "i\n",
      "e\n",
      "n\n",
      "t\n",
      "e\n",
      "d\n",
      "p\n",
      "r\n",
      "o\n",
      "g\n",
      "r\n",
      "a\n",
      "m\n",
      "i\n",
      "n\n",
      "g\n",
      "l\n",
      "a\n",
      "n\n",
      "g\n",
      "u\n",
      "a\n",
      "g\n",
      "e\n"
     ]
    }
   ],
   "source": [
    "#<space>\n",
    "s=\"python is a pure object oriented programing language\"\n",
    "for i in s:\n",
    "    if i==\" \":\n",
    "        continue\n",
    "    print i"
   ]
  },
  {
   "cell_type": "code",
   "execution_count": 15,
   "metadata": {},
   "outputs": [
    {
     "name": "stdout",
     "output_type": "stream",
     "text": [
      "program started\n",
      "i outside the loop: 0\n",
      "program ended\n"
     ]
    }
   ],
   "source": [
    "print \"program started\"\n",
    "i=0\n",
    "while i>5:\n",
    "    print i\n",
    "    break\n",
    "    i=i+1\n",
    "print \"i outside the loop:\",i\n",
    "print \"program ended\""
   ]
  },
  {
   "cell_type": "code",
   "execution_count": 16,
   "metadata": {},
   "outputs": [
    {
     "name": "stdout",
     "output_type": "stream",
     "text": [
      "program started\n",
      "0\n",
      "i outside the loop: 0\n",
      "program ended\n"
     ]
    }
   ],
   "source": [
    "print \"program started\"\n",
    "i=0\n",
    "while i<5:\n",
    "    print i\n",
    "    break\n",
    "    i=i+1\n",
    "print \"i outside the loop:\",i\n",
    "print \"program ended\""
   ]
  },
  {
   "cell_type": "code",
   "execution_count": null,
   "metadata": {
    "collapsed": true
   },
   "outputs": [],
   "source": [
    "print \"program started\"\n",
    "i=0\n",
    "while i<5:\n",
    "    print i\n",
    "    continue\n",
    "    i=i+1\n",
    "print \"i outside the loop:\",i\n",
    "print \"program ended\""
   ]
  },
  {
   "cell_type": "code",
   "execution_count": 17,
   "metadata": {},
   "outputs": [
    {
     "name": "stdout",
     "output_type": "stream",
     "text": [
      "program started\n",
      "0\n",
      "i outside the loop: 1\n",
      "program ended\n"
     ]
    }
   ],
   "source": [
    "print \"program started\"\n",
    "i=0\n",
    "while i<5:\n",
    "    print i\n",
    "    i=i+1\n",
    "    break\n",
    "print \"i outside the loop:\",i\n",
    "print \"program ended\""
   ]
  },
  {
   "cell_type": "code",
   "execution_count": 18,
   "metadata": {},
   "outputs": [
    {
     "name": "stdout",
     "output_type": "stream",
     "text": [
      "program started\n",
      "i outside the loop: p\n",
      "program ended\n"
     ]
    }
   ],
   "source": [
    "print \"program started\"\n",
    "for i in \"python\":\n",
    "    break\n",
    "print \"i outside the loop:\",i\n",
    "print \"program ended\""
   ]
  },
  {
   "cell_type": "code",
   "execution_count": 19,
   "metadata": {},
   "outputs": [
    {
     "name": "stdout",
     "output_type": "stream",
     "text": [
      "program started\n",
      "i outside the loop: n\n",
      "program ended\n"
     ]
    }
   ],
   "source": [
    "print \"program started\"\n",
    "for i in \"python\":\n",
    "    continue\n",
    "print \"i outside the loop:\",i\n",
    "print \"program ended\""
   ]
  },
  {
   "cell_type": "code",
   "execution_count": 20,
   "metadata": {
    "collapsed": true
   },
   "outputs": [],
   "source": [
    "a=10"
   ]
  },
  {
   "cell_type": "code",
   "execution_count": null,
   "metadata": {
    "collapsed": true
   },
   "outputs": [],
   "source": []
  }
 ],
 "metadata": {
  "kernelspec": {
   "display_name": "Python 2",
   "language": "python",
   "name": "python2"
  },
  "language_info": {
   "codemirror_mode": {
    "name": "ipython",
    "version": 2
   },
   "file_extension": ".py",
   "mimetype": "text/x-python",
   "name": "python",
   "nbconvert_exporter": "python",
   "pygments_lexer": "ipython2",
   "version": "2.7.14"
  }
 },
 "nbformat": 4,
 "nbformat_minor": 2
}
