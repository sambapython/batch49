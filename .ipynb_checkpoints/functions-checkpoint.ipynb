{
 "cells": [
  {
   "cell_type": "code",
   "execution_count": 1,
   "metadata": {},
   "outputs": [
    {
     "name": "stdout",
     "output_type": "stream",
     "text": [
      "program started\n",
      "other statements in program\n",
      "program ended\n"
     ]
    }
   ],
   "source": [
    "print \"program started\"\n",
    "def fun():\n",
    "    print \"this is fun\"\n",
    "print \"other statements in program\"\n",
    "print \"program ended\""
   ]
  },
  {
   "cell_type": "code",
   "execution_count": 2,
   "metadata": {},
   "outputs": [
    {
     "name": "stdout",
     "output_type": "stream",
     "text": [
      "program started\n",
      "this is fun\n",
      "other statements in program\n",
      "program ended\n"
     ]
    }
   ],
   "source": [
    "print \"program started\"\n",
    "def fun():\n",
    "    print \"this is fun\"\n",
    "fun()\n",
    "print \"other statements in program\"\n",
    "print \"program ended\""
   ]
  },
  {
   "cell_type": "code",
   "execution_count": 3,
   "metadata": {},
   "outputs": [
    {
     "name": "stdout",
     "output_type": "stream",
     "text": [
      "program started\n",
      "function started\n",
      "this is fun\n",
      "function ended\n",
      "other statements in program\n",
      "function started\n",
      "this is fun\n",
      "function ended\n",
      "program ended\n",
      "function started\n",
      "this is fun\n",
      "function ended\n"
     ]
    }
   ],
   "source": [
    "print \"program started\"\n",
    "def fun():\n",
    "    print \"function started\"\n",
    "    print \"this is fun\"\n",
    "    print \"function ended\"\n",
    "fun()\n",
    "print \"other statements in program\"\n",
    "fun()\n",
    "print \"program ended\"\n",
    "fun()"
   ]
  },
  {
   "cell_type": "code",
   "execution_count": 5,
   "metadata": {},
   "outputs": [
    {
     "name": "stdout",
     "output_type": "stream",
     "text": [
      "program started\n",
      "10 20\n",
      "result= 30\n",
      "100 200\n",
      "result= 300\n",
      "1000 2000\n",
      "result= 3000\n",
      "program ended\n"
     ]
    }
   ],
   "source": [
    "print \"program started\"\n",
    "def fun(a,b):\n",
    "    print a,b\n",
    "    c=a+b\n",
    "    print \"result=\",c\n",
    "fun(10,20)\n",
    "fun(100,200)\n",
    "fun(1000,2000)\n",
    "print \"program ended\""
   ]
  },
  {
   "cell_type": "code",
   "execution_count": 7,
   "metadata": {},
   "outputs": [
    {
     "name": "stdout",
     "output_type": "stream",
     "text": [
      "iteration: 1\n",
      "Enter a value:12\n",
      "Enter b value:34\n",
      "12.0+34.0=46.0\n",
      "iteration: 2\n",
      "Enter a value:56\n",
      "Enter b value:78\n",
      "56.0+78.0=134.0\n",
      "iteration: 3\n",
      "Enter a value:13\n",
      "Enter b value:24\n",
      "13.0+24.0=37.0\n"
     ]
    }
   ],
   "source": [
    "def fun(a,b):\n",
    "    print \"%s+%s=%s\"%(a,b,a+b)\n",
    "for i in range(1,4):\n",
    "    print \"iteration:\",i\n",
    "    a=float(raw_input(\"Enter a value:\"))\n",
    "    b=float(raw_input(\"Enter b value:\"))\n",
    "    fun(a,b)"
   ]
  },
  {
   "cell_type": "code",
   "execution_count": 8,
   "metadata": {},
   "outputs": [
    {
     "name": "stdout",
     "output_type": "stream",
     "text": [
      "iteration: 1\n",
      "Enter a value:12\n",
      "Enter b value:34\n",
      "12.0+34.0=46.0\n",
      "iteration: 2\n",
      "Enter a value:56\n",
      "Enter b value:78\n",
      "56.0+78.0=134.0\n",
      "iteration: 3\n",
      "Enter a value:89\n",
      "Enter b value:12\n",
      "89.0+12.0=101.0\n"
     ]
    }
   ],
   "source": [
    "def fun():\n",
    "    a=float(raw_input(\"Enter a value:\"))\n",
    "    b=float(raw_input(\"Enter b value:\"))\n",
    "    print \"%s+%s=%s\"%(a,b,a+b)\n",
    "for i in range(1,4):\n",
    "    print \"iteration:\",i\n",
    "    fun()"
   ]
  },
  {
   "cell_type": "code",
   "execution_count": 10,
   "metadata": {},
   "outputs": [
    {
     "name": "stdout",
     "output_type": "stream",
     "text": [
      "Enter number1:26\n",
      "even\n",
      "Enter number2:35\n",
      "odd\n",
      "Enter number3:57\n",
      "odd\n",
      "Enter number4:86\n",
      "even\n"
     ]
    }
   ],
   "source": [
    "# WAP in function to decide given number is even or odd\n",
    "def check_even(number):\n",
    "    if number%2==0:\n",
    "        print \"even\"\n",
    "    else:\n",
    "        print \"odd\"\n",
    "for i in range(1,5):\n",
    "    n = int(raw_input(\"Enter number%s:\"%i))\n",
    "    check_even(n)"
   ]
  },
  {
   "cell_type": "code",
   "execution_count": 11,
   "metadata": {},
   "outputs": [
    {
     "data": {
      "text/plain": [
       "[0, 1, 2, 3, 4, 5, 6, 7, 8, 9]"
      ]
     },
     "execution_count": 11,
     "metadata": {},
     "output_type": "execute_result"
    }
   ],
   "source": [
    "range(10)"
   ]
  },
  {
   "cell_type": "code",
   "execution_count": 12,
   "metadata": {},
   "outputs": [
    {
     "data": {
      "text/plain": [
       "[1, 2, 3, 4]"
      ]
     },
     "execution_count": 12,
     "metadata": {},
     "output_type": "execute_result"
    }
   ],
   "source": [
    "range(1,5)"
   ]
  },
  {
   "cell_type": "code",
   "execution_count": 13,
   "metadata": {},
   "outputs": [
    {
     "data": {
      "text/plain": [
       "[2, 5, 8, 11, 14, 17, 20, 23]"
      ]
     },
     "execution_count": 13,
     "metadata": {},
     "output_type": "execute_result"
    }
   ],
   "source": [
    "range(2,25,3)"
   ]
  },
  {
   "cell_type": "code",
   "execution_count": 14,
   "metadata": {},
   "outputs": [
    {
     "name": "stdout",
     "output_type": "stream",
     "text": [
      "1\n",
      "2\n",
      "3\n",
      "4\n"
     ]
    }
   ],
   "source": [
    "for i in [1,2,3,4]:\n",
    "    print i"
   ]
  },
  {
   "cell_type": "code",
   "execution_count": 15,
   "metadata": {},
   "outputs": [
    {
     "data": {
      "text/plain": [
       "[1, 2, 3, 4]"
      ]
     },
     "execution_count": 15,
     "metadata": {},
     "output_type": "execute_result"
    }
   ],
   "source": [
    "range(1,5)"
   ]
  },
  {
   "cell_type": "code",
   "execution_count": 16,
   "metadata": {},
   "outputs": [
    {
     "name": "stdout",
     "output_type": "stream",
     "text": [
      "1\n",
      "2\n",
      "3\n",
      "4\n"
     ]
    }
   ],
   "source": [
    "for i in range(1,5):\n",
    "    print i"
   ]
  },
  {
   "cell_type": "code",
   "execution_count": 17,
   "metadata": {},
   "outputs": [
    {
     "name": "stdout",
     "output_type": "stream",
     "text": [
      "1\n",
      "2\n",
      "3\n",
      "4\n"
     ]
    }
   ],
   "source": [
    "i=1\n",
    "while i<5:\n",
    "    print i\n",
    "    i=i+1"
   ]
  },
  {
   "cell_type": "markdown",
   "metadata": {},
   "source": [
    "#### for i in range(3):\n",
    "    print i\n",
    "    a=raw_input(\"\")"
   ]
  },
  {
   "cell_type": "code",
   "execution_count": 19,
   "metadata": {},
   "outputs": [
    {
     "name": "stdout",
     "output_type": "stream",
     "text": [
      "sdfsd\n"
     ]
    }
   ],
   "source": [
    "print \"sdfsd\""
   ]
  },
  {
   "cell_type": "code",
   "execution_count": null,
   "metadata": {
    "collapsed": true
   },
   "outputs": [],
   "source": []
  }
 ],
 "metadata": {
  "kernelspec": {
   "display_name": "Python 2",
   "language": "python",
   "name": "python2"
  },
  "language_info": {
   "codemirror_mode": {
    "name": "ipython",
    "version": 2
   },
   "file_extension": ".py",
   "mimetype": "text/x-python",
   "name": "python",
   "nbconvert_exporter": "python",
   "pygments_lexer": "ipython2",
   "version": "2.7.14"
  }
 },
 "nbformat": 4,
 "nbformat_minor": 2
}
