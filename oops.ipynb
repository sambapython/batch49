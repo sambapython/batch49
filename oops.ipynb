{
 "cells": [
  {
   "cell_type": "code",
   "execution_count": 1,
   "metadata": {},
   "outputs": [
    {
     "name": "stdout",
     "output_type": "stream",
     "text": [
      "this is employee\n"
     ]
    }
   ],
   "source": [
    "def fun():\n",
    "    print \"this is fun\"\n",
    "class Employee:\n",
    "    print \"this is employee\""
   ]
  },
  {
   "cell_type": "code",
   "execution_count": 2,
   "metadata": {
    "collapsed": true
   },
   "outputs": [],
   "source": [
    "class Emp:\n",
    "    a=100\n",
    "    b=200\n",
    "    "
   ]
  },
  {
   "cell_type": "code",
   "execution_count": 3,
   "metadata": {},
   "outputs": [
    {
     "name": "stdout",
     "output_type": "stream",
     "text": [
      "100 200\n"
     ]
    }
   ],
   "source": [
    "class Emp:\n",
    "    a=100\n",
    "    b=200\n",
    "    print a,b"
   ]
  },
  {
   "cell_type": "code",
   "execution_count": 4,
   "metadata": {},
   "outputs": [
    {
     "ename": "NameError",
     "evalue": "name 'a' is not defined",
     "output_type": "error",
     "traceback": [
      "\u001b[0;31m---------------------------------------------------------------------------\u001b[0m",
      "\u001b[0;31mNameError\u001b[0m                                 Traceback (most recent call last)",
      "\u001b[0;32m<ipython-input-4-fc6c476fac7d>\u001b[0m in \u001b[0;36m<module>\u001b[0;34m()\u001b[0m\n\u001b[1;32m      2\u001b[0m     \u001b[0ma\u001b[0m\u001b[0;34m=\u001b[0m\u001b[0;36m100\u001b[0m\u001b[0;34m\u001b[0m\u001b[0m\n\u001b[1;32m      3\u001b[0m     \u001b[0mb\u001b[0m\u001b[0;34m=\u001b[0m\u001b[0;36m200\u001b[0m\u001b[0;34m\u001b[0m\u001b[0m\n\u001b[0;32m----> 4\u001b[0;31m \u001b[0;32mprint\u001b[0m \u001b[0ma\u001b[0m\u001b[0;34m,\u001b[0m\u001b[0mb\u001b[0m\u001b[0;34m\u001b[0m\u001b[0m\n\u001b[0m",
      "\u001b[0;31mNameError\u001b[0m: name 'a' is not defined"
     ]
    }
   ],
   "source": [
    "class Emp:\n",
    "    a=100\n",
    "    b=200\n",
    "print a,b"
   ]
  },
  {
   "cell_type": "code",
   "execution_count": 5,
   "metadata": {},
   "outputs": [
    {
     "name": "stdout",
     "output_type": "stream",
     "text": [
      "100 200\n"
     ]
    }
   ],
   "source": [
    "class Emp:\n",
    "    a=100\n",
    "    b=200\n",
    "print Emp.a,Emp.b"
   ]
  },
  {
   "cell_type": "code",
   "execution_count": 6,
   "metadata": {},
   "outputs": [
    {
     "name": "stdout",
     "output_type": "stream",
     "text": [
      "100 200\n"
     ]
    }
   ],
   "source": [
    "class Emp:\n",
    "    a=100\n",
    "    b=200\n",
    "    def fun(x,y):\n",
    "        print \"x=\",x,\"y=\",y\n",
    "print Emp.a,Emp.b"
   ]
  },
  {
   "cell_type": "code",
   "execution_count": 7,
   "metadata": {},
   "outputs": [
    {
     "name": "stdout",
     "output_type": "stream",
     "text": [
      "100 200\n"
     ]
    },
    {
     "ename": "TypeError",
     "evalue": "unbound method fun() must be called with Emp instance as first argument (got int instance instead)",
     "output_type": "error",
     "traceback": [
      "\u001b[0;31m---------------------------------------------------------------------------\u001b[0m",
      "\u001b[0;31mTypeError\u001b[0m                                 Traceback (most recent call last)",
      "\u001b[0;32m<ipython-input-7-f6227d463590>\u001b[0m in \u001b[0;36m<module>\u001b[0;34m()\u001b[0m\n\u001b[1;32m      5\u001b[0m         \u001b[0;32mprint\u001b[0m \u001b[0;34m\"x=\"\u001b[0m\u001b[0;34m,\u001b[0m\u001b[0mx\u001b[0m\u001b[0;34m,\u001b[0m\u001b[0;34m\"y=\"\u001b[0m\u001b[0;34m,\u001b[0m\u001b[0my\u001b[0m\u001b[0;34m\u001b[0m\u001b[0m\n\u001b[1;32m      6\u001b[0m \u001b[0;32mprint\u001b[0m \u001b[0mEmp\u001b[0m\u001b[0;34m.\u001b[0m\u001b[0ma\u001b[0m\u001b[0;34m,\u001b[0m\u001b[0mEmp\u001b[0m\u001b[0;34m.\u001b[0m\u001b[0mb\u001b[0m\u001b[0;34m\u001b[0m\u001b[0m\n\u001b[0;32m----> 7\u001b[0;31m \u001b[0mEmp\u001b[0m\u001b[0;34m.\u001b[0m\u001b[0mfun\u001b[0m\u001b[0;34m(\u001b[0m\u001b[0;36m100\u001b[0m\u001b[0;34m,\u001b[0m\u001b[0;36m200\u001b[0m\u001b[0;34m)\u001b[0m\u001b[0;34m\u001b[0m\u001b[0m\n\u001b[0m",
      "\u001b[0;31mTypeError\u001b[0m: unbound method fun() must be called with Emp instance as first argument (got int instance instead)"
     ]
    }
   ],
   "source": [
    "class Emp:\n",
    "    a=100\n",
    "    b=200\n",
    "    def fun(x,y):\n",
    "        print \"x=\",x,\"y=\",y\n",
    "print Emp.a,Emp.b\n",
    "Emp.fun(100,200)"
   ]
  },
  {
   "cell_type": "code",
   "execution_count": 8,
   "metadata": {},
   "outputs": [
    {
     "name": "stdout",
     "output_type": "stream",
     "text": [
      "100 200\n",
      "x= <__main__.Emp instance at 0x7f8dc81b7e60> y= 200\n"
     ]
    }
   ],
   "source": [
    "class Emp:\n",
    "    a=100\n",
    "    b=200\n",
    "    def fun(x,y):\n",
    "        print \"x=\",x,\"y=\",y\n",
    "print Emp.a,Emp.b\n",
    "emp1 = Emp()\n",
    "Emp.fun(emp1,200)"
   ]
  },
  {
   "cell_type": "code",
   "execution_count": 9,
   "metadata": {},
   "outputs": [
    {
     "name": "stdout",
     "output_type": "stream",
     "text": [
      "100 200\n",
      "x= <__main__.Emp instance at 0x7f8dc81cf128> y= 200\n",
      "100\n",
      "200\n"
     ]
    }
   ],
   "source": [
    "class Emp:\n",
    "    a=100\n",
    "    b=200\n",
    "    def fun(x,y):\n",
    "        print \"x=\",x,\"y=\",y\n",
    "print Emp.a,Emp.b\n",
    "emp1 = Emp()\n",
    "Emp.fun(emp1,200)\n",
    "print emp1.a\n",
    "print emp1.b"
   ]
  },
  {
   "cell_type": "code",
   "execution_count": 10,
   "metadata": {},
   "outputs": [
    {
     "name": "stdout",
     "output_type": "stream",
     "text": [
      "100 200\n",
      "x= <__main__.Emp instance at 0x7f8dc81cf758> y= 200\n",
      "100\n",
      "200\n"
     ]
    },
    {
     "ename": "TypeError",
     "evalue": "fun() takes exactly 2 arguments (3 given)",
     "output_type": "error",
     "traceback": [
      "\u001b[0;31m---------------------------------------------------------------------------\u001b[0m",
      "\u001b[0;31mTypeError\u001b[0m                                 Traceback (most recent call last)",
      "\u001b[0;32m<ipython-input-10-6d66c97b8304>\u001b[0m in \u001b[0;36m<module>\u001b[0;34m()\u001b[0m\n\u001b[1;32m      9\u001b[0m \u001b[0;32mprint\u001b[0m \u001b[0memp1\u001b[0m\u001b[0;34m.\u001b[0m\u001b[0ma\u001b[0m\u001b[0;34m\u001b[0m\u001b[0m\n\u001b[1;32m     10\u001b[0m \u001b[0;32mprint\u001b[0m \u001b[0memp1\u001b[0m\u001b[0;34m.\u001b[0m\u001b[0mb\u001b[0m\u001b[0;34m\u001b[0m\u001b[0m\n\u001b[0;32m---> 11\u001b[0;31m \u001b[0memp1\u001b[0m\u001b[0;34m.\u001b[0m\u001b[0mfun\u001b[0m\u001b[0;34m(\u001b[0m\u001b[0;36m1000\u001b[0m\u001b[0;34m,\u001b[0m\u001b[0;36m2000\u001b[0m\u001b[0;34m)\u001b[0m\u001b[0;34m\u001b[0m\u001b[0m\n\u001b[0m",
      "\u001b[0;31mTypeError\u001b[0m: fun() takes exactly 2 arguments (3 given)"
     ]
    }
   ],
   "source": [
    "class Emp:\n",
    "    a=100\n",
    "    b=200\n",
    "    def fun(x,y):\n",
    "        print \"x=\",x,\"y=\",y\n",
    "print Emp.a,Emp.b\n",
    "emp1 = Emp()\n",
    "Emp.fun(emp1,200)\n",
    "print emp1.a\n",
    "print emp1.b\n",
    "emp1.fun(1000,2000)"
   ]
  },
  {
   "cell_type": "code",
   "execution_count": 11,
   "metadata": {},
   "outputs": [
    {
     "name": "stdout",
     "output_type": "stream",
     "text": [
      "100 200\n",
      "x= <__main__.Emp instance at 0x7f8dc81cf9e0> y= 200\n",
      "100\n",
      "200\n",
      "x= <__main__.Emp instance at 0x7f8dc81cf9e0> y= 2000\n"
     ]
    }
   ],
   "source": [
    "class Emp:\n",
    "    a=100\n",
    "    b=200\n",
    "    def fun(x,y):\n",
    "        print \"x=\",x,\"y=\",y\n",
    "print Emp.a,Emp.b\n",
    "emp1 = Emp()\n",
    "Emp.fun(emp1,200)\n",
    "print emp1.a\n",
    "print emp1.b\n",
    "emp1.fun(2000)"
   ]
  },
  {
   "cell_type": "code",
   "execution_count": 12,
   "metadata": {},
   "outputs": [
    {
     "name": "stdout",
     "output_type": "stream",
     "text": [
      "this is emp\n"
     ]
    }
   ],
   "source": [
    "def Emp():\n",
    "    print \"this is emp\"\n",
    "    return 10\n",
    "res=Emp()\n"
   ]
  },
  {
   "cell_type": "code",
   "execution_count": 13,
   "metadata": {
    "collapsed": true
   },
   "outputs": [],
   "source": [
    "class Emp:\n",
    "    \n",
    "    a=10\n",
    "    b=20\n",
    "res=Emp()\n"
   ]
  },
  {
   "cell_type": "code",
   "execution_count": 14,
   "metadata": {},
   "outputs": [
    {
     "name": "stdout",
     "output_type": "stream",
     "text": [
      "this is emp\n"
     ]
    }
   ],
   "source": [
    "def emp():\n",
    "    print \"this is emp\"\n",
    "    return 10\n",
    "res=emp()\n"
   ]
  },
  {
   "cell_type": "code",
   "execution_count": 15,
   "metadata": {},
   "outputs": [
    {
     "name": "stdout",
     "output_type": "stream",
     "text": [
      "apple\n"
     ]
    }
   ],
   "source": [
    "class Product:\n",
    "    name=\"apple\"\n",
    "    cost=20\n",
    "    discount=0\n",
    "mango = Product()\n",
    "print mango.name\n"
   ]
  },
  {
   "cell_type": "code",
   "execution_count": 16,
   "metadata": {},
   "outputs": [
    {
     "ename": "AttributeError",
     "evalue": "Product instance has no attribute 'name'",
     "output_type": "error",
     "traceback": [
      "\u001b[0;31m---------------------------------------------------------------------------\u001b[0m",
      "\u001b[0;31mAttributeError\u001b[0m                            Traceback (most recent call last)",
      "\u001b[0;32m<ipython-input-16-688240e15a82>\u001b[0m in \u001b[0;36m<module>\u001b[0;34m()\u001b[0m\n\u001b[1;32m      2\u001b[0m     \u001b[0mwarehouse\u001b[0m\u001b[0;34m=\u001b[0m\u001b[0;34m\"kp fruitmarket\"\u001b[0m\u001b[0;34m\u001b[0m\u001b[0m\n\u001b[1;32m      3\u001b[0m \u001b[0mmango\u001b[0m \u001b[0;34m=\u001b[0m \u001b[0mProduct\u001b[0m\u001b[0;34m(\u001b[0m\u001b[0;34m)\u001b[0m\u001b[0;34m\u001b[0m\u001b[0m\n\u001b[0;32m----> 4\u001b[0;31m \u001b[0;32mprint\u001b[0m \u001b[0mmango\u001b[0m\u001b[0;34m.\u001b[0m\u001b[0mname\u001b[0m\u001b[0;34m\u001b[0m\u001b[0m\n\u001b[0m",
      "\u001b[0;31mAttributeError\u001b[0m: Product instance has no attribute 'name'"
     ]
    }
   ],
   "source": [
    "class Product:\n",
    "    warehouse=\"kp fruitmarket\"\n",
    "mango = Product()\n",
    "print mango.name\n"
   ]
  },
  {
   "cell_type": "code",
   "execution_count": 19,
   "metadata": {},
   "outputs": [
    {
     "name": "stdout",
     "output_type": "stream",
     "text": [
      " banginpally Mango 20 2 kp fruitmarket\n"
     ]
    }
   ],
   "source": [
    "class Product:\n",
    "    warehouse=\"kp fruitmarket\"\n",
    "mango = Product()\n",
    "mango.name=\"banginpally Mango\"\n",
    "mango.cost=20\n",
    "mango.discount=2\n",
    "print mango.name,mango.cost,mango.discount, mango.warehouse\n"
   ]
  },
  {
   "cell_type": "code",
   "execution_count": 20,
   "metadata": {},
   "outputs": [
    {
     "name": "stdout",
     "output_type": "stream",
     "text": [
      "('banginpally Mango', 20, 2, 'kp fruitmarket')\n"
     ]
    }
   ],
   "source": [
    "class Product:\n",
    "    warehouse=\"kp fruitmarket\"\n",
    "    def get(x):\n",
    "        return x.name,x.cost,x.discount, x.warehouse\n",
    "mango = Product()\n",
    "mango.name=\"banginpally Mango\"\n",
    "mango.cost=20\n",
    "mango.discount=2\n",
    "#print mango.name,mango.cost,mango.discount, mango.warehouse\n",
    "print Product.get(mango)\n"
   ]
  },
  {
   "cell_type": "code",
   "execution_count": 21,
   "metadata": {},
   "outputs": [
    {
     "name": "stdout",
     "output_type": "stream",
     "text": [
      "('banginpally Mango', 20, 2, 'kp fruitmarket')\n",
      "('Orange', 10, 0.5, 'kp fruitmarket')\n"
     ]
    }
   ],
   "source": [
    "class Product:\n",
    "    warehouse=\"kp fruitmarket\"\n",
    "    def get(x):\n",
    "        return x.name,x.cost,x.discount, x.warehouse\n",
    "mango = Product()\n",
    "mango.name=\"banginpally Mango\"\n",
    "mango.cost=20\n",
    "mango.discount=2\n",
    "#print mango.name,mango.cost,mango.discount, mango.warehouse\n",
    "print Product.get(mango)\n",
    "orange=Product()\n",
    "orange.name=\"Orange\"\n",
    "orange.cost=10\n",
    "orange.discount=0.5\n",
    "print Product.get(orange)"
   ]
  },
  {
   "cell_type": "code",
   "execution_count": 22,
   "metadata": {},
   "outputs": [
    {
     "name": "stdout",
     "output_type": "stream",
     "text": [
      "('banginpally Mango', 20, 2, 'kp fruitmarket')\n",
      "('Orange', 10, 0.5, 'kp fruitmarket')\n"
     ]
    }
   ],
   "source": [
    "class Product:\n",
    "    warehouse=\"kp fruitmarket\"\n",
    "    def get(x):\n",
    "        return x.name,x.cost,x.discount, x.warehouse\n",
    "mango = Product()\n",
    "mango.name=\"banginpally Mango\"\n",
    "mango.cost=20\n",
    "mango.discount=2\n",
    "#print mango.name,mango.cost,mango.discount, mango.warehouse\n",
    "#print Product.get(mango)\n",
    "print mango.get()\n",
    "orange=Product()\n",
    "orange.name=\"Orange\"\n",
    "orange.cost=10\n",
    "orange.discount=0.5\n",
    "#print Product.get(orange)\n",
    "print orange.get()"
   ]
  },
  {
   "cell_type": "code",
   "execution_count": 1,
   "metadata": {},
   "outputs": [
    {
     "name": "stdout",
     "output_type": "stream",
     "text": [
      "Khyaathi\n",
      "maithrivanam\n"
     ]
    }
   ],
   "source": [
    "# class object\n",
    "# data object\n",
    "class Emp:\n",
    "    companyname=\"Khyaathi\"\n",
    "    companyaddress=\"maithrivanam\"\n",
    "    \n",
    "anil = Emp()\n",
    "pavan=Emp()\n",
    "anil.name=\"Anil kumar\"\n",
    "anil.age=23\n",
    "anil.sal=23456\n",
    "pavan.name=\"Pavan kumar\"\n",
    "pavan.age=24\n",
    "pavan.sal=34567\n",
    "print Emp.companyname\n",
    "print Emp.companyaddress"
   ]
  },
  {
   "cell_type": "code",
   "execution_count": 3,
   "metadata": {},
   "outputs": [
    {
     "name": "stdout",
     "output_type": "stream",
     "text": [
      "Khyaathi\n",
      "maithrivanam\n",
      "maithrivanam\n",
      "maithrivanam\n",
      "Pavan kumar\n",
      "Anil kumar\n"
     ]
    }
   ],
   "source": [
    "# class object\n",
    "# data object\n",
    "class Emp:\n",
    "    companyname=\"Khyaathi\"\n",
    "    companyaddress=\"maithrivanam\"\n",
    "    \n",
    "anil = Emp()\n",
    "pavan=Emp()\n",
    "anil.name=\"Anil kumar\"\n",
    "anil.age=23\n",
    "anil.sal=23456\n",
    "pavan.name=\"Pavan kumar\"\n",
    "pavan.age=24\n",
    "pavan.sal=34567\n",
    "print Emp.companyname\n",
    "print Emp.companyaddress\n",
    "print anil.companyaddress\n",
    "print pavan.companyaddress\n",
    "print pavan.name\n",
    "print anil.name"
   ]
  },
  {
   "cell_type": "code",
   "execution_count": 4,
   "metadata": {},
   "outputs": [
    {
     "name": "stdout",
     "output_type": "stream",
     "text": [
      "Khyaathi\n",
      "maithrivanam\n",
      "maithrivanam\n",
      "maithrivanam\n",
      "Pavan kumar\n",
      "Anil kumar\n"
     ]
    },
    {
     "ename": "AttributeError",
     "evalue": "class Emp has no attribute 'name'",
     "output_type": "error",
     "traceback": [
      "\u001b[0;31m---------------------------------------------------------------------------\u001b[0m",
      "\u001b[0;31mAttributeError\u001b[0m                            Traceback (most recent call last)",
      "\u001b[0;32m<ipython-input-4-57a2ddad9065>\u001b[0m in \u001b[0;36m<module>\u001b[0;34m()\u001b[0m\n\u001b[1;32m     19\u001b[0m \u001b[0;32mprint\u001b[0m \u001b[0mpavan\u001b[0m\u001b[0;34m.\u001b[0m\u001b[0mname\u001b[0m\u001b[0;34m\u001b[0m\u001b[0m\n\u001b[1;32m     20\u001b[0m \u001b[0;32mprint\u001b[0m \u001b[0manil\u001b[0m\u001b[0;34m.\u001b[0m\u001b[0mname\u001b[0m\u001b[0;34m\u001b[0m\u001b[0m\n\u001b[0;32m---> 21\u001b[0;31m \u001b[0;32mprint\u001b[0m \u001b[0mEmp\u001b[0m\u001b[0;34m.\u001b[0m\u001b[0mname\u001b[0m\u001b[0;34m\u001b[0m\u001b[0m\n\u001b[0m",
      "\u001b[0;31mAttributeError\u001b[0m: class Emp has no attribute 'name'"
     ]
    }
   ],
   "source": [
    "# class object\n",
    "# data object\n",
    "class Emp:\n",
    "    companyname=\"Khyaathi\"\n",
    "    companyaddress=\"maithrivanam\"\n",
    "    \n",
    "anil = Emp()\n",
    "pavan=Emp()\n",
    "anil.name=\"Anil kumar\"\n",
    "anil.age=23\n",
    "anil.sal=23456\n",
    "pavan.name=\"Pavan kumar\"\n",
    "pavan.age=24\n",
    "pavan.sal=34567\n",
    "print Emp.companyname\n",
    "print Emp.companyaddress\n",
    "print anil.companyaddress\n",
    "print pavan.companyaddress\n",
    "print pavan.name\n",
    "print anil.name\n",
    "print Emp.name"
   ]
  },
  {
   "cell_type": "code",
   "execution_count": 5,
   "metadata": {},
   "outputs": [
    {
     "name": "stdout",
     "output_type": "stream",
     "text": [
      "Anil kumar\n"
     ]
    },
    {
     "ename": "AttributeError",
     "evalue": "Emp instance has no attribute 'name'",
     "output_type": "error",
     "traceback": [
      "\u001b[0;31m---------------------------------------------------------------------------\u001b[0m",
      "\u001b[0;31mAttributeError\u001b[0m                            Traceback (most recent call last)",
      "\u001b[0;32m<ipython-input-5-f15db91099b9>\u001b[0m in \u001b[0;36m<module>\u001b[0;34m()\u001b[0m\n\u001b[1;32m      7\u001b[0m \u001b[0manil\u001b[0m\u001b[0;34m.\u001b[0m\u001b[0mname\u001b[0m\u001b[0;34m=\u001b[0m\u001b[0;34m\"Anil kumar\"\u001b[0m\u001b[0;34m\u001b[0m\u001b[0m\n\u001b[1;32m      8\u001b[0m \u001b[0;32mprint\u001b[0m \u001b[0manil\u001b[0m\u001b[0;34m.\u001b[0m\u001b[0mname\u001b[0m\u001b[0;34m\u001b[0m\u001b[0m\n\u001b[0;32m----> 9\u001b[0;31m \u001b[0;32mprint\u001b[0m \u001b[0mpavan\u001b[0m\u001b[0;34m.\u001b[0m\u001b[0mname\u001b[0m\u001b[0;34m\u001b[0m\u001b[0m\n\u001b[0m",
      "\u001b[0;31mAttributeError\u001b[0m: Emp instance has no attribute 'name'"
     ]
    }
   ],
   "source": [
    "class Emp:\n",
    "    companyname=\"Khyaathi\"\n",
    "    companyaddress=\"maithrivanam\"\n",
    "    \n",
    "anil = Emp()\n",
    "pavan=Emp()\n",
    "anil.name=\"Anil kumar\"\n",
    "print anil.name\n",
    "print pavan.name"
   ]
  },
  {
   "cell_type": "code",
   "execution_count": 6,
   "metadata": {},
   "outputs": [
    {
     "name": "stdout",
     "output_type": "stream",
     "text": [
      "('Anil kumar', 23, 23456, 'Khyaathi', 'maithrivanam')\n"
     ]
    }
   ],
   "source": [
    "class Emp:\n",
    "    companyname=\"Khyaathi\"\n",
    "    companyaddress=\"maithrivanam\"\n",
    "    def get(x):\n",
    "        return x.name, x.age,x.sal,x.companyname, x.companyaddress\n",
    "    \n",
    "anil = Emp()\n",
    "pavan=Emp()\n",
    "anil.name=\"Anil kumar\"\n",
    "anil.age=23\n",
    "anil.sal=23456\n",
    "pavan.name=\"Pavan kumar\"\n",
    "pavan.age=24\n",
    "pavan.sal=34567\n",
    "print Emp.get(anil)"
   ]
  },
  {
   "cell_type": "code",
   "execution_count": 7,
   "metadata": {},
   "outputs": [
    {
     "name": "stdout",
     "output_type": "stream",
     "text": [
      "('Anil kumar', 23, 23456, 'Khyaathi', 'maithrivanam')\n",
      "('Pavan kumar', 24, 34567, 'Khyaathi', 'maithrivanam')\n"
     ]
    }
   ],
   "source": [
    "class Emp:\n",
    "    companyname=\"Khyaathi\"\n",
    "    companyaddress=\"maithrivanam\"\n",
    "    def get(x):\n",
    "        return x.name, x.age,x.sal,x.companyname, x.companyaddress\n",
    "    \n",
    "anil = Emp()\n",
    "pavan=Emp()\n",
    "anil.name=\"Anil kumar\"\n",
    "anil.age=23\n",
    "anil.sal=23456\n",
    "pavan.name=\"Pavan kumar\"\n",
    "pavan.age=24\n",
    "pavan.sal=34567\n",
    "print Emp.get(anil)\n",
    "print Emp.get(pavan)"
   ]
  },
  {
   "cell_type": "code",
   "execution_count": 8,
   "metadata": {},
   "outputs": [
    {
     "name": "stdout",
     "output_type": "stream",
     "text": [
      "('Anil kumar', 23, 23456, 'Khyaathi', 'maithrivanam')\n",
      "('Pavan kumar', 24, 34567, 'Khyaathi', 'maithrivanam')\n"
     ]
    }
   ],
   "source": [
    "class Emp:\n",
    "    companyname=\"Khyaathi\"\n",
    "    companyaddress=\"maithrivanam\"\n",
    "    def get(x):\n",
    "        return x.name, x.age,x.sal,x.companyname, x.companyaddress\n",
    "    \n",
    "anil = Emp()\n",
    "pavan=Emp()\n",
    "anil.name=\"Anil kumar\"\n",
    "anil.age=23\n",
    "anil.sal=23456\n",
    "pavan.name=\"Pavan kumar\"\n",
    "pavan.age=24\n",
    "pavan.sal=34567\n",
    "#print Emp.get(anil)\n",
    "print anil.get()\n",
    "#print Emp.get(pavan)\n",
    "print pavan.get()"
   ]
  },
  {
   "cell_type": "code",
   "execution_count": 9,
   "metadata": {},
   "outputs": [
    {
     "name": "stdout",
     "output_type": "stream",
     "text": [
      "('Anil kumar', 23, 23456, 'Khyaathi', 'maithrivanam')\n",
      "('Pavan kumar', 24, 34567, 'Khyaathi', 'maithrivanam')\n"
     ]
    }
   ],
   "source": [
    "class Emp:\n",
    "    companyname=\"Khyaathi\"\n",
    "    companyaddress=\"maithrivanam\"\n",
    "    def get(self):\n",
    "        return self.name, self.age,self.sal,self.companyname, self.companyaddress\n",
    "    \n",
    "anil = Emp()\n",
    "pavan=Emp()\n",
    "anil.name=\"Anil kumar\"\n",
    "anil.age=23\n",
    "anil.sal=23456\n",
    "pavan.name=\"Pavan kumar\"\n",
    "pavan.age=24\n",
    "pavan.sal=34567\n",
    "print anil.get()\n",
    "print pavan.get()"
   ]
  },
  {
   "cell_type": "code",
   "execution_count": 10,
   "metadata": {},
   "outputs": [
    {
     "name": "stdout",
     "output_type": "stream",
     "text": [
      "('anil kumar', 23, 234567, 'Khyaathi', 'maithrivanam')\n",
      "('pavan kumar', 32, 4567890, 'Khyaathi', 'maithrivanam')\n"
     ]
    }
   ],
   "source": [
    "class Emp:\n",
    "    companyname=\"Khyaathi\"\n",
    "    companyaddress=\"maithrivanam\"\n",
    "    def set_data(self,e_name, e_age,e_sal):\n",
    "        self.name=e_name\n",
    "        self.age=e_age\n",
    "        self.sal=e_sal\n",
    "        \n",
    "    def get(self):\n",
    "        return self.name, self.age,self.sal,self.companyname, self.companyaddress\n",
    "    \n",
    "anil = Emp()\n",
    "pavan=Emp()\n",
    "anil.set_data(\"anil kumar\",23,234567)\n",
    "'''\n",
    "anil.name=\"Anil kumar\"\n",
    "anil.age=23\n",
    "anil.sal=23456\n",
    "'''\n",
    "'''\n",
    "pavan.name=\"Pavan kumar\"\n",
    "pavan.age=24\n",
    "pavan.sal=34567\n",
    "'''\n",
    "pavan.set_data(\"pavan kumar\",32,4567890)\n",
    "print anil.get()\n",
    "print pavan.get()"
   ]
  },
  {
   "cell_type": "code",
   "execution_count": 11,
   "metadata": {},
   "outputs": [
    {
     "name": "stdout",
     "output_type": "stream",
     "text": [
      "('anil kumar', 23, 234567, 'Khyaathi', 'maithrivanam')\n",
      "('pavan kumar', 32, 4567890, 'Khyaathi', 'maithrivanam')\n"
     ]
    }
   ],
   "source": [
    "class Emp:\n",
    "    companyname=\"Khyaathi\"\n",
    "    companyaddress=\"maithrivanam\"\n",
    "    def set_data(self,e_name, e_age,e_sal):\n",
    "        self.name=e_name\n",
    "        self.age=e_age\n",
    "        self.sal=e_sal\n",
    "        \n",
    "    def get(self):\n",
    "        return self.name, self.age,self.sal,self.companyname, self.companyaddress\n",
    "    \n",
    "anil = Emp()\n",
    "pavan=Emp()\n",
    "anil.set_data(\"anil kumar\",23,234567)\n",
    "pavan.set_data(\"pavan kumar\",32,4567890)\n",
    "print anil.get()\n",
    "print pavan.get()"
   ]
  },
  {
   "cell_type": "code",
   "execution_count": 12,
   "metadata": {},
   "outputs": [
    {
     "name": "stdout",
     "output_type": "stream",
     "text": [
      "('anil kumar', 23, 234567, 'Khyaathi', 'maithrivanam')\n",
      "('pavan kumar', 32, 4567890, 'Khyaathi', 'maithrivanam')\n"
     ]
    },
    {
     "ename": "AttributeError",
     "evalue": "Emp instance has no attribute 'name'",
     "output_type": "error",
     "traceback": [
      "\u001b[0;31m---------------------------------------------------------------------------\u001b[0m",
      "\u001b[0;31mAttributeError\u001b[0m                            Traceback (most recent call last)",
      "\u001b[0;32m<ipython-input-12-7178d9b11fba>\u001b[0m in \u001b[0;36m<module>\u001b[0;34m()\u001b[0m\n\u001b[1;32m     17\u001b[0m \u001b[0;32mprint\u001b[0m \u001b[0manil\u001b[0m\u001b[0;34m.\u001b[0m\u001b[0mget\u001b[0m\u001b[0;34m(\u001b[0m\u001b[0;34m)\u001b[0m\u001b[0;34m\u001b[0m\u001b[0m\n\u001b[1;32m     18\u001b[0m \u001b[0;32mprint\u001b[0m \u001b[0mpavan\u001b[0m\u001b[0;34m.\u001b[0m\u001b[0mget\u001b[0m\u001b[0;34m(\u001b[0m\u001b[0;34m)\u001b[0m\u001b[0;34m\u001b[0m\u001b[0m\n\u001b[0;32m---> 19\u001b[0;31m \u001b[0;32mprint\u001b[0m \u001b[0mjay\u001b[0m\u001b[0;34m.\u001b[0m\u001b[0mget\u001b[0m\u001b[0;34m(\u001b[0m\u001b[0;34m)\u001b[0m\u001b[0;34m\u001b[0m\u001b[0m\n\u001b[0m",
      "\u001b[0;32m<ipython-input-12-7178d9b11fba>\u001b[0m in \u001b[0;36mget\u001b[0;34m(self)\u001b[0m\n\u001b[1;32m      8\u001b[0m \u001b[0;34m\u001b[0m\u001b[0m\n\u001b[1;32m      9\u001b[0m     \u001b[0;32mdef\u001b[0m \u001b[0mget\u001b[0m\u001b[0;34m(\u001b[0m\u001b[0mself\u001b[0m\u001b[0;34m)\u001b[0m\u001b[0;34m:\u001b[0m\u001b[0;34m\u001b[0m\u001b[0m\n\u001b[0;32m---> 10\u001b[0;31m         \u001b[0;32mreturn\u001b[0m \u001b[0mself\u001b[0m\u001b[0;34m.\u001b[0m\u001b[0mname\u001b[0m\u001b[0;34m,\u001b[0m \u001b[0mself\u001b[0m\u001b[0;34m.\u001b[0m\u001b[0mage\u001b[0m\u001b[0;34m,\u001b[0m\u001b[0mself\u001b[0m\u001b[0;34m.\u001b[0m\u001b[0msal\u001b[0m\u001b[0;34m,\u001b[0m\u001b[0mself\u001b[0m\u001b[0;34m.\u001b[0m\u001b[0mcompanyname\u001b[0m\u001b[0;34m,\u001b[0m \u001b[0mself\u001b[0m\u001b[0;34m.\u001b[0m\u001b[0mcompanyaddress\u001b[0m\u001b[0;34m\u001b[0m\u001b[0m\n\u001b[0m\u001b[1;32m     11\u001b[0m \u001b[0;34m\u001b[0m\u001b[0m\n\u001b[1;32m     12\u001b[0m \u001b[0manil\u001b[0m \u001b[0;34m=\u001b[0m \u001b[0mEmp\u001b[0m\u001b[0;34m(\u001b[0m\u001b[0;34m)\u001b[0m\u001b[0;34m\u001b[0m\u001b[0m\n",
      "\u001b[0;31mAttributeError\u001b[0m: Emp instance has no attribute 'name'"
     ]
    }
   ],
   "source": [
    "class Emp:\n",
    "    companyname=\"Khyaathi\"\n",
    "    companyaddress=\"maithrivanam\"\n",
    "    def set_data(self,e_name, e_age,e_sal):\n",
    "        self.name=e_name\n",
    "        self.age=e_age\n",
    "        self.sal=e_sal\n",
    "        \n",
    "    def get(self):\n",
    "        return self.name, self.age,self.sal,self.companyname, self.companyaddress\n",
    "    \n",
    "anil = Emp()\n",
    "pavan=Emp()\n",
    "jay=Emp()\n",
    "anil.set_data(\"anil kumar\",23,234567)\n",
    "pavan.set_data(\"pavan kumar\",32,4567890)\n",
    "print anil.get()\n",
    "print pavan.get()\n",
    "print jay.get()"
   ]
  },
  {
   "cell_type": "code",
   "execution_count": 13,
   "metadata": {},
   "outputs": [
    {
     "name": "stdout",
     "output_type": "stream",
     "text": [
      "this is class\n"
     ]
    }
   ],
   "source": [
    "class Emp:\n",
    "    print \"this is class\"\n",
    "    def get(self):\n",
    "        print \"this is get\"\n",
    "    def __init__(self):\n",
    "        print \"this is init\""
   ]
  },
  {
   "cell_type": "code",
   "execution_count": 14,
   "metadata": {},
   "outputs": [
    {
     "name": "stdout",
     "output_type": "stream",
     "text": [
      "this is class\n",
      "this is init\n"
     ]
    }
   ],
   "source": [
    "class Emp:\n",
    "    print \"this is class\"\n",
    "    def get(self):\n",
    "        print \"this is get\"\n",
    "    def __init__(self):\n",
    "        print \"this is init\"\n",
    "anil=Emp()"
   ]
  },
  {
   "cell_type": "code",
   "execution_count": 15,
   "metadata": {},
   "outputs": [
    {
     "name": "stdout",
     "output_type": "stream",
     "text": [
      "this is class\n"
     ]
    }
   ],
   "source": [
    "class Emp:\n",
    "    print \"this is class\"\n",
    "    def get(self):\n",
    "        print \"this is get\"\n",
    "    def __init1__(self):\n",
    "        print \"this is init\"\n",
    "anil=Emp()"
   ]
  },
  {
   "cell_type": "code",
   "execution_count": 17,
   "metadata": {},
   "outputs": [
    {
     "name": "stdout",
     "output_type": "stream",
     "text": [
      "this is class\n",
      "this is init\n",
      "this is init\n",
      "this is get\n",
      "('anil kumar', 23, 5.6, 'Khyaathi', 'maithrivanam')\n",
      "this is get\n",
      "('pavan kumar', 32, 5.7, 'Khyaathi', 'maithrivanam')\n"
     ]
    }
   ],
   "source": [
    "class Emp:\n",
    "    print \"this is class\"\n",
    "    companyname=\"Khyaathi\"\n",
    "    companyaddress=\"maithrivanam\"\n",
    "    def get(self):\n",
    "        print \"this is get\"\n",
    "        return self.name, self.age,self.height,self.companyname, self.companyaddress\n",
    "    def __init__(self,e_name,e_age,e_height):\n",
    "        # constructor. To intialize the data while creating an instance.\n",
    "        print \"this is init\"\n",
    "        self.name=e_name\n",
    "        self.age=e_age\n",
    "        self.height=e_height\n",
    "anil=Emp(\"anil kumar\",23,5.6)\n",
    "pavan=Emp(\"pavan kumar\",32,5.7)\n",
    "print anil.get()\n",
    "print pavan.get()"
   ]
  },
  {
   "cell_type": "code",
   "execution_count": 18,
   "metadata": {},
   "outputs": [
    {
     "name": "stdout",
     "output_type": "stream",
     "text": [
      "this is class\n",
      "this is init\n",
      "this is init\n"
     ]
    },
    {
     "ename": "TypeError",
     "evalue": "__init__() takes exactly 4 arguments (1 given)",
     "output_type": "error",
     "traceback": [
      "\u001b[0;31m---------------------------------------------------------------------------\u001b[0m",
      "\u001b[0;31mTypeError\u001b[0m                                 Traceback (most recent call last)",
      "\u001b[0;32m<ipython-input-18-e9911b8eb128>\u001b[0m in \u001b[0;36m<module>\u001b[0;34m()\u001b[0m\n\u001b[1;32m     14\u001b[0m \u001b[0manil\u001b[0m\u001b[0;34m=\u001b[0m\u001b[0mEmp\u001b[0m\u001b[0;34m(\u001b[0m\u001b[0;34m\"anil kumar\"\u001b[0m\u001b[0;34m,\u001b[0m\u001b[0;36m23\u001b[0m\u001b[0;34m,\u001b[0m\u001b[0;36m5.6\u001b[0m\u001b[0;34m)\u001b[0m\u001b[0;34m\u001b[0m\u001b[0m\n\u001b[1;32m     15\u001b[0m \u001b[0mpavan\u001b[0m\u001b[0;34m=\u001b[0m\u001b[0mEmp\u001b[0m\u001b[0;34m(\u001b[0m\u001b[0;34m\"pavan kumar\"\u001b[0m\u001b[0;34m,\u001b[0m\u001b[0;36m32\u001b[0m\u001b[0;34m,\u001b[0m\u001b[0;36m5.7\u001b[0m\u001b[0;34m)\u001b[0m\u001b[0;34m\u001b[0m\u001b[0m\n\u001b[0;32m---> 16\u001b[0;31m \u001b[0mjay\u001b[0m\u001b[0;34m=\u001b[0m\u001b[0mEmp\u001b[0m\u001b[0;34m(\u001b[0m\u001b[0;34m)\u001b[0m\u001b[0;34m\u001b[0m\u001b[0m\n\u001b[0m\u001b[1;32m     17\u001b[0m \u001b[0;32mprint\u001b[0m \u001b[0manil\u001b[0m\u001b[0;34m.\u001b[0m\u001b[0mget\u001b[0m\u001b[0;34m(\u001b[0m\u001b[0;34m)\u001b[0m\u001b[0;34m\u001b[0m\u001b[0m\n\u001b[1;32m     18\u001b[0m \u001b[0;32mprint\u001b[0m \u001b[0mpavan\u001b[0m\u001b[0;34m.\u001b[0m\u001b[0mget\u001b[0m\u001b[0;34m(\u001b[0m\u001b[0;34m)\u001b[0m\u001b[0;34m\u001b[0m\u001b[0m\n",
      "\u001b[0;31mTypeError\u001b[0m: __init__() takes exactly 4 arguments (1 given)"
     ]
    }
   ],
   "source": [
    "class Emp:\n",
    "    print \"this is class\"\n",
    "    companyname=\"Khyaathi\"\n",
    "    companyaddress=\"maithrivanam\"\n",
    "    def get(self):\n",
    "        print \"this is get\"\n",
    "        return self.name, self.age,self.height,self.companyname, self.companyaddress\n",
    "    def __init__(self,e_name,e_age,e_height):\n",
    "        # constructor. To intialize the data while creating an instance.\n",
    "        print \"this is init\"\n",
    "        self.name=e_name\n",
    "        self.age=e_age\n",
    "        self.height=e_height\n",
    "anil=Emp(\"anil kumar\",23,5.6)\n",
    "pavan=Emp(\"pavan kumar\",32,5.7)\n",
    "jay=Emp()\n",
    "print anil.get()\n",
    "print pavan.get()"
   ]
  },
  {
   "cell_type": "code",
   "execution_count": null,
   "metadata": {
    "collapsed": true
   },
   "outputs": [],
   "source": []
  }
 ],
 "metadata": {
  "kernelspec": {
   "display_name": "Python 2",
   "language": "python",
   "name": "python2"
  },
  "language_info": {
   "codemirror_mode": {
    "name": "ipython",
    "version": 2
   },
   "file_extension": ".py",
   "mimetype": "text/x-python",
   "name": "python",
   "nbconvert_exporter": "python",
   "pygments_lexer": "ipython2",
   "version": "2.7.14"
  }
 },
 "nbformat": 4,
 "nbformat_minor": 2
}
